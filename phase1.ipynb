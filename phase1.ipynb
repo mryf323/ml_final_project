{
 "cells": [
  {
   "cell_type": "code",
   "execution_count": 1,
   "metadata": {
    "id": "uyBvpTEbpVd7"
   },
   "outputs": [],
   "source": [
    "import os\n",
    "import pickle\n",
    "import pandas as pd\n",
    "from gensim.models import KeyedVectors\n",
    "import numpy as np\n",
    "from sklearn import svm\n",
    "from sklearn.linear_model import LogisticRegression\n",
    "from sklearn.neighbors import KNeighborsClassifier\n",
    "from sklearn.feature_extraction.text import CountVectorizer, TfidfVectorizer\n",
    "from sklearn.experimental import enable_halving_search_cv\n",
    "from sklearn.model_selection import StratifiedKFold, GridSearchCV, train_test_split, HalvingGridSearchCV\n",
    "from sklearn.neural_network import MLPClassifier\n",
    "\n",
    "from data import preprocess_data, vectorize_data, load_dataset\n",
    "from evaluation import analysis, evaluate_models_with_data\n",
    "from w2v_adapter import Word2VecAdapter\n",
    "\n",
    "import advanced_processor_chain_factory\n",
    "import simple_processor_chain_factory"
   ]
  },
  {
   "cell_type": "code",
   "execution_count": 2,
   "metadata": {
    "colab": {
     "base_uri": "https://localhost:8080/",
     "height": 204
    },
    "id": "rbwKnQ_7pVd-",
    "outputId": "b8013ac1-b885-4a32-b7ea-bce748fe8786",
    "pycharm": {
     "name": "#%%\n"
    }
   },
   "outputs": [],
   "source": [
    "dataset = load_dataset()\n",
    "DEBUG = False"
   ]
  },
  {
   "cell_type": "markdown",
   "metadata": {
    "id": "FlLV5NUR7iIW"
   },
   "source": [
    "# Inspection of Pre-Processing Approaches"
   ]
  },
  {
   "cell_type": "code",
   "execution_count": 3,
   "metadata": {
    "pycharm": {
     "name": "#%%\n"
    }
   },
   "outputs": [],
   "source": [
    "models = {'logistic regression' : LogisticRegression(class_weight = 'balanced', n_jobs=-1),\n",
    "          'svm' : svm.LinearSVC(),\n",
    "          'knn' : KNeighborsClassifier(n_neighbors=300, n_jobs=-1)\n",
    "         }"
   ]
  },
  {
   "cell_type": "markdown",
   "metadata": {
    "id": "aPeK64al7mZK"
   },
   "source": [
    "## Without Pre-Process"
   ]
  },
  {
   "cell_type": "code",
   "execution_count": 4,
   "metadata": {
    "colab": {
     "base_uri": "https://localhost:8080/"
    },
    "id": "6sjNr9zlpVeA",
    "outputId": "527b9a8c-4163-4ce5-fd47-009dcd4895f2",
    "pycharm": {
     "name": "#%%\n"
    }
   },
   "outputs": [
    {
     "name": "stdout",
     "output_type": "stream",
     "text": [
      "------Evaluating logistic regression------\n",
      "Report: Classification\n",
      "               precision    recall  f1-score   support\n",
      "\n",
      "    positive       0.87      0.86      0.87      5563\n",
      "    negative       0.87      0.88      0.87      5687\n",
      "\n",
      "    accuracy                           0.87     11250\n",
      "   macro avg       0.87      0.87      0.87     11250\n",
      "weighted avg       0.87      0.87      0.87     11250\n",
      "\n",
      "Matrix: Confusion\n",
      " [[4796  767]\n",
      " [ 696 4991]]\n",
      "Accuracy:\n",
      " 0.8699555555555556\n",
      "------Evaluating svm------\n"
     ]
    },
    {
     "name": "stderr",
     "output_type": "stream",
     "text": [
      "/home/mryf/PycharmProjects/ml_final_project/venv/lib/python3.6/site-packages/sklearn/svm/_base.py:986: ConvergenceWarning: Liblinear failed to converge, increase the number of iterations.\n",
      "  \"the number of iterations.\", ConvergenceWarning)\n"
     ]
    },
    {
     "name": "stdout",
     "output_type": "stream",
     "text": [
      "Report: Classification\n",
      "               precision    recall  f1-score   support\n",
      "\n",
      "    positive       0.87      0.87      0.87      5563\n",
      "    negative       0.87      0.87      0.87      5687\n",
      "\n",
      "    accuracy                           0.87     11250\n",
      "   macro avg       0.87      0.87      0.87     11250\n",
      "weighted avg       0.87      0.87      0.87     11250\n",
      "\n",
      "Matrix: Confusion\n",
      " [[4815  748]\n",
      " [ 736 4951]]\n",
      "Accuracy:\n",
      " 0.8680888888888889\n",
      "------Evaluating knn------\n",
      "Report: Classification\n",
      "               precision    recall  f1-score   support\n",
      "\n",
      "    positive       0.74      0.50      0.60      5563\n",
      "    negative       0.63      0.83      0.72      5687\n",
      "\n",
      "    accuracy                           0.67     11250\n",
      "   macro avg       0.69      0.67      0.66     11250\n",
      "weighted avg       0.69      0.67      0.66     11250\n",
      "\n",
      "Matrix: Confusion\n",
      " [[2787 2776]\n",
      " [ 969 4718]]\n",
      "Accuracy:\n",
      " 0.6671111111111111\n"
     ]
    }
   ],
   "source": [
    "evaluate_models_with_data(models, *vectorize_data(*preprocess_data(dataset, debug=DEBUG), CountVectorizer(max_features=2000)))"
   ]
  },
  {
   "cell_type": "markdown",
   "metadata": {
    "id": "GU6tcyNX7sCw"
   },
   "source": [
    "## Simple Pre-Process"
   ]
  },
  {
   "cell_type": "code",
   "execution_count": 5,
   "metadata": {
    "colab": {
     "base_uri": "https://localhost:8080/"
    },
    "id": "f3Pga30JpVeB",
    "outputId": "bb8d049c-3280-438d-c91d-823a2e747b2e"
   },
   "outputs": [
    {
     "data": {
      "text/plain": "Pandas Apply:   0%|          | 0/45000 [00:00<?, ?it/s]",
      "application/vnd.jupyter.widget-view+json": {
       "version_major": 2,
       "version_minor": 0,
       "model_id": "c3ca9ff814184abdad6371286b5c43df"
      }
     },
     "metadata": {},
     "output_type": "display_data"
    },
    {
     "name": "stdout",
     "output_type": "stream",
     "text": [
      "------Evaluating logistic regression------\n",
      "Report: Classification\n",
      "               precision    recall  f1-score   support\n",
      "\n",
      "    positive       0.87      0.86      0.86      5563\n",
      "    negative       0.87      0.87      0.87      5687\n",
      "\n",
      "    accuracy                           0.87     11250\n",
      "   macro avg       0.87      0.87      0.87     11250\n",
      "weighted avg       0.87      0.87      0.87     11250\n",
      "\n",
      "Matrix: Confusion\n",
      " [[4793  770]\n",
      " [ 727 4960]]\n",
      "Accuracy:\n",
      " 0.8669333333333333\n",
      "------Evaluating svm------\n"
     ]
    },
    {
     "name": "stderr",
     "output_type": "stream",
     "text": [
      "/home/mryf/PycharmProjects/ml_final_project/venv/lib/python3.6/site-packages/sklearn/svm/_base.py:986: ConvergenceWarning: Liblinear failed to converge, increase the number of iterations.\n",
      "  \"the number of iterations.\", ConvergenceWarning)\n"
     ]
    },
    {
     "name": "stdout",
     "output_type": "stream",
     "text": [
      "Report: Classification\n",
      "               precision    recall  f1-score   support\n",
      "\n",
      "    positive       0.89      0.83      0.86      5563\n",
      "    negative       0.84      0.90      0.87      5687\n",
      "\n",
      "    accuracy                           0.86     11250\n",
      "   macro avg       0.87      0.86      0.86     11250\n",
      "weighted avg       0.86      0.86      0.86     11250\n",
      "\n",
      "Matrix: Confusion\n",
      " [[4610  953]\n",
      " [ 583 5104]]\n",
      "Accuracy:\n",
      " 0.8634666666666667\n",
      "------Evaluating knn------\n",
      "Report: Classification\n",
      "               precision    recall  f1-score   support\n",
      "\n",
      "    positive       0.75      0.47      0.57      5563\n",
      "    negative       0.62      0.85      0.72      5687\n",
      "\n",
      "    accuracy                           0.66     11250\n",
      "   macro avg       0.68      0.66      0.64     11250\n",
      "weighted avg       0.68      0.66      0.65     11250\n",
      "\n",
      "Matrix: Confusion\n",
      " [[2592 2971]\n",
      " [ 868 4819]]\n",
      "Accuracy:\n",
      " 0.6587555555555555\n"
     ]
    }
   ],
   "source": [
    "evaluate_models_with_data(models,\n",
    "                          *vectorize_data(\n",
    "                              *preprocess_data(dataset, processor_chain=simple_processor_chain_factory.create(), debug=DEBUG),\n",
    "                              CountVectorizer(max_features=2000)))"
   ]
  },
  {
   "cell_type": "markdown",
   "metadata": {
    "id": "nN5nTx7T74Ox"
   },
   "source": [
    "## Pre-Process with Stemmimg"
   ]
  },
  {
   "cell_type": "code",
   "execution_count": 6,
   "metadata": {
    "colab": {
     "base_uri": "https://localhost:8080/"
    },
    "id": "m7QhNjp0pVeB",
    "outputId": "5057e1c8-3d61-4e6e-d4f2-934ee6f93084"
   },
   "outputs": [
    {
     "data": {
      "text/plain": "Pandas Apply:   0%|          | 0/45000 [00:00<?, ?it/s]",
      "application/vnd.jupyter.widget-view+json": {
       "version_major": 2,
       "version_minor": 0,
       "model_id": "ce3aa3e9bd044ecd8e57e9d98991701a"
      }
     },
     "metadata": {},
     "output_type": "display_data"
    },
    {
     "name": "stdout",
     "output_type": "stream",
     "text": [
      "------Evaluating logistic regression------\n",
      "Report: Classification\n",
      "               precision    recall  f1-score   support\n",
      "\n",
      "    positive       0.86      0.86      0.86      5563\n",
      "    negative       0.86      0.86      0.86      5687\n",
      "\n",
      "    accuracy                           0.86     11250\n",
      "   macro avg       0.86      0.86      0.86     11250\n",
      "weighted avg       0.86      0.86      0.86     11250\n",
      "\n",
      "Matrix: Confusion\n",
      " [[4777  786]\n",
      " [ 773 4914]]\n",
      "Accuracy:\n",
      " 0.8614222222222222\n",
      "------Evaluating svm------\n"
     ]
    },
    {
     "name": "stderr",
     "output_type": "stream",
     "text": [
      "/home/mryf/PycharmProjects/ml_final_project/venv/lib/python3.6/site-packages/sklearn/svm/_base.py:986: ConvergenceWarning: Liblinear failed to converge, increase the number of iterations.\n",
      "  \"the number of iterations.\", ConvergenceWarning)\n"
     ]
    },
    {
     "name": "stdout",
     "output_type": "stream",
     "text": [
      "Report: Classification\n",
      "               precision    recall  f1-score   support\n",
      "\n",
      "    positive       0.86      0.86      0.86      5563\n",
      "    negative       0.87      0.86      0.86      5687\n",
      "\n",
      "    accuracy                           0.86     11250\n",
      "   macro avg       0.86      0.86      0.86     11250\n",
      "weighted avg       0.86      0.86      0.86     11250\n",
      "\n",
      "Matrix: Confusion\n",
      " [[4801  762]\n",
      " [ 785 4902]]\n",
      "Accuracy:\n",
      " 0.8624888888888889\n",
      "------Evaluating knn------\n",
      "Report: Classification\n",
      "               precision    recall  f1-score   support\n",
      "\n",
      "    positive       0.74      0.70      0.72      5563\n",
      "    negative       0.72      0.76      0.74      5687\n",
      "\n",
      "    accuracy                           0.73     11250\n",
      "   macro avg       0.73      0.73      0.73     11250\n",
      "weighted avg       0.73      0.73      0.73     11250\n",
      "\n",
      "Matrix: Confusion\n",
      " [[3876 1687]\n",
      " [1350 4337]]\n",
      "Accuracy:\n",
      " 0.7300444444444445\n"
     ]
    }
   ],
   "source": [
    "evaluate_models_with_data(models,\n",
    "                          *vectorize_data(\n",
    "                              *preprocess_data(dataset, processor_chain=advanced_processor_chain_factory.create('stem'),\n",
    "                                               debug=DEBUG),\n",
    "                              CountVectorizer(max_features=2000)))"
   ]
  },
  {
   "cell_type": "markdown",
   "metadata": {},
   "source": [
    "## Pre-Process with Lemmitization"
   ]
  },
  {
   "cell_type": "code",
   "execution_count": 7,
   "metadata": {
    "pycharm": {
     "name": "#%%\n"
    }
   },
   "outputs": [
    {
     "data": {
      "text/plain": "Pandas Apply:   0%|          | 0/45000 [00:00<?, ?it/s]",
      "application/vnd.jupyter.widget-view+json": {
       "version_major": 2,
       "version_minor": 0,
       "model_id": "1bac4f054a414e8a983a1c250d7f5ccf"
      }
     },
     "metadata": {},
     "output_type": "display_data"
    }
   ],
   "source": [
    "X, Y = preprocess_data(dataset, processor_chain=advanced_processor_chain_factory.create('lem'), debug=DEBUG)\n",
    "X_train, X_test, Y_train, Y_test = train_test_split(X, Y, random_state=11)\n",
    "del dataset"
   ]
  },
  {
   "cell_type": "code",
   "execution_count": 8,
   "metadata": {
    "pycharm": {
     "name": "#%%\n"
    }
   },
   "outputs": [],
   "source": [
    "vectorizer = CountVectorizer(max_features=2000)\n",
    "X_train_bow = vectorizer.fit_transform(X_train)\n",
    "X_test_bow = vectorizer.transform(X_test)\n",
    "pickle.dump(vectorizer, open('cnt_vect.pkl', 'wb'))"
   ]
  },
  {
   "cell_type": "code",
   "execution_count": 9,
   "metadata": {
    "pycharm": {
     "name": "#%%\n"
    }
   },
   "outputs": [
    {
     "name": "stdout",
     "output_type": "stream",
     "text": [
      "------Evaluating logistic regression------\n",
      "Report: Classification\n",
      "               precision    recall  f1-score   support\n",
      "\n",
      "    positive       0.87      0.86      0.86      5563\n",
      "    negative       0.87      0.87      0.87      5687\n",
      "\n",
      "    accuracy                           0.87     11250\n",
      "   macro avg       0.87      0.87      0.87     11250\n",
      "weighted avg       0.87      0.87      0.87     11250\n",
      "\n",
      "Matrix: Confusion\n",
      " [[4791  772]\n",
      " [ 738 4949]]\n",
      "Accuracy:\n",
      " 0.8657777777777778\n",
      "------Evaluating svm------\n"
     ]
    },
    {
     "name": "stderr",
     "output_type": "stream",
     "text": [
      "/home/mryf/PycharmProjects/ml_final_project/venv/lib/python3.6/site-packages/sklearn/svm/_base.py:986: ConvergenceWarning: Liblinear failed to converge, increase the number of iterations.\n",
      "  \"the number of iterations.\", ConvergenceWarning)\n"
     ]
    },
    {
     "name": "stdout",
     "output_type": "stream",
     "text": [
      "Report: Classification\n",
      "               precision    recall  f1-score   support\n",
      "\n",
      "    positive       0.87      0.85      0.86      5563\n",
      "    negative       0.85      0.88      0.87      5687\n",
      "\n",
      "    accuracy                           0.86     11250\n",
      "   macro avg       0.86      0.86      0.86     11250\n",
      "weighted avg       0.86      0.86      0.86     11250\n",
      "\n",
      "Matrix: Confusion\n",
      " [[4701  862]\n",
      " [ 673 5014]]\n",
      "Accuracy:\n",
      " 0.8635555555555555\n",
      "------Evaluating knn------\n",
      "Report: Classification\n",
      "               precision    recall  f1-score   support\n",
      "\n",
      "    positive       0.74      0.68      0.71      5563\n",
      "    negative       0.71      0.77      0.74      5687\n",
      "\n",
      "    accuracy                           0.72     11250\n",
      "   macro avg       0.72      0.72      0.72     11250\n",
      "weighted avg       0.72      0.72      0.72     11250\n",
      "\n",
      "Matrix: Confusion\n",
      " [[3781 1782]\n",
      " [1332 4355]]\n",
      "Accuracy:\n",
      " 0.7232\n"
     ]
    }
   ],
   "source": [
    "evaluate_models_with_data(models, X_train_bow, X_test_bow, Y_train, Y_test)"
   ]
  },
  {
   "cell_type": "code",
   "execution_count": 10,
   "metadata": {
    "pycharm": {
     "name": "#%%\n"
    }
   },
   "outputs": [],
   "source": [
    "del models"
   ]
  },
  {
   "cell_type": "markdown",
   "metadata": {
    "id": "29jDFYxW8IEQ"
   },
   "source": [
    "# Compare W2V and BoW with Their Best Tuned Hyper-parameters"
   ]
  },
  {
   "cell_type": "code",
   "execution_count": 11,
   "metadata": {
    "pycharm": {
     "name": "#%%\n"
    }
   },
   "outputs": [],
   "source": [
    "kfold = StratifiedKFold(n_splits=5)\n",
    "general_grid_params = {'verbose' : 1, 'cv' : kfold, 'n_jobs' : -1, 'scoring' : 'f1'}\n",
    "\n",
    "logistic_grid = {\n",
    "    'penalty':['l2'],\n",
    "    'C':[1, 300, 500, 700, 900, 2000],\n",
    "    'class_weight':['balanced'],\n",
    "    'solver':['saga'],\n",
    "    'n_jobs':[-1],\n",
    "    'max_iter':[1000],\n",
    "}\n",
    "\n",
    "svc_grid = {\n",
    "    'kernel' : ['linear', 'rbf'],\n",
    "    'C':[0.1, 1, 500, 1000],\n",
    "}\n",
    "\n",
    "knn_grid = {\n",
    "    'n_neighbors' : [1, 100, 300, 500, 700, 900],\n",
    "    'n_jobs' : [-1]\n",
    "}\n",
    "\n",
    "cols2show = ['mean_test_score','rank_test_score',]\n",
    "\n",
    "logistic_cols = ['param_C'] + cols2show \n",
    "svc_cols = ['param_kernel', 'param_C', 'iter', 'n_resources'] + cols2show \n",
    "knn_cols = ['param_n_neighbors', 'iter', 'n_resources'] + cols2show "
   ]
  },
  {
   "cell_type": "markdown",
   "metadata": {
    "pycharm": {
     "name": "#%% md\n"
    }
   },
   "source": [
    "## BoW"
   ]
  },
  {
   "cell_type": "markdown",
   "metadata": {},
   "source": [
    "### Logistic Regression"
   ]
  },
  {
   "cell_type": "code",
   "execution_count": 12,
   "metadata": {
    "pycharm": {
     "name": "#%%\n"
    }
   },
   "outputs": [
    {
     "name": "stdout",
     "output_type": "stream",
     "text": [
      "Fitting 5 folds for each of 6 candidates, totalling 30 fits\n",
      "Best Score: 0.8659501024379079\n",
      "Best Params: {'C': 1, 'class_weight': 'balanced', 'max_iter': 1000, 'n_jobs': -1, 'penalty': 'l2', 'solver': 'saga'}\n"
     ]
    },
    {
     "name": "stderr",
     "output_type": "stream",
     "text": [
      "/home/mryf/PycharmProjects/ml_final_project/venv/lib/python3.6/site-packages/sklearn/linear_model/_sag.py:329: ConvergenceWarning: The max_iter was reached which means the coef_ did not converge\n",
      "  \"the coef_ did not converge\", ConvergenceWarning)\n"
     ]
    },
    {
     "data": {
      "text/plain": "  param_C  mean_test_score  rank_test_score\n0       1         0.865950                1\n1     300         0.864508                2\n2     500         0.864508                2\n3     700         0.864508                2\n4     900         0.864508                2\n5    2000         0.864508                2",
      "text/html": "<div>\n<style scoped>\n    .dataframe tbody tr th:only-of-type {\n        vertical-align: middle;\n    }\n\n    .dataframe tbody tr th {\n        vertical-align: top;\n    }\n\n    .dataframe thead th {\n        text-align: right;\n    }\n</style>\n<table border=\"1\" class=\"dataframe\">\n  <thead>\n    <tr style=\"text-align: right;\">\n      <th></th>\n      <th>param_C</th>\n      <th>mean_test_score</th>\n      <th>rank_test_score</th>\n    </tr>\n  </thead>\n  <tbody>\n    <tr>\n      <th>0</th>\n      <td>1</td>\n      <td>0.865950</td>\n      <td>1</td>\n    </tr>\n    <tr>\n      <th>1</th>\n      <td>300</td>\n      <td>0.864508</td>\n      <td>2</td>\n    </tr>\n    <tr>\n      <th>2</th>\n      <td>500</td>\n      <td>0.864508</td>\n      <td>2</td>\n    </tr>\n    <tr>\n      <th>3</th>\n      <td>700</td>\n      <td>0.864508</td>\n      <td>2</td>\n    </tr>\n    <tr>\n      <th>4</th>\n      <td>900</td>\n      <td>0.864508</td>\n      <td>2</td>\n    </tr>\n    <tr>\n      <th>5</th>\n      <td>2000</td>\n      <td>0.864508</td>\n      <td>2</td>\n    </tr>\n  </tbody>\n</table>\n</div>"
     },
     "execution_count": 12,
     "metadata": {},
     "output_type": "execute_result"
    }
   ],
   "source": [
    "bow_log = LogisticRegression()\n",
    "bow_log = GridSearchCV(estimator=bow_log, param_grid=logistic_grid, **general_grid_params)\n",
    "bow_log.fit(X_train_bow, Y_train)\n",
    "print(f'Best Score: {bow_log.best_score_}')\n",
    "print(f'Best Params: {bow_log.best_params_}')\n",
    "pd.DataFrame(bow_log.cv_results_)[logistic_cols]"
   ]
  },
  {
   "cell_type": "code",
   "execution_count": 13,
   "metadata": {
    "pycharm": {
     "name": "#%%\n"
    }
   },
   "outputs": [
    {
     "name": "stdout",
     "output_type": "stream",
     "text": [
      "Report: Classification\n",
      "               precision    recall  f1-score   support\n",
      "\n",
      "    positive       0.87      0.86      0.86      5563\n",
      "    negative       0.86      0.87      0.87      5687\n",
      "\n",
      "    accuracy                           0.87     11250\n",
      "   macro avg       0.87      0.87      0.87     11250\n",
      "weighted avg       0.87      0.87      0.87     11250\n",
      "\n",
      "Matrix: Confusion\n",
      " [[4789  774]\n",
      " [ 739 4948]]\n",
      "Accuracy:\n",
      " 0.8655111111111111\n"
     ]
    }
   ],
   "source": [
    "bow_log_score = analysis(Y_test, bow_log.predict(X_test_bow))"
   ]
  },
  {
   "cell_type": "markdown",
   "metadata": {},
   "source": [
    "### SVM"
   ]
  },
  {
   "cell_type": "code",
   "execution_count": 14,
   "metadata": {
    "pycharm": {
     "name": "#%%\n"
    }
   },
   "outputs": [
    {
     "name": "stdout",
     "output_type": "stream",
     "text": [
      "Best Score: 0.866309996068062\n",
      "Best Params: {'C': 1, 'kernel': 'rbf'}\n"
     ]
    },
    {
     "data": {
      "text/plain": "   param_kernel param_C  iter  n_resources  mean_test_score  rank_test_score\n0        linear     0.1     0         4218         0.798469               11\n1           rbf     0.1     0         4218         0.735624               15\n2        linear       1     0         4218         0.771711               14\n3           rbf       1     0         4218         0.821592                8\n4        linear     500     0         4218         0.772941               12\n5           rbf     500     0         4218         0.809133                9\n6        linear    1000     0         4218         0.772941               12\n7           rbf    1000     0         4218         0.809133                9\n8        linear     0.1     1         8436         0.834505                7\n9           rbf     500     1         8436         0.834895                5\n10          rbf    1000     1         8436         0.834895                5\n11          rbf       1     1         8436         0.847243                3\n12          rbf    1000     2        16872         0.844582                4\n13          rbf       1     2        16872         0.859245                2\n14          rbf       1     3        33744         0.866310                1",
      "text/html": "<div>\n<style scoped>\n    .dataframe tbody tr th:only-of-type {\n        vertical-align: middle;\n    }\n\n    .dataframe tbody tr th {\n        vertical-align: top;\n    }\n\n    .dataframe thead th {\n        text-align: right;\n    }\n</style>\n<table border=\"1\" class=\"dataframe\">\n  <thead>\n    <tr style=\"text-align: right;\">\n      <th></th>\n      <th>param_kernel</th>\n      <th>param_C</th>\n      <th>iter</th>\n      <th>n_resources</th>\n      <th>mean_test_score</th>\n      <th>rank_test_score</th>\n    </tr>\n  </thead>\n  <tbody>\n    <tr>\n      <th>0</th>\n      <td>linear</td>\n      <td>0.1</td>\n      <td>0</td>\n      <td>4218</td>\n      <td>0.798469</td>\n      <td>11</td>\n    </tr>\n    <tr>\n      <th>1</th>\n      <td>rbf</td>\n      <td>0.1</td>\n      <td>0</td>\n      <td>4218</td>\n      <td>0.735624</td>\n      <td>15</td>\n    </tr>\n    <tr>\n      <th>2</th>\n      <td>linear</td>\n      <td>1</td>\n      <td>0</td>\n      <td>4218</td>\n      <td>0.771711</td>\n      <td>14</td>\n    </tr>\n    <tr>\n      <th>3</th>\n      <td>rbf</td>\n      <td>1</td>\n      <td>0</td>\n      <td>4218</td>\n      <td>0.821592</td>\n      <td>8</td>\n    </tr>\n    <tr>\n      <th>4</th>\n      <td>linear</td>\n      <td>500</td>\n      <td>0</td>\n      <td>4218</td>\n      <td>0.772941</td>\n      <td>12</td>\n    </tr>\n    <tr>\n      <th>5</th>\n      <td>rbf</td>\n      <td>500</td>\n      <td>0</td>\n      <td>4218</td>\n      <td>0.809133</td>\n      <td>9</td>\n    </tr>\n    <tr>\n      <th>6</th>\n      <td>linear</td>\n      <td>1000</td>\n      <td>0</td>\n      <td>4218</td>\n      <td>0.772941</td>\n      <td>12</td>\n    </tr>\n    <tr>\n      <th>7</th>\n      <td>rbf</td>\n      <td>1000</td>\n      <td>0</td>\n      <td>4218</td>\n      <td>0.809133</td>\n      <td>9</td>\n    </tr>\n    <tr>\n      <th>8</th>\n      <td>linear</td>\n      <td>0.1</td>\n      <td>1</td>\n      <td>8436</td>\n      <td>0.834505</td>\n      <td>7</td>\n    </tr>\n    <tr>\n      <th>9</th>\n      <td>rbf</td>\n      <td>500</td>\n      <td>1</td>\n      <td>8436</td>\n      <td>0.834895</td>\n      <td>5</td>\n    </tr>\n    <tr>\n      <th>10</th>\n      <td>rbf</td>\n      <td>1000</td>\n      <td>1</td>\n      <td>8436</td>\n      <td>0.834895</td>\n      <td>5</td>\n    </tr>\n    <tr>\n      <th>11</th>\n      <td>rbf</td>\n      <td>1</td>\n      <td>1</td>\n      <td>8436</td>\n      <td>0.847243</td>\n      <td>3</td>\n    </tr>\n    <tr>\n      <th>12</th>\n      <td>rbf</td>\n      <td>1000</td>\n      <td>2</td>\n      <td>16872</td>\n      <td>0.844582</td>\n      <td>4</td>\n    </tr>\n    <tr>\n      <th>13</th>\n      <td>rbf</td>\n      <td>1</td>\n      <td>2</td>\n      <td>16872</td>\n      <td>0.859245</td>\n      <td>2</td>\n    </tr>\n    <tr>\n      <th>14</th>\n      <td>rbf</td>\n      <td>1</td>\n      <td>3</td>\n      <td>33744</td>\n      <td>0.866310</td>\n      <td>1</td>\n    </tr>\n  </tbody>\n</table>\n</div>"
     },
     "execution_count": 14,
     "metadata": {},
     "output_type": "execute_result"
    }
   ],
   "source": [
    "bow_svm = svm.SVC()\n",
    "bow_svm = HalvingGridSearchCV(estimator=bow_svm, param_grid=svc_grid, cv = 3, n_jobs= -1, scoring='f1', factor=2)\n",
    "bow_svm.fit(X_train_bow, Y_train)\n",
    "print(f'Best Score: {bow_svm.best_score_}')\n",
    "print(f'Best Params: {bow_svm.best_params_}')\n",
    "pd.DataFrame(bow_svm.cv_results_)[svc_cols]"
   ]
  },
  {
   "cell_type": "code",
   "execution_count": 15,
   "metadata": {
    "pycharm": {
     "name": "#%%\n"
    }
   },
   "outputs": [
    {
     "name": "stdout",
     "output_type": "stream",
     "text": [
      "Report: Classification\n",
      "               precision    recall  f1-score   support\n",
      "\n",
      "    positive       0.88      0.85      0.87      5563\n",
      "    negative       0.86      0.89      0.87      5687\n",
      "\n",
      "    accuracy                           0.87     11250\n",
      "   macro avg       0.87      0.87      0.87     11250\n",
      "weighted avg       0.87      0.87      0.87     11250\n",
      "\n",
      "Matrix: Confusion\n",
      " [[4753  810]\n",
      " [ 645 5042]]\n",
      "Accuracy:\n",
      " 0.8706666666666667\n"
     ]
    }
   ],
   "source": [
    "bow_svm_score = analysis(Y_test, bow_svm.predict(X_test_bow))"
   ]
  },
  {
   "cell_type": "markdown",
   "metadata": {},
   "source": [
    "### KNN"
   ]
  },
  {
   "cell_type": "code",
   "execution_count": 16,
   "metadata": {
    "pycharm": {
     "name": "#%%\n"
    }
   },
   "outputs": [
    {
     "name": "stdout",
     "output_type": "stream",
     "text": [
      "Best Score: 0.7368442255189845\n",
      "Best Params: {'n_jobs': -1, 'n_neighbors': 300}\n"
     ]
    },
    {
     "data": {
      "text/plain": "   param_n_neighbors  iter  n_resources  mean_test_score  rank_test_score\n0                  1     0         8437         0.587065               11\n1                100     0         8437         0.723721                4\n2                300     0         8437         0.714575                7\n3                500     0         8437         0.711323                9\n4                700     0         8437         0.714279                8\n5                900     0         8437         0.718755                5\n6                300     1        16874         0.727412                2\n7                900     1        16874         0.707700               10\n8                100     1        16874         0.724890                3\n9                100     2        33748         0.718356                6\n10               300     2        33748         0.736844                1",
      "text/html": "<div>\n<style scoped>\n    .dataframe tbody tr th:only-of-type {\n        vertical-align: middle;\n    }\n\n    .dataframe tbody tr th {\n        vertical-align: top;\n    }\n\n    .dataframe thead th {\n        text-align: right;\n    }\n</style>\n<table border=\"1\" class=\"dataframe\">\n  <thead>\n    <tr style=\"text-align: right;\">\n      <th></th>\n      <th>param_n_neighbors</th>\n      <th>iter</th>\n      <th>n_resources</th>\n      <th>mean_test_score</th>\n      <th>rank_test_score</th>\n    </tr>\n  </thead>\n  <tbody>\n    <tr>\n      <th>0</th>\n      <td>1</td>\n      <td>0</td>\n      <td>8437</td>\n      <td>0.587065</td>\n      <td>11</td>\n    </tr>\n    <tr>\n      <th>1</th>\n      <td>100</td>\n      <td>0</td>\n      <td>8437</td>\n      <td>0.723721</td>\n      <td>4</td>\n    </tr>\n    <tr>\n      <th>2</th>\n      <td>300</td>\n      <td>0</td>\n      <td>8437</td>\n      <td>0.714575</td>\n      <td>7</td>\n    </tr>\n    <tr>\n      <th>3</th>\n      <td>500</td>\n      <td>0</td>\n      <td>8437</td>\n      <td>0.711323</td>\n      <td>9</td>\n    </tr>\n    <tr>\n      <th>4</th>\n      <td>700</td>\n      <td>0</td>\n      <td>8437</td>\n      <td>0.714279</td>\n      <td>8</td>\n    </tr>\n    <tr>\n      <th>5</th>\n      <td>900</td>\n      <td>0</td>\n      <td>8437</td>\n      <td>0.718755</td>\n      <td>5</td>\n    </tr>\n    <tr>\n      <th>6</th>\n      <td>300</td>\n      <td>1</td>\n      <td>16874</td>\n      <td>0.727412</td>\n      <td>2</td>\n    </tr>\n    <tr>\n      <th>7</th>\n      <td>900</td>\n      <td>1</td>\n      <td>16874</td>\n      <td>0.707700</td>\n      <td>10</td>\n    </tr>\n    <tr>\n      <th>8</th>\n      <td>100</td>\n      <td>1</td>\n      <td>16874</td>\n      <td>0.724890</td>\n      <td>3</td>\n    </tr>\n    <tr>\n      <th>9</th>\n      <td>100</td>\n      <td>2</td>\n      <td>33748</td>\n      <td>0.718356</td>\n      <td>6</td>\n    </tr>\n    <tr>\n      <th>10</th>\n      <td>300</td>\n      <td>2</td>\n      <td>33748</td>\n      <td>0.736844</td>\n      <td>1</td>\n    </tr>\n  </tbody>\n</table>\n</div>"
     },
     "execution_count": 16,
     "metadata": {},
     "output_type": "execute_result"
    }
   ],
   "source": [
    "bow_knn = KNeighborsClassifier()\n",
    "bow_knn = HalvingGridSearchCV(estimator=bow_knn, param_grid=knn_grid, cv = 3, scoring='f1', factor=2)\n",
    "bow_knn.fit(X_train_bow, Y_train)\n",
    "print(f'Best Score: {bow_knn.best_score_}')\n",
    "print(f'Best Params: {bow_knn.best_params_}')\n",
    "pd.DataFrame(bow_knn.cv_results_)[knn_cols]"
   ]
  },
  {
   "cell_type": "code",
   "execution_count": 17,
   "metadata": {
    "pycharm": {
     "name": "#%%\n"
    }
   },
   "outputs": [
    {
     "name": "stdout",
     "output_type": "stream",
     "text": [
      "Report: Classification\n",
      "               precision    recall  f1-score   support\n",
      "\n",
      "    positive       0.88      0.85      0.87      5563\n",
      "    negative       0.86      0.89      0.87      5687\n",
      "\n",
      "    accuracy                           0.87     11250\n",
      "   macro avg       0.87      0.87      0.87     11250\n",
      "weighted avg       0.87      0.87      0.87     11250\n",
      "\n",
      "Matrix: Confusion\n",
      " [[4753  810]\n",
      " [ 645 5042]]\n",
      "Accuracy:\n",
      " 0.8706666666666667\n"
     ]
    }
   ],
   "source": [
    "bow_knn_score = analysis(Y_test, bow_svm.predict(X_test_bow))"
   ]
  },
  {
   "cell_type": "markdown",
   "metadata": {
    "pycharm": {
     "name": "#%% md\n"
    }
   },
   "source": [
    "## W2V"
   ]
  },
  {
   "cell_type": "code",
   "execution_count": 18,
   "metadata": {
    "colab": {
     "base_uri": "https://localhost:8080/"
    },
    "id": "d4hXhrjvwZkA",
    "outputId": "5d6a9200-df85-4f4b-99cb-cf42fdaa9168",
    "pycharm": {
     "name": "#%%\n"
    }
   },
   "outputs": [
    {
     "data": {
      "text/plain": "Pandas Apply:   0%|          | 0/33750 [00:00<?, ?it/s]",
      "application/vnd.jupyter.widget-view+json": {
       "version_major": 2,
       "version_minor": 0,
       "model_id": "b199447d33c1412193198c0ab701ae57"
      }
     },
     "metadata": {},
     "output_type": "display_data"
    },
    {
     "data": {
      "text/plain": "Pandas Apply:   0%|          | 0/33750 [00:00<?, ?it/s]",
      "application/vnd.jupyter.widget-view+json": {
       "version_major": 2,
       "version_minor": 0,
       "model_id": "70f7e1a2f7374dc698ead581c017b14a"
      }
     },
     "metadata": {},
     "output_type": "display_data"
    },
    {
     "data": {
      "text/plain": "Pandas Apply:   0%|          | 0/11250 [00:00<?, ?it/s]",
      "application/vnd.jupyter.widget-view+json": {
       "version_major": 2,
       "version_minor": 0,
       "model_id": "dea4bcca1f764fc79a3c37d9421cbbbc"
      }
     },
     "metadata": {},
     "output_type": "display_data"
    }
   ],
   "source": [
    "if os.path.isfile('w2v.kv'):\n",
    "    vectorizer = Word2VecAdapter(pre_trained_model=KeyedVectors.load('w2v.kv'))\n",
    "else:\n",
    "    vectorizer = Word2VecAdapter()\n",
    "\n",
    "X_train_w2v = vectorizer.fit_transform(X_train)\n",
    "X_test_w2v = vectorizer.transform(X_test)\n",
    "\n",
    "if not os.path.isfile('w2v.kv'):\n",
    "     vectorizer.wv.save('w2v.kv')"
   ]
  },
  {
   "cell_type": "markdown",
   "metadata": {},
   "source": [
    "### Logistic Regression"
   ]
  },
  {
   "cell_type": "code",
   "execution_count": 19,
   "metadata": {
    "pycharm": {
     "name": "#%%\n"
    }
   },
   "outputs": [
    {
     "name": "stdout",
     "output_type": "stream",
     "text": [
      "Fitting 5 folds for each of 6 candidates, totalling 30 fits\n",
      "Best Score: 0.8685783640980057\n",
      "Best Params: {'C': 300, 'class_weight': 'balanced', 'max_iter': 1000, 'n_jobs': -1, 'penalty': 'l2', 'solver': 'saga'}\n"
     ]
    },
    {
     "data": {
      "text/plain": "  param_C  mean_test_score  rank_test_score\n0       1         0.864422                6\n1     300         0.868578                1\n2     500         0.868552                4\n3     700         0.868553                3\n4     900         0.868578                1\n5    2000         0.868552                4",
      "text/html": "<div>\n<style scoped>\n    .dataframe tbody tr th:only-of-type {\n        vertical-align: middle;\n    }\n\n    .dataframe tbody tr th {\n        vertical-align: top;\n    }\n\n    .dataframe thead th {\n        text-align: right;\n    }\n</style>\n<table border=\"1\" class=\"dataframe\">\n  <thead>\n    <tr style=\"text-align: right;\">\n      <th></th>\n      <th>param_C</th>\n      <th>mean_test_score</th>\n      <th>rank_test_score</th>\n    </tr>\n  </thead>\n  <tbody>\n    <tr>\n      <th>0</th>\n      <td>1</td>\n      <td>0.864422</td>\n      <td>6</td>\n    </tr>\n    <tr>\n      <th>1</th>\n      <td>300</td>\n      <td>0.868578</td>\n      <td>1</td>\n    </tr>\n    <tr>\n      <th>2</th>\n      <td>500</td>\n      <td>0.868552</td>\n      <td>4</td>\n    </tr>\n    <tr>\n      <th>3</th>\n      <td>700</td>\n      <td>0.868553</td>\n      <td>3</td>\n    </tr>\n    <tr>\n      <th>4</th>\n      <td>900</td>\n      <td>0.868578</td>\n      <td>1</td>\n    </tr>\n    <tr>\n      <th>5</th>\n      <td>2000</td>\n      <td>0.868552</td>\n      <td>4</td>\n    </tr>\n  </tbody>\n</table>\n</div>"
     },
     "execution_count": 19,
     "metadata": {},
     "output_type": "execute_result"
    }
   ],
   "source": [
    "w2v_log = LogisticRegression()\n",
    "w2v_log = GridSearchCV(estimator=w2v_log, param_grid=logistic_grid, **general_grid_params)\n",
    "w2v_log.fit(X_train_w2v, Y_train)\n",
    "print(f'Best Score: {w2v_log.best_score_}')\n",
    "print(f'Best Params: {w2v_log.best_params_}')\n",
    "pd.DataFrame(w2v_log.cv_results_)[logistic_cols]"
   ]
  },
  {
   "cell_type": "code",
   "execution_count": 20,
   "metadata": {
    "pycharm": {
     "name": "#%%\n"
    }
   },
   "outputs": [
    {
     "name": "stdout",
     "output_type": "stream",
     "text": [
      "Report: Classification\n",
      "               precision    recall  f1-score   support\n",
      "\n",
      "    positive       0.86      0.86      0.86      5563\n",
      "    negative       0.86      0.87      0.86      5687\n",
      "\n",
      "    accuracy                           0.86     11250\n",
      "   macro avg       0.86      0.86      0.86     11250\n",
      "weighted avg       0.86      0.86      0.86     11250\n",
      "\n",
      "Matrix: Confusion\n",
      " [[4786  777]\n",
      " [ 762 4925]]\n",
      "Accuracy:\n",
      " 0.8632\n"
     ]
    }
   ],
   "source": [
    "w2v_log_score = analysis(Y_test, w2v_log.predict(X_test_w2v))"
   ]
  },
  {
   "cell_type": "markdown",
   "metadata": {},
   "source": [
    "### SVM"
   ]
  },
  {
   "cell_type": "code",
   "execution_count": 21,
   "metadata": {
    "pycharm": {
     "name": "#%%\n"
    }
   },
   "outputs": [
    {
     "name": "stdout",
     "output_type": "stream",
     "text": [
      "Best Score: 0.8695247250442834\n",
      "Best Params: {'C': 1, 'kernel': 'rbf'}\n"
     ]
    },
    {
     "data": {
      "text/plain": "   param_kernel param_C  iter  n_resources  mean_test_score  rank_test_score\n0        linear     0.1     0         4218         0.861348                6\n1           rbf     0.1     0         4218         0.847107               13\n2        linear       1     0         4218         0.859765                8\n3           rbf       1     0         4218         0.864830                3\n4        linear     500     0         4218         0.853402               11\n5           rbf     500     0         4218         0.828638               14\n6        linear    1000     0         4218         0.849289               12\n7           rbf    1000     0         4218         0.828638               14\n8        linear     500     1         8436         0.857591               10\n9        linear       1     1         8436         0.861521                5\n10       linear     0.1     1         8436         0.858445                9\n11          rbf       1     1         8436         0.862306                4\n12       linear       1     2        16872         0.860425                7\n13          rbf       1     2        16872         0.864907                2\n14          rbf       1     3        33744         0.869525                1",
      "text/html": "<div>\n<style scoped>\n    .dataframe tbody tr th:only-of-type {\n        vertical-align: middle;\n    }\n\n    .dataframe tbody tr th {\n        vertical-align: top;\n    }\n\n    .dataframe thead th {\n        text-align: right;\n    }\n</style>\n<table border=\"1\" class=\"dataframe\">\n  <thead>\n    <tr style=\"text-align: right;\">\n      <th></th>\n      <th>param_kernel</th>\n      <th>param_C</th>\n      <th>iter</th>\n      <th>n_resources</th>\n      <th>mean_test_score</th>\n      <th>rank_test_score</th>\n    </tr>\n  </thead>\n  <tbody>\n    <tr>\n      <th>0</th>\n      <td>linear</td>\n      <td>0.1</td>\n      <td>0</td>\n      <td>4218</td>\n      <td>0.861348</td>\n      <td>6</td>\n    </tr>\n    <tr>\n      <th>1</th>\n      <td>rbf</td>\n      <td>0.1</td>\n      <td>0</td>\n      <td>4218</td>\n      <td>0.847107</td>\n      <td>13</td>\n    </tr>\n    <tr>\n      <th>2</th>\n      <td>linear</td>\n      <td>1</td>\n      <td>0</td>\n      <td>4218</td>\n      <td>0.859765</td>\n      <td>8</td>\n    </tr>\n    <tr>\n      <th>3</th>\n      <td>rbf</td>\n      <td>1</td>\n      <td>0</td>\n      <td>4218</td>\n      <td>0.864830</td>\n      <td>3</td>\n    </tr>\n    <tr>\n      <th>4</th>\n      <td>linear</td>\n      <td>500</td>\n      <td>0</td>\n      <td>4218</td>\n      <td>0.853402</td>\n      <td>11</td>\n    </tr>\n    <tr>\n      <th>5</th>\n      <td>rbf</td>\n      <td>500</td>\n      <td>0</td>\n      <td>4218</td>\n      <td>0.828638</td>\n      <td>14</td>\n    </tr>\n    <tr>\n      <th>6</th>\n      <td>linear</td>\n      <td>1000</td>\n      <td>0</td>\n      <td>4218</td>\n      <td>0.849289</td>\n      <td>12</td>\n    </tr>\n    <tr>\n      <th>7</th>\n      <td>rbf</td>\n      <td>1000</td>\n      <td>0</td>\n      <td>4218</td>\n      <td>0.828638</td>\n      <td>14</td>\n    </tr>\n    <tr>\n      <th>8</th>\n      <td>linear</td>\n      <td>500</td>\n      <td>1</td>\n      <td>8436</td>\n      <td>0.857591</td>\n      <td>10</td>\n    </tr>\n    <tr>\n      <th>9</th>\n      <td>linear</td>\n      <td>1</td>\n      <td>1</td>\n      <td>8436</td>\n      <td>0.861521</td>\n      <td>5</td>\n    </tr>\n    <tr>\n      <th>10</th>\n      <td>linear</td>\n      <td>0.1</td>\n      <td>1</td>\n      <td>8436</td>\n      <td>0.858445</td>\n      <td>9</td>\n    </tr>\n    <tr>\n      <th>11</th>\n      <td>rbf</td>\n      <td>1</td>\n      <td>1</td>\n      <td>8436</td>\n      <td>0.862306</td>\n      <td>4</td>\n    </tr>\n    <tr>\n      <th>12</th>\n      <td>linear</td>\n      <td>1</td>\n      <td>2</td>\n      <td>16872</td>\n      <td>0.860425</td>\n      <td>7</td>\n    </tr>\n    <tr>\n      <th>13</th>\n      <td>rbf</td>\n      <td>1</td>\n      <td>2</td>\n      <td>16872</td>\n      <td>0.864907</td>\n      <td>2</td>\n    </tr>\n    <tr>\n      <th>14</th>\n      <td>rbf</td>\n      <td>1</td>\n      <td>3</td>\n      <td>33744</td>\n      <td>0.869525</td>\n      <td>1</td>\n    </tr>\n  </tbody>\n</table>\n</div>"
     },
     "execution_count": 21,
     "metadata": {},
     "output_type": "execute_result"
    }
   ],
   "source": [
    "w2v_svm = svm.SVC()\n",
    "w2v_svm = HalvingGridSearchCV(estimator=w2v_svm, param_grid=svc_grid, cv = 3, n_jobs= -1, scoring='f1', factor=2)\n",
    "w2v_svm.fit(X_train_w2v, Y_train)\n",
    "print(f'Best Score: {w2v_svm.best_score_}')\n",
    "print(f'Best Params: {w2v_svm.best_params_}')\n",
    "pd.DataFrame(w2v_svm.cv_results_)[svc_cols]"
   ]
  },
  {
   "cell_type": "code",
   "execution_count": 22,
   "metadata": {
    "pycharm": {
     "name": "#%%\n"
    }
   },
   "outputs": [
    {
     "name": "stdout",
     "output_type": "stream",
     "text": [
      "Report: Classification\n",
      "               precision    recall  f1-score   support\n",
      "\n",
      "    positive       0.87      0.86      0.87      5563\n",
      "    negative       0.87      0.87      0.87      5687\n",
      "\n",
      "    accuracy                           0.87     11250\n",
      "   macro avg       0.87      0.87      0.87     11250\n",
      "weighted avg       0.87      0.87      0.87     11250\n",
      "\n",
      "Matrix: Confusion\n",
      " [[4795  768]\n",
      " [ 719 4968]]\n",
      "Accuracy:\n",
      " 0.8678222222222223\n"
     ]
    }
   ],
   "source": [
    "w2v_svm_score = analysis(Y_test, w2v_svm.predict(X_test_w2v))"
   ]
  },
  {
   "cell_type": "markdown",
   "metadata": {
    "pycharm": {
     "name": "#%% md\n"
    }
   },
   "source": [
    "### KNN"
   ]
  },
  {
   "cell_type": "code",
   "execution_count": 23,
   "metadata": {
    "pycharm": {
     "name": "#%%\n"
    }
   },
   "outputs": [
    {
     "name": "stdout",
     "output_type": "stream",
     "text": [
      "Best Score: 0.8091766744682971\n",
      "Best Params: {'n_jobs': -1, 'n_neighbors': 100}\n"
     ]
    },
    {
     "data": {
      "text/plain": "   param_n_neighbors  iter  n_resources  mean_test_score  rank_test_score\n0                  1     0         8437         0.736049                9\n1                100     0         8437         0.776512                5\n2                300     0         8437         0.757849                7\n3                500     0         8437         0.742171                8\n4                700     0         8437         0.734681               10\n5                900     0         8437         0.723424               11\n6                500     1        16874         0.772370                6\n7                300     1        16874         0.782319                4\n8                100     1        16874         0.800457                2\n9                300     2        33748         0.794627                3\n10               100     2        33748         0.809177                1",
      "text/html": "<div>\n<style scoped>\n    .dataframe tbody tr th:only-of-type {\n        vertical-align: middle;\n    }\n\n    .dataframe tbody tr th {\n        vertical-align: top;\n    }\n\n    .dataframe thead th {\n        text-align: right;\n    }\n</style>\n<table border=\"1\" class=\"dataframe\">\n  <thead>\n    <tr style=\"text-align: right;\">\n      <th></th>\n      <th>param_n_neighbors</th>\n      <th>iter</th>\n      <th>n_resources</th>\n      <th>mean_test_score</th>\n      <th>rank_test_score</th>\n    </tr>\n  </thead>\n  <tbody>\n    <tr>\n      <th>0</th>\n      <td>1</td>\n      <td>0</td>\n      <td>8437</td>\n      <td>0.736049</td>\n      <td>9</td>\n    </tr>\n    <tr>\n      <th>1</th>\n      <td>100</td>\n      <td>0</td>\n      <td>8437</td>\n      <td>0.776512</td>\n      <td>5</td>\n    </tr>\n    <tr>\n      <th>2</th>\n      <td>300</td>\n      <td>0</td>\n      <td>8437</td>\n      <td>0.757849</td>\n      <td>7</td>\n    </tr>\n    <tr>\n      <th>3</th>\n      <td>500</td>\n      <td>0</td>\n      <td>8437</td>\n      <td>0.742171</td>\n      <td>8</td>\n    </tr>\n    <tr>\n      <th>4</th>\n      <td>700</td>\n      <td>0</td>\n      <td>8437</td>\n      <td>0.734681</td>\n      <td>10</td>\n    </tr>\n    <tr>\n      <th>5</th>\n      <td>900</td>\n      <td>0</td>\n      <td>8437</td>\n      <td>0.723424</td>\n      <td>11</td>\n    </tr>\n    <tr>\n      <th>6</th>\n      <td>500</td>\n      <td>1</td>\n      <td>16874</td>\n      <td>0.772370</td>\n      <td>6</td>\n    </tr>\n    <tr>\n      <th>7</th>\n      <td>300</td>\n      <td>1</td>\n      <td>16874</td>\n      <td>0.782319</td>\n      <td>4</td>\n    </tr>\n    <tr>\n      <th>8</th>\n      <td>100</td>\n      <td>1</td>\n      <td>16874</td>\n      <td>0.800457</td>\n      <td>2</td>\n    </tr>\n    <tr>\n      <th>9</th>\n      <td>300</td>\n      <td>2</td>\n      <td>33748</td>\n      <td>0.794627</td>\n      <td>3</td>\n    </tr>\n    <tr>\n      <th>10</th>\n      <td>100</td>\n      <td>2</td>\n      <td>33748</td>\n      <td>0.809177</td>\n      <td>1</td>\n    </tr>\n  </tbody>\n</table>\n</div>"
     },
     "execution_count": 23,
     "metadata": {},
     "output_type": "execute_result"
    }
   ],
   "source": [
    "w2v_knn = KNeighborsClassifier()\n",
    "w2v_knn = HalvingGridSearchCV(estimator=w2v_knn, param_grid=knn_grid, cv = 3, scoring='f1', factor=2)\n",
    "w2v_knn.fit(X_train_w2v, Y_train)\n",
    "print(f'Best Score: {w2v_knn.best_score_}')\n",
    "print(f'Best Params: {w2v_knn.best_params_}')\n",
    "pd.DataFrame(w2v_knn.cv_results_)[knn_cols]"
   ]
  },
  {
   "cell_type": "code",
   "execution_count": 24,
   "metadata": {
    "pycharm": {
     "name": "#%%\n"
    }
   },
   "outputs": [
    {
     "name": "stdout",
     "output_type": "stream",
     "text": [
      "Report: Classification\n",
      "               precision    recall  f1-score   support\n",
      "\n",
      "    positive       0.87      0.86      0.87      5563\n",
      "    negative       0.87      0.87      0.87      5687\n",
      "\n",
      "    accuracy                           0.87     11250\n",
      "   macro avg       0.87      0.87      0.87     11250\n",
      "weighted avg       0.87      0.87      0.87     11250\n",
      "\n",
      "Matrix: Confusion\n",
      " [[4795  768]\n",
      " [ 719 4968]]\n",
      "Accuracy:\n",
      " 0.8678222222222223\n"
     ]
    }
   ],
   "source": [
    "w2v_knn_score = analysis(Y_test, w2v_svm.predict(X_test_w2v))"
   ]
  },
  {
   "cell_type": "markdown",
   "metadata": {
    "pycharm": {
     "name": "#%% md\n"
    }
   },
   "source": [
    "## Comparison"
   ]
  },
  {
   "cell_type": "code",
   "execution_count": 25,
   "metadata": {
    "pycharm": {
     "name": "#%%\n"
    }
   },
   "outputs": [
    {
     "name": "stdout",
     "output_type": "stream",
     "text": [
      "For classifier LR, best BoW score is 0.8673853974932071, whereas best W2V score is 0.864869611028185\n",
      "So BoW is better with parameters {'C': 1, 'class_weight': 'balanced', 'max_iter': 1000, 'n_jobs': -1, 'penalty': 'l2', 'solver': 'saga'}\n",
      "For classifier SVM, best BoW score is 0.8739058843920617, whereas best W2V score is 0.8698240392191194\n",
      "So BoW is better with parameters {'C': 1, 'kernel': 'rbf'}\n",
      "For classifier KNN, best BoW score is 0.8739058843920617, whereas best W2V score is 0.8698240392191194\n",
      "So BoW is better with parameters {'n_jobs': -1, 'n_neighbors': 300}\n"
     ]
    }
   ],
   "source": [
    "summary = {\n",
    "    'LR': {'BoW': {'model':bow_log, 'score': bow_log_score}, 'W2V': {'model': w2v_log, 'score': w2v_log_score}},\n",
    "    'SVM' : {'BoW': {'model':bow_svm, 'score': bow_svm_score}, 'W2V': {'model': w2v_svm, 'score': w2v_svm_score}},\n",
    "    'KNN': {'BoW': {'model' :bow_knn, 'score':bow_knn_score}, 'W2V': {'model':w2v_knn, 'score':w2v_knn_score}},\n",
    "  }\n",
    "\n",
    "for name, values in summary.items():\n",
    "    print(f'For classifier {name}, best BoW score is {values[\"BoW\"][\"score\"]}, whereas best W2V score is {values[\"W2V\"][\"score\"]}')\n",
    "    best_model = 'BoW' if values['BoW']['score'] > values['W2V']['score'] else 'W2V'\n",
    "    print(f'So {best_model} is better with parameters {values[best_model][\"model\"].best_params_}')\n",
    "    filename = name + '.pkl'\n",
    "    with open(filename, 'wb') as f:\n",
    "        pickle.dump(values[best_model]['model'], f)\n",
    "\n",
    "del summary, bow_log, w2v_log, bow_svm, w2v_svm, bow_knn, w2v_knn"
   ]
  },
  {
   "cell_type": "markdown",
   "metadata": {
    "pycharm": {
     "name": "#%% md\n"
    }
   },
   "source": [
    "# MLP"
   ]
  },
  {
   "cell_type": "code",
   "execution_count": 26,
   "metadata": {
    "pycharm": {
     "name": "#%%\n"
    }
   },
   "outputs": [],
   "source": [
    "mlp_grid = {\n",
    "    'hidden_layer_sizes': [(500, 250), (1000, 250), (500, 250, 250), (1000, 500, 250), (500, 250, 250, 5),\n",
    "                           (1000, 500, 250, 5)],\n",
    "    'activation':['tanh', 'relu']\n",
    "}\n",
    "def eval_mlp(X_train, X_test, Y_train, Y_test):\n",
    "    best_f1 = -1\n",
    "    best_model = None\n",
    "    for sizes in mlp_grid['hidden_layer_sizes']:\n",
    "        for act in mlp_grid['activation']:\n",
    "            m = MLPClassifier(hidden_layer_sizes=sizes, activation=act, solver='sgd', alpha=1,\n",
    "                                    learning_rate='adaptive', max_iter=10)\n",
    "            m.fit(X_train, Y_train)\n",
    "            print(f'Model config: hidden_layer_sizes={sizes}, activation={act}')\n",
    "            f1 = analysis(Y_test, m.predict(X_test))\n",
    "            if f1 > best_f1:\n",
    "                best_model = m\n",
    "                best_f1 = f1\n",
    "    return best_f1, best_model"
   ]
  },
  {
   "cell_type": "markdown",
   "metadata": {
    "pycharm": {
     "name": "#%% md\n"
    }
   },
   "source": [
    "## W2V"
   ]
  },
  {
   "cell_type": "code",
   "execution_count": 27,
   "metadata": {
    "pycharm": {
     "name": "#%%\n"
    }
   },
   "outputs": [
    {
     "name": "stderr",
     "output_type": "stream",
     "text": [
      "/home/mryf/PycharmProjects/ml_final_project/venv/lib/python3.6/site-packages/sklearn/neural_network/_multilayer_perceptron.py:617: ConvergenceWarning: Stochastic Optimizer: Maximum iterations (10) reached and the optimization hasn't converged yet.\n",
      "  % self.max_iter, ConvergenceWarning)\n"
     ]
    },
    {
     "name": "stdout",
     "output_type": "stream",
     "text": [
      "Model config: hidden_layer_sizes=(500, 250), activation=tanh\n",
      "Report: Classification\n",
      "               precision    recall  f1-score   support\n",
      "\n",
      "    positive       0.85      0.85      0.85      5563\n",
      "    negative       0.85      0.85      0.85      5687\n",
      "\n",
      "    accuracy                           0.85     11250\n",
      "   macro avg       0.85      0.85      0.85     11250\n",
      "weighted avg       0.85      0.85      0.85     11250\n",
      "\n",
      "Matrix: Confusion\n",
      " [[4726  837]\n",
      " [ 840 4847]]\n",
      "Accuracy:\n",
      " 0.8509333333333333\n"
     ]
    },
    {
     "name": "stderr",
     "output_type": "stream",
     "text": [
      "/home/mryf/PycharmProjects/ml_final_project/venv/lib/python3.6/site-packages/sklearn/neural_network/_multilayer_perceptron.py:617: ConvergenceWarning: Stochastic Optimizer: Maximum iterations (10) reached and the optimization hasn't converged yet.\n",
      "  % self.max_iter, ConvergenceWarning)\n"
     ]
    },
    {
     "name": "stdout",
     "output_type": "stream",
     "text": [
      "Model config: hidden_layer_sizes=(500, 250), activation=relu\n",
      "Report: Classification\n",
      "               precision    recall  f1-score   support\n",
      "\n",
      "    positive       0.85      0.84      0.85      5563\n",
      "    negative       0.84      0.86      0.85      5687\n",
      "\n",
      "    accuracy                           0.85     11250\n",
      "   macro avg       0.85      0.85      0.85     11250\n",
      "weighted avg       0.85      0.85      0.85     11250\n",
      "\n",
      "Matrix: Confusion\n",
      " [[4664  899]\n",
      " [ 806 4881]]\n",
      "Accuracy:\n",
      " 0.8484444444444444\n"
     ]
    },
    {
     "name": "stderr",
     "output_type": "stream",
     "text": [
      "/home/mryf/PycharmProjects/ml_final_project/venv/lib/python3.6/site-packages/sklearn/neural_network/_multilayer_perceptron.py:617: ConvergenceWarning: Stochastic Optimizer: Maximum iterations (10) reached and the optimization hasn't converged yet.\n",
      "  % self.max_iter, ConvergenceWarning)\n"
     ]
    },
    {
     "name": "stdout",
     "output_type": "stream",
     "text": [
      "Model config: hidden_layer_sizes=(1000, 250), activation=tanh\n",
      "Report: Classification\n",
      "               precision    recall  f1-score   support\n",
      "\n",
      "    positive       0.85      0.85      0.85      5563\n",
      "    negative       0.85      0.85      0.85      5687\n",
      "\n",
      "    accuracy                           0.85     11250\n",
      "   macro avg       0.85      0.85      0.85     11250\n",
      "weighted avg       0.85      0.85      0.85     11250\n",
      "\n",
      "Matrix: Confusion\n",
      " [[4733  830]\n",
      " [ 832 4855]]\n",
      "Accuracy:\n",
      " 0.8522666666666666\n"
     ]
    },
    {
     "name": "stderr",
     "output_type": "stream",
     "text": [
      "/home/mryf/PycharmProjects/ml_final_project/venv/lib/python3.6/site-packages/sklearn/neural_network/_multilayer_perceptron.py:617: ConvergenceWarning: Stochastic Optimizer: Maximum iterations (10) reached and the optimization hasn't converged yet.\n",
      "  % self.max_iter, ConvergenceWarning)\n"
     ]
    },
    {
     "name": "stdout",
     "output_type": "stream",
     "text": [
      "Model config: hidden_layer_sizes=(1000, 250), activation=relu\n",
      "Report: Classification\n",
      "               precision    recall  f1-score   support\n",
      "\n",
      "    positive       0.84      0.84      0.84      5563\n",
      "    negative       0.85      0.85      0.85      5687\n",
      "\n",
      "    accuracy                           0.85     11250\n",
      "   macro avg       0.85      0.85      0.85     11250\n",
      "weighted avg       0.85      0.85      0.85     11250\n",
      "\n",
      "Matrix: Confusion\n",
      " [[4689  874]\n",
      " [ 863 4824]]\n",
      "Accuracy:\n",
      " 0.8456\n"
     ]
    },
    {
     "name": "stderr",
     "output_type": "stream",
     "text": [
      "/home/mryf/PycharmProjects/ml_final_project/venv/lib/python3.6/site-packages/sklearn/neural_network/_multilayer_perceptron.py:617: ConvergenceWarning: Stochastic Optimizer: Maximum iterations (10) reached and the optimization hasn't converged yet.\n",
      "  % self.max_iter, ConvergenceWarning)\n"
     ]
    },
    {
     "name": "stdout",
     "output_type": "stream",
     "text": [
      "Model config: hidden_layer_sizes=(500, 250, 250), activation=tanh\n",
      "Report: Classification\n",
      "               precision    recall  f1-score   support\n",
      "\n",
      "    positive       0.85      0.85      0.85      5563\n",
      "    negative       0.86      0.86      0.86      5687\n",
      "\n",
      "    accuracy                           0.86     11250\n",
      "   macro avg       0.86      0.86      0.86     11250\n",
      "weighted avg       0.86      0.86      0.86     11250\n",
      "\n",
      "Matrix: Confusion\n",
      " [[4753  810]\n",
      " [ 807 4880]]\n",
      "Accuracy:\n",
      " 0.8562666666666666\n"
     ]
    },
    {
     "name": "stderr",
     "output_type": "stream",
     "text": [
      "/home/mryf/PycharmProjects/ml_final_project/venv/lib/python3.6/site-packages/sklearn/neural_network/_multilayer_perceptron.py:617: ConvergenceWarning: Stochastic Optimizer: Maximum iterations (10) reached and the optimization hasn't converged yet.\n",
      "  % self.max_iter, ConvergenceWarning)\n"
     ]
    },
    {
     "name": "stdout",
     "output_type": "stream",
     "text": [
      "Model config: hidden_layer_sizes=(500, 250, 250), activation=relu\n",
      "Report: Classification\n",
      "               precision    recall  f1-score   support\n",
      "\n",
      "    positive       0.85      0.84      0.85      5563\n",
      "    negative       0.85      0.86      0.85      5687\n",
      "\n",
      "    accuracy                           0.85     11250\n",
      "   macro avg       0.85      0.85      0.85     11250\n",
      "weighted avg       0.85      0.85      0.85     11250\n",
      "\n",
      "Matrix: Confusion\n",
      " [[4686  877]\n",
      " [ 804 4883]]\n",
      "Accuracy:\n",
      " 0.8505777777777778\n"
     ]
    },
    {
     "name": "stderr",
     "output_type": "stream",
     "text": [
      "/home/mryf/PycharmProjects/ml_final_project/venv/lib/python3.6/site-packages/sklearn/neural_network/_multilayer_perceptron.py:617: ConvergenceWarning: Stochastic Optimizer: Maximum iterations (10) reached and the optimization hasn't converged yet.\n",
      "  % self.max_iter, ConvergenceWarning)\n"
     ]
    },
    {
     "name": "stdout",
     "output_type": "stream",
     "text": [
      "Model config: hidden_layer_sizes=(1000, 500, 250), activation=tanh\n",
      "Report: Classification\n",
      "               precision    recall  f1-score   support\n",
      "\n",
      "    positive       0.84      0.87      0.86      5563\n",
      "    negative       0.87      0.84      0.85      5687\n",
      "\n",
      "    accuracy                           0.86     11250\n",
      "   macro avg       0.86      0.86      0.86     11250\n",
      "weighted avg       0.86      0.86      0.86     11250\n",
      "\n",
      "Matrix: Confusion\n",
      " [[4825  738]\n",
      " [ 891 4796]]\n",
      "Accuracy:\n",
      " 0.8552\n"
     ]
    },
    {
     "name": "stderr",
     "output_type": "stream",
     "text": [
      "/home/mryf/PycharmProjects/ml_final_project/venv/lib/python3.6/site-packages/sklearn/neural_network/_multilayer_perceptron.py:617: ConvergenceWarning: Stochastic Optimizer: Maximum iterations (10) reached and the optimization hasn't converged yet.\n",
      "  % self.max_iter, ConvergenceWarning)\n"
     ]
    },
    {
     "name": "stdout",
     "output_type": "stream",
     "text": [
      "Model config: hidden_layer_sizes=(1000, 500, 250), activation=relu\n",
      "Report: Classification\n",
      "               precision    recall  f1-score   support\n",
      "\n",
      "    positive       0.86      0.84      0.85      5563\n",
      "    negative       0.85      0.86      0.86      5687\n",
      "\n",
      "    accuracy                           0.85     11250\n",
      "   macro avg       0.85      0.85      0.85     11250\n",
      "weighted avg       0.85      0.85      0.85     11250\n",
      "\n",
      "Matrix: Confusion\n",
      " [[4685  878]\n",
      " [ 777 4910]]\n",
      "Accuracy:\n",
      " 0.8528888888888889\n"
     ]
    },
    {
     "name": "stderr",
     "output_type": "stream",
     "text": [
      "/home/mryf/PycharmProjects/ml_final_project/venv/lib/python3.6/site-packages/sklearn/neural_network/_multilayer_perceptron.py:617: ConvergenceWarning: Stochastic Optimizer: Maximum iterations (10) reached and the optimization hasn't converged yet.\n",
      "  % self.max_iter, ConvergenceWarning)\n"
     ]
    },
    {
     "name": "stdout",
     "output_type": "stream",
     "text": [
      "Model config: hidden_layer_sizes=(500, 250, 250, 5), activation=tanh\n",
      "Report: Classification\n",
      "               precision    recall  f1-score   support\n",
      "\n",
      "    positive       0.87      0.83      0.85      5563\n",
      "    negative       0.84      0.88      0.86      5687\n",
      "\n",
      "    accuracy                           0.86     11250\n",
      "   macro avg       0.86      0.86      0.86     11250\n",
      "weighted avg       0.86      0.86      0.86     11250\n",
      "\n",
      "Matrix: Confusion\n",
      " [[4645  918]\n",
      " [ 702 4985]]\n",
      "Accuracy:\n",
      " 0.856\n"
     ]
    },
    {
     "name": "stderr",
     "output_type": "stream",
     "text": [
      "/home/mryf/PycharmProjects/ml_final_project/venv/lib/python3.6/site-packages/sklearn/neural_network/_multilayer_perceptron.py:617: ConvergenceWarning: Stochastic Optimizer: Maximum iterations (10) reached and the optimization hasn't converged yet.\n",
      "  % self.max_iter, ConvergenceWarning)\n"
     ]
    },
    {
     "name": "stdout",
     "output_type": "stream",
     "text": [
      "Model config: hidden_layer_sizes=(500, 250, 250, 5), activation=relu\n",
      "Report: Classification\n",
      "               precision    recall  f1-score   support\n",
      "\n",
      "    positive       0.86      0.85      0.86      5563\n",
      "    negative       0.86      0.86      0.86      5687\n",
      "\n",
      "    accuracy                           0.86     11250\n",
      "   macro avg       0.86      0.86      0.86     11250\n",
      "weighted avg       0.86      0.86      0.86     11250\n",
      "\n",
      "Matrix: Confusion\n",
      " [[4741  822]\n",
      " [ 770 4917]]\n",
      "Accuracy:\n",
      " 0.8584888888888889\n"
     ]
    },
    {
     "name": "stderr",
     "output_type": "stream",
     "text": [
      "/home/mryf/PycharmProjects/ml_final_project/venv/lib/python3.6/site-packages/sklearn/neural_network/_multilayer_perceptron.py:617: ConvergenceWarning: Stochastic Optimizer: Maximum iterations (10) reached and the optimization hasn't converged yet.\n",
      "  % self.max_iter, ConvergenceWarning)\n"
     ]
    },
    {
     "name": "stdout",
     "output_type": "stream",
     "text": [
      "Model config: hidden_layer_sizes=(1000, 500, 250, 5), activation=tanh\n",
      "Report: Classification\n",
      "               precision    recall  f1-score   support\n",
      "\n",
      "    positive       0.87      0.84      0.85      5563\n",
      "    negative       0.85      0.88      0.86      5687\n",
      "\n",
      "    accuracy                           0.86     11250\n",
      "   macro avg       0.86      0.86      0.86     11250\n",
      "weighted avg       0.86      0.86      0.86     11250\n",
      "\n",
      "Matrix: Confusion\n",
      " [[4648  915]\n",
      " [ 675 5012]]\n",
      "Accuracy:\n",
      " 0.8586666666666667\n"
     ]
    },
    {
     "name": "stderr",
     "output_type": "stream",
     "text": [
      "/home/mryf/PycharmProjects/ml_final_project/venv/lib/python3.6/site-packages/sklearn/neural_network/_multilayer_perceptron.py:617: ConvergenceWarning: Stochastic Optimizer: Maximum iterations (10) reached and the optimization hasn't converged yet.\n",
      "  % self.max_iter, ConvergenceWarning)\n"
     ]
    },
    {
     "name": "stdout",
     "output_type": "stream",
     "text": [
      "Model config: hidden_layer_sizes=(1000, 500, 250, 5), activation=relu\n",
      "Report: Classification\n",
      "               precision    recall  f1-score   support\n",
      "\n",
      "    positive       0.85      0.84      0.85      5563\n",
      "    negative       0.85      0.86      0.85      5687\n",
      "\n",
      "    accuracy                           0.85     11250\n",
      "   macro avg       0.85      0.85      0.85     11250\n",
      "weighted avg       0.85      0.85      0.85     11250\n",
      "\n",
      "Matrix: Confusion\n",
      " [[4680  883]\n",
      " [ 821 4866]]\n",
      "Accuracy:\n",
      " 0.8485333333333334\n"
     ]
    }
   ],
   "source": [
    "w2v_f1, w2v_mlp = eval_mlp(X_train_w2v, X_test_w2v, Y_train, Y_test)"
   ]
  },
  {
   "cell_type": "markdown",
   "metadata": {
    "pycharm": {
     "name": "#%% md\n"
    }
   },
   "source": [
    "## BoW"
   ]
  },
  {
   "cell_type": "code",
   "execution_count": 28,
   "metadata": {
    "pycharm": {
     "name": "#%%\n"
    }
   },
   "outputs": [
    {
     "name": "stderr",
     "output_type": "stream",
     "text": [
      "/home/mryf/PycharmProjects/ml_final_project/venv/lib/python3.6/site-packages/sklearn/neural_network/_multilayer_perceptron.py:617: ConvergenceWarning: Stochastic Optimizer: Maximum iterations (10) reached and the optimization hasn't converged yet.\n",
      "  % self.max_iter, ConvergenceWarning)\n"
     ]
    },
    {
     "name": "stdout",
     "output_type": "stream",
     "text": [
      "Model config: hidden_layer_sizes=(500, 250), activation=tanh\n",
      "Report: Classification\n",
      "               precision    recall  f1-score   support\n",
      "\n",
      "    positive       0.86      0.85      0.86      5563\n",
      "    negative       0.86      0.86      0.86      5687\n",
      "\n",
      "    accuracy                           0.86     11250\n",
      "   macro avg       0.86      0.86      0.86     11250\n",
      "weighted avg       0.86      0.86      0.86     11250\n",
      "\n",
      "Matrix: Confusion\n",
      " [[4742  821]\n",
      " [ 780 4907]]\n",
      "Accuracy:\n",
      " 0.8576888888888888\n"
     ]
    },
    {
     "name": "stderr",
     "output_type": "stream",
     "text": [
      "/home/mryf/PycharmProjects/ml_final_project/venv/lib/python3.6/site-packages/sklearn/neural_network/_multilayer_perceptron.py:617: ConvergenceWarning: Stochastic Optimizer: Maximum iterations (10) reached and the optimization hasn't converged yet.\n",
      "  % self.max_iter, ConvergenceWarning)\n"
     ]
    },
    {
     "name": "stdout",
     "output_type": "stream",
     "text": [
      "Model config: hidden_layer_sizes=(500, 250), activation=relu\n",
      "Report: Classification\n",
      "               precision    recall  f1-score   support\n",
      "\n",
      "    positive       0.85      0.84      0.85      5563\n",
      "    negative       0.85      0.85      0.85      5687\n",
      "\n",
      "    accuracy                           0.85     11250\n",
      "   macro avg       0.85      0.85      0.85     11250\n",
      "weighted avg       0.85      0.85      0.85     11250\n",
      "\n",
      "Matrix: Confusion\n",
      " [[4700  863]\n",
      " [ 857 4830]]\n",
      "Accuracy:\n",
      " 0.8471111111111111\n"
     ]
    },
    {
     "name": "stderr",
     "output_type": "stream",
     "text": [
      "/home/mryf/PycharmProjects/ml_final_project/venv/lib/python3.6/site-packages/sklearn/neural_network/_multilayer_perceptron.py:617: ConvergenceWarning: Stochastic Optimizer: Maximum iterations (10) reached and the optimization hasn't converged yet.\n",
      "  % self.max_iter, ConvergenceWarning)\n"
     ]
    },
    {
     "name": "stdout",
     "output_type": "stream",
     "text": [
      "Model config: hidden_layer_sizes=(1000, 250), activation=tanh\n",
      "Report: Classification\n",
      "               precision    recall  f1-score   support\n",
      "\n",
      "    positive       0.86      0.85      0.86      5563\n",
      "    negative       0.86      0.87      0.86      5687\n",
      "\n",
      "    accuracy                           0.86     11250\n",
      "   macro avg       0.86      0.86      0.86     11250\n",
      "weighted avg       0.86      0.86      0.86     11250\n",
      "\n",
      "Matrix: Confusion\n",
      " [[4738  825]\n",
      " [ 748 4939]]\n",
      "Accuracy:\n",
      " 0.8601777777777778\n"
     ]
    },
    {
     "name": "stderr",
     "output_type": "stream",
     "text": [
      "/home/mryf/PycharmProjects/ml_final_project/venv/lib/python3.6/site-packages/sklearn/neural_network/_multilayer_perceptron.py:617: ConvergenceWarning: Stochastic Optimizer: Maximum iterations (10) reached and the optimization hasn't converged yet.\n",
      "  % self.max_iter, ConvergenceWarning)\n"
     ]
    },
    {
     "name": "stdout",
     "output_type": "stream",
     "text": [
      "Model config: hidden_layer_sizes=(1000, 250), activation=relu\n",
      "Report: Classification\n",
      "               precision    recall  f1-score   support\n",
      "\n",
      "    positive       0.86      0.83      0.85      5563\n",
      "    negative       0.84      0.87      0.85      5687\n",
      "\n",
      "    accuracy                           0.85     11250\n",
      "   macro avg       0.85      0.85      0.85     11250\n",
      "weighted avg       0.85      0.85      0.85     11250\n",
      "\n",
      "Matrix: Confusion\n",
      " [[4611  952]\n",
      " [ 736 4951]]\n",
      "Accuracy:\n",
      " 0.8499555555555556\n"
     ]
    },
    {
     "name": "stderr",
     "output_type": "stream",
     "text": [
      "/home/mryf/PycharmProjects/ml_final_project/venv/lib/python3.6/site-packages/sklearn/neural_network/_multilayer_perceptron.py:617: ConvergenceWarning: Stochastic Optimizer: Maximum iterations (10) reached and the optimization hasn't converged yet.\n",
      "  % self.max_iter, ConvergenceWarning)\n"
     ]
    },
    {
     "name": "stdout",
     "output_type": "stream",
     "text": [
      "Model config: hidden_layer_sizes=(500, 250, 250), activation=tanh\n",
      "Report: Classification\n",
      "               precision    recall  f1-score   support\n",
      "\n",
      "    positive       0.86      0.87      0.86      5563\n",
      "    negative       0.87      0.86      0.87      5687\n",
      "\n",
      "    accuracy                           0.87     11250\n",
      "   macro avg       0.87      0.87      0.87     11250\n",
      "weighted avg       0.87      0.87      0.87     11250\n",
      "\n",
      "Matrix: Confusion\n",
      " [[4821  742]\n",
      " [ 772 4915]]\n",
      "Accuracy:\n",
      " 0.8654222222222222\n"
     ]
    },
    {
     "name": "stderr",
     "output_type": "stream",
     "text": [
      "/home/mryf/PycharmProjects/ml_final_project/venv/lib/python3.6/site-packages/sklearn/neural_network/_multilayer_perceptron.py:617: ConvergenceWarning: Stochastic Optimizer: Maximum iterations (10) reached and the optimization hasn't converged yet.\n",
      "  % self.max_iter, ConvergenceWarning)\n"
     ]
    },
    {
     "name": "stdout",
     "output_type": "stream",
     "text": [
      "Model config: hidden_layer_sizes=(500, 250, 250), activation=relu\n",
      "Report: Classification\n",
      "               precision    recall  f1-score   support\n",
      "\n",
      "    positive       0.86      0.85      0.85      5563\n",
      "    negative       0.85      0.86      0.86      5687\n",
      "\n",
      "    accuracy                           0.85     11250\n",
      "   macro avg       0.85      0.85      0.85     11250\n",
      "weighted avg       0.85      0.85      0.85     11250\n",
      "\n",
      "Matrix: Confusion\n",
      " [[4704  859]\n",
      " [ 785 4902]]\n",
      "Accuracy:\n",
      " 0.8538666666666667\n"
     ]
    },
    {
     "name": "stderr",
     "output_type": "stream",
     "text": [
      "/home/mryf/PycharmProjects/ml_final_project/venv/lib/python3.6/site-packages/sklearn/neural_network/_multilayer_perceptron.py:617: ConvergenceWarning: Stochastic Optimizer: Maximum iterations (10) reached and the optimization hasn't converged yet.\n",
      "  % self.max_iter, ConvergenceWarning)\n"
     ]
    },
    {
     "name": "stdout",
     "output_type": "stream",
     "text": [
      "Model config: hidden_layer_sizes=(1000, 500, 250), activation=tanh\n",
      "Report: Classification\n",
      "               precision    recall  f1-score   support\n",
      "\n",
      "    positive       0.86      0.87      0.86      5563\n",
      "    negative       0.87      0.86      0.86      5687\n",
      "\n",
      "    accuracy                           0.86     11250\n",
      "   macro avg       0.86      0.86      0.86     11250\n",
      "weighted avg       0.86      0.86      0.86     11250\n",
      "\n",
      "Matrix: Confusion\n",
      " [[4814  749]\n",
      " [ 789 4898]]\n",
      "Accuracy:\n",
      " 0.8632888888888889\n"
     ]
    },
    {
     "name": "stderr",
     "output_type": "stream",
     "text": [
      "/home/mryf/PycharmProjects/ml_final_project/venv/lib/python3.6/site-packages/sklearn/neural_network/_multilayer_perceptron.py:617: ConvergenceWarning: Stochastic Optimizer: Maximum iterations (10) reached and the optimization hasn't converged yet.\n",
      "  % self.max_iter, ConvergenceWarning)\n"
     ]
    },
    {
     "name": "stdout",
     "output_type": "stream",
     "text": [
      "Model config: hidden_layer_sizes=(1000, 500, 250), activation=relu\n",
      "Report: Classification\n",
      "               precision    recall  f1-score   support\n",
      "\n",
      "    positive       0.88      0.82      0.85      5563\n",
      "    negative       0.83      0.89      0.86      5687\n",
      "\n",
      "    accuracy                           0.85     11250\n",
      "   macro avg       0.86      0.85      0.85     11250\n",
      "weighted avg       0.85      0.85      0.85     11250\n",
      "\n",
      "Matrix: Confusion\n",
      " [[4564  999]\n",
      " [ 647 5040]]\n",
      "Accuracy:\n",
      " 0.8536888888888889\n"
     ]
    },
    {
     "name": "stderr",
     "output_type": "stream",
     "text": [
      "/home/mryf/PycharmProjects/ml_final_project/venv/lib/python3.6/site-packages/sklearn/neural_network/_multilayer_perceptron.py:617: ConvergenceWarning: Stochastic Optimizer: Maximum iterations (10) reached and the optimization hasn't converged yet.\n",
      "  % self.max_iter, ConvergenceWarning)\n"
     ]
    },
    {
     "name": "stdout",
     "output_type": "stream",
     "text": [
      "Model config: hidden_layer_sizes=(500, 250, 250, 5), activation=tanh\n",
      "Report: Classification\n",
      "               precision    recall  f1-score   support\n",
      "\n",
      "    positive       0.86      0.87      0.86      5563\n",
      "    negative       0.87      0.86      0.86      5687\n",
      "\n",
      "    accuracy                           0.86     11250\n",
      "   macro avg       0.86      0.86      0.86     11250\n",
      "weighted avg       0.86      0.86      0.86     11250\n",
      "\n",
      "Matrix: Confusion\n",
      " [[4818  745]\n",
      " [ 789 4898]]\n",
      "Accuracy:\n",
      " 0.8636444444444444\n"
     ]
    },
    {
     "name": "stderr",
     "output_type": "stream",
     "text": [
      "/home/mryf/PycharmProjects/ml_final_project/venv/lib/python3.6/site-packages/sklearn/neural_network/_multilayer_perceptron.py:617: ConvergenceWarning: Stochastic Optimizer: Maximum iterations (10) reached and the optimization hasn't converged yet.\n",
      "  % self.max_iter, ConvergenceWarning)\n"
     ]
    },
    {
     "name": "stdout",
     "output_type": "stream",
     "text": [
      "Model config: hidden_layer_sizes=(500, 250, 250, 5), activation=relu\n",
      "Report: Classification\n",
      "               precision    recall  f1-score   support\n",
      "\n",
      "    positive       0.86      0.85      0.85      5563\n",
      "    negative       0.85      0.86      0.86      5687\n",
      "\n",
      "    accuracy                           0.85     11250\n",
      "   macro avg       0.85      0.85      0.85     11250\n",
      "weighted avg       0.85      0.85      0.85     11250\n",
      "\n",
      "Matrix: Confusion\n",
      " [[4721  842]\n",
      " [ 800 4887]]\n",
      "Accuracy:\n",
      " 0.8540444444444445\n"
     ]
    },
    {
     "name": "stderr",
     "output_type": "stream",
     "text": [
      "/home/mryf/PycharmProjects/ml_final_project/venv/lib/python3.6/site-packages/sklearn/neural_network/_multilayer_perceptron.py:617: ConvergenceWarning: Stochastic Optimizer: Maximum iterations (10) reached and the optimization hasn't converged yet.\n",
      "  % self.max_iter, ConvergenceWarning)\n"
     ]
    },
    {
     "name": "stdout",
     "output_type": "stream",
     "text": [
      "Model config: hidden_layer_sizes=(1000, 500, 250, 5), activation=tanh\n",
      "Report: Classification\n",
      "               precision    recall  f1-score   support\n",
      "\n",
      "    positive       0.86      0.87      0.87      5563\n",
      "    negative       0.87      0.87      0.87      5687\n",
      "\n",
      "    accuracy                           0.87     11250\n",
      "   macro avg       0.87      0.87      0.87     11250\n",
      "weighted avg       0.87      0.87      0.87     11250\n",
      "\n",
      "Matrix: Confusion\n",
      " [[4824  739]\n",
      " [ 761 4926]]\n",
      "Accuracy:\n",
      " 0.8666666666666667\n"
     ]
    },
    {
     "name": "stderr",
     "output_type": "stream",
     "text": [
      "/home/mryf/PycharmProjects/ml_final_project/venv/lib/python3.6/site-packages/sklearn/neural_network/_multilayer_perceptron.py:617: ConvergenceWarning: Stochastic Optimizer: Maximum iterations (10) reached and the optimization hasn't converged yet.\n",
      "  % self.max_iter, ConvergenceWarning)\n"
     ]
    },
    {
     "name": "stdout",
     "output_type": "stream",
     "text": [
      "Model config: hidden_layer_sizes=(1000, 500, 250, 5), activation=relu\n",
      "Report: Classification\n",
      "               precision    recall  f1-score   support\n",
      "\n",
      "    positive       0.86      0.86      0.86      5563\n",
      "    negative       0.86      0.86      0.86      5687\n",
      "\n",
      "    accuracy                           0.86     11250\n",
      "   macro avg       0.86      0.86      0.86     11250\n",
      "weighted avg       0.86      0.86      0.86     11250\n",
      "\n",
      "Matrix: Confusion\n",
      " [[4799  764]\n",
      " [ 803 4884]]\n",
      "Accuracy:\n",
      " 0.8607111111111111\n"
     ]
    }
   ],
   "source": [
    "bow_f1, bow_mlp = eval_mlp(X_train_bow, X_test_bow, Y_train, Y_test)"
   ]
  },
  {
   "cell_type": "markdown",
   "metadata": {
    "pycharm": {
     "name": "#%% md\n"
    }
   },
   "source": [
    "## TD-IDF"
   ]
  },
  {
   "cell_type": "code",
   "execution_count": 29,
   "metadata": {
    "pycharm": {
     "name": "#%%\n"
    }
   },
   "outputs": [],
   "source": [
    "vectorizer = TfidfVectorizer(max_features=2000)\n",
    "X_train_idf = vectorizer.fit_transform(X_train)\n",
    "X_test_idf = vectorizer.transform(X_test)\n",
    "pickle.dump(vectorizer, open('tf_idf.pkl', 'wb'))"
   ]
  },
  {
   "cell_type": "code",
   "execution_count": 30,
   "metadata": {
    "pycharm": {
     "name": "#%%\n"
    }
   },
   "outputs": [
    {
     "name": "stderr",
     "output_type": "stream",
     "text": [
      "/home/mryf/PycharmProjects/ml_final_project/venv/lib/python3.6/site-packages/sklearn/neural_network/_multilayer_perceptron.py:617: ConvergenceWarning: Stochastic Optimizer: Maximum iterations (10) reached and the optimization hasn't converged yet.\n",
      "  % self.max_iter, ConvergenceWarning)\n"
     ]
    },
    {
     "name": "stdout",
     "output_type": "stream",
     "text": [
      "Model config: hidden_layer_sizes=(500, 250), activation=tanh\n",
      "Report: Classification\n",
      "               precision    recall  f1-score   support\n",
      "\n",
      "    positive       0.76      0.77      0.77      5563\n",
      "    negative       0.77      0.77      0.77      5687\n",
      "\n",
      "    accuracy                           0.77     11250\n",
      "   macro avg       0.77      0.77      0.77     11250\n",
      "weighted avg       0.77      0.77      0.77     11250\n",
      "\n",
      "Matrix: Confusion\n",
      " [[4293 1270]\n",
      " [1321 4366]]\n",
      "Accuracy:\n",
      " 0.7696888888888889\n"
     ]
    },
    {
     "name": "stderr",
     "output_type": "stream",
     "text": [
      "/home/mryf/PycharmProjects/ml_final_project/venv/lib/python3.6/site-packages/sklearn/neural_network/_multilayer_perceptron.py:617: ConvergenceWarning: Stochastic Optimizer: Maximum iterations (10) reached and the optimization hasn't converged yet.\n",
      "  % self.max_iter, ConvergenceWarning)\n"
     ]
    },
    {
     "name": "stdout",
     "output_type": "stream",
     "text": [
      "Model config: hidden_layer_sizes=(500, 250), activation=relu\n",
      "Report: Classification\n",
      "               precision    recall  f1-score   support\n",
      "\n",
      "    positive       0.68      0.76      0.72      5563\n",
      "    negative       0.74      0.64      0.69      5687\n",
      "\n",
      "    accuracy                           0.70     11250\n",
      "   macro avg       0.71      0.70      0.70     11250\n",
      "weighted avg       0.71      0.70      0.70     11250\n",
      "\n",
      "Matrix: Confusion\n",
      " [[4247 1316]\n",
      " [2023 3664]]\n",
      "Accuracy:\n",
      " 0.7032\n"
     ]
    },
    {
     "name": "stderr",
     "output_type": "stream",
     "text": [
      "/home/mryf/PycharmProjects/ml_final_project/venv/lib/python3.6/site-packages/sklearn/neural_network/_multilayer_perceptron.py:617: ConvergenceWarning: Stochastic Optimizer: Maximum iterations (10) reached and the optimization hasn't converged yet.\n",
      "  % self.max_iter, ConvergenceWarning)\n"
     ]
    },
    {
     "name": "stdout",
     "output_type": "stream",
     "text": [
      "Model config: hidden_layer_sizes=(1000, 250), activation=tanh\n",
      "Report: Classification\n",
      "               precision    recall  f1-score   support\n",
      "\n",
      "    positive       0.79      0.76      0.77      5563\n",
      "    negative       0.77      0.80      0.79      5687\n",
      "\n",
      "    accuracy                           0.78     11250\n",
      "   macro avg       0.78      0.78      0.78     11250\n",
      "weighted avg       0.78      0.78      0.78     11250\n",
      "\n",
      "Matrix: Confusion\n",
      " [[4228 1335]\n",
      " [1140 4547]]\n",
      "Accuracy:\n",
      " 0.78\n"
     ]
    },
    {
     "name": "stderr",
     "output_type": "stream",
     "text": [
      "/home/mryf/PycharmProjects/ml_final_project/venv/lib/python3.6/site-packages/sklearn/neural_network/_multilayer_perceptron.py:617: ConvergenceWarning: Stochastic Optimizer: Maximum iterations (10) reached and the optimization hasn't converged yet.\n",
      "  % self.max_iter, ConvergenceWarning)\n"
     ]
    },
    {
     "name": "stdout",
     "output_type": "stream",
     "text": [
      "Model config: hidden_layer_sizes=(1000, 250), activation=relu\n",
      "Report: Classification\n",
      "               precision    recall  f1-score   support\n",
      "\n",
      "    positive       0.70      0.78      0.74      5563\n",
      "    negative       0.76      0.67      0.71      5687\n",
      "\n",
      "    accuracy                           0.73     11250\n",
      "   macro avg       0.73      0.73      0.73     11250\n",
      "weighted avg       0.73      0.73      0.73     11250\n",
      "\n",
      "Matrix: Confusion\n",
      " [[4335 1228]\n",
      " [1852 3835]]\n",
      "Accuracy:\n",
      " 0.7262222222222222\n"
     ]
    },
    {
     "name": "stderr",
     "output_type": "stream",
     "text": [
      "/home/mryf/PycharmProjects/ml_final_project/venv/lib/python3.6/site-packages/sklearn/neural_network/_multilayer_perceptron.py:617: ConvergenceWarning: Stochastic Optimizer: Maximum iterations (10) reached and the optimization hasn't converged yet.\n",
      "  % self.max_iter, ConvergenceWarning)\n"
     ]
    },
    {
     "name": "stdout",
     "output_type": "stream",
     "text": [
      "Model config: hidden_layer_sizes=(500, 250, 250), activation=tanh\n",
      "Report: Classification\n",
      "               precision    recall  f1-score   support\n",
      "\n",
      "    positive       0.80      0.70      0.75      5563\n",
      "    negative       0.74      0.83      0.78      5687\n",
      "\n",
      "    accuracy                           0.77     11250\n",
      "   macro avg       0.77      0.76      0.76     11250\n",
      "weighted avg       0.77      0.77      0.76     11250\n",
      "\n",
      "Matrix: Confusion\n",
      " [[3871 1692]\n",
      " [ 948 4739]]\n",
      "Accuracy:\n",
      " 0.7653333333333333\n"
     ]
    },
    {
     "name": "stderr",
     "output_type": "stream",
     "text": [
      "/home/mryf/PycharmProjects/ml_final_project/venv/lib/python3.6/site-packages/sklearn/neural_network/_multilayer_perceptron.py:617: ConvergenceWarning: Stochastic Optimizer: Maximum iterations (10) reached and the optimization hasn't converged yet.\n",
      "  % self.max_iter, ConvergenceWarning)\n"
     ]
    },
    {
     "name": "stdout",
     "output_type": "stream",
     "text": [
      "Model config: hidden_layer_sizes=(500, 250, 250), activation=relu\n",
      "Report: Classification\n",
      "               precision    recall  f1-score   support\n",
      "\n",
      "    positive       0.60      0.85      0.70      5563\n",
      "    negative       0.75      0.45      0.56      5687\n",
      "\n",
      "    accuracy                           0.65     11250\n",
      "   macro avg       0.68      0.65      0.63     11250\n",
      "weighted avg       0.68      0.65      0.63     11250\n",
      "\n",
      "Matrix: Confusion\n",
      " [[4721  842]\n",
      " [3131 2556]]\n",
      "Accuracy:\n",
      " 0.6468444444444444\n"
     ]
    },
    {
     "name": "stderr",
     "output_type": "stream",
     "text": [
      "/home/mryf/PycharmProjects/ml_final_project/venv/lib/python3.6/site-packages/sklearn/neural_network/_multilayer_perceptron.py:617: ConvergenceWarning: Stochastic Optimizer: Maximum iterations (10) reached and the optimization hasn't converged yet.\n",
      "  % self.max_iter, ConvergenceWarning)\n"
     ]
    },
    {
     "name": "stdout",
     "output_type": "stream",
     "text": [
      "Model config: hidden_layer_sizes=(1000, 500, 250), activation=tanh\n",
      "Report: Classification\n",
      "               precision    recall  f1-score   support\n",
      "\n",
      "    positive       0.83      0.73      0.77      5563\n",
      "    negative       0.76      0.85      0.80      5687\n",
      "\n",
      "    accuracy                           0.79     11250\n",
      "   macro avg       0.79      0.79      0.79     11250\n",
      "weighted avg       0.79      0.79      0.79     11250\n",
      "\n",
      "Matrix: Confusion\n",
      " [[4058 1505]\n",
      " [ 853 4834]]\n",
      "Accuracy:\n",
      " 0.7904\n"
     ]
    },
    {
     "name": "stderr",
     "output_type": "stream",
     "text": [
      "/home/mryf/PycharmProjects/ml_final_project/venv/lib/python3.6/site-packages/sklearn/neural_network/_multilayer_perceptron.py:617: ConvergenceWarning: Stochastic Optimizer: Maximum iterations (10) reached and the optimization hasn't converged yet.\n",
      "  % self.max_iter, ConvergenceWarning)\n"
     ]
    },
    {
     "name": "stdout",
     "output_type": "stream",
     "text": [
      "Model config: hidden_layer_sizes=(1000, 500, 250), activation=relu\n",
      "Report: Classification\n",
      "               precision    recall  f1-score   support\n",
      "\n",
      "    positive       0.65      0.83      0.73      5563\n",
      "    negative       0.77      0.56      0.65      5687\n",
      "\n",
      "    accuracy                           0.69     11250\n",
      "   macro avg       0.71      0.70      0.69     11250\n",
      "weighted avg       0.71      0.69      0.69     11250\n",
      "\n",
      "Matrix: Confusion\n",
      " [[4636  927]\n",
      " [2518 3169]]\n",
      "Accuracy:\n",
      " 0.6937777777777778\n"
     ]
    },
    {
     "name": "stderr",
     "output_type": "stream",
     "text": [
      "/home/mryf/PycharmProjects/ml_final_project/venv/lib/python3.6/site-packages/sklearn/neural_network/_multilayer_perceptron.py:617: ConvergenceWarning: Stochastic Optimizer: Maximum iterations (10) reached and the optimization hasn't converged yet.\n",
      "  % self.max_iter, ConvergenceWarning)\n"
     ]
    },
    {
     "name": "stdout",
     "output_type": "stream",
     "text": [
      "Model config: hidden_layer_sizes=(500, 250, 250, 5), activation=tanh\n",
      "Report: Classification\n",
      "               precision    recall  f1-score   support\n",
      "\n",
      "    positive       0.81      0.79      0.80      5563\n",
      "    negative       0.80      0.82      0.81      5687\n",
      "\n",
      "    accuracy                           0.80     11250\n",
      "   macro avg       0.80      0.80      0.80     11250\n",
      "weighted avg       0.80      0.80      0.80     11250\n",
      "\n",
      "Matrix: Confusion\n",
      " [[4399 1164]\n",
      " [1046 4641]]\n",
      "Accuracy:\n",
      " 0.8035555555555556\n"
     ]
    },
    {
     "name": "stderr",
     "output_type": "stream",
     "text": [
      "/home/mryf/PycharmProjects/ml_final_project/venv/lib/python3.6/site-packages/sklearn/neural_network/_multilayer_perceptron.py:617: ConvergenceWarning: Stochastic Optimizer: Maximum iterations (10) reached and the optimization hasn't converged yet.\n",
      "  % self.max_iter, ConvergenceWarning)\n"
     ]
    },
    {
     "name": "stdout",
     "output_type": "stream",
     "text": [
      "Model config: hidden_layer_sizes=(500, 250, 250, 5), activation=relu\n",
      "Report: Classification\n",
      "               precision    recall  f1-score   support\n",
      "\n",
      "    positive       0.50      1.00      0.66      5563\n",
      "    negative       0.82      0.01      0.02      5687\n",
      "\n",
      "    accuracy                           0.50     11250\n",
      "   macro avg       0.66      0.50      0.34     11250\n",
      "weighted avg       0.66      0.50      0.34     11250\n",
      "\n",
      "Matrix: Confusion\n",
      " [[5553   10]\n",
      " [5641   46]]\n",
      "Accuracy:\n",
      " 0.4976888888888889\n"
     ]
    },
    {
     "name": "stderr",
     "output_type": "stream",
     "text": [
      "/home/mryf/PycharmProjects/ml_final_project/venv/lib/python3.6/site-packages/sklearn/neural_network/_multilayer_perceptron.py:617: ConvergenceWarning: Stochastic Optimizer: Maximum iterations (10) reached and the optimization hasn't converged yet.\n",
      "  % self.max_iter, ConvergenceWarning)\n"
     ]
    },
    {
     "name": "stdout",
     "output_type": "stream",
     "text": [
      "Model config: hidden_layer_sizes=(1000, 500, 250, 5), activation=tanh\n",
      "Report: Classification\n",
      "               precision    recall  f1-score   support\n",
      "\n",
      "    positive       0.83      0.79      0.81      5563\n",
      "    negative       0.80      0.84      0.82      5687\n",
      "\n",
      "    accuracy                           0.82     11250\n",
      "   macro avg       0.82      0.81      0.82     11250\n",
      "weighted avg       0.82      0.82      0.82     11250\n",
      "\n",
      "Matrix: Confusion\n",
      " [[4380 1183]\n",
      " [ 895 4792]]\n",
      "Accuracy:\n",
      " 0.8152888888888888\n"
     ]
    },
    {
     "name": "stderr",
     "output_type": "stream",
     "text": [
      "/home/mryf/PycharmProjects/ml_final_project/venv/lib/python3.6/site-packages/sklearn/neural_network/_multilayer_perceptron.py:617: ConvergenceWarning: Stochastic Optimizer: Maximum iterations (10) reached and the optimization hasn't converged yet.\n",
      "  % self.max_iter, ConvergenceWarning)\n"
     ]
    },
    {
     "name": "stdout",
     "output_type": "stream",
     "text": [
      "Model config: hidden_layer_sizes=(1000, 500, 250, 5), activation=relu\n",
      "Report: Classification\n",
      "               precision    recall  f1-score   support\n",
      "\n",
      "    positive       0.52      0.98      0.68      5563\n",
      "    negative       0.87      0.11      0.20      5687\n",
      "\n",
      "    accuracy                           0.54     11250\n",
      "   macro avg       0.69      0.55      0.44     11250\n",
      "weighted avg       0.70      0.54      0.44     11250\n",
      "\n",
      "Matrix: Confusion\n",
      " [[5462  101]\n",
      " [5035  652]]\n",
      "Accuracy:\n",
      " 0.5434666666666667\n"
     ]
    }
   ],
   "source": [
    "tf_idf_f1, tf_idf_mlp = eval_mlp(X_train_idf, X_test_idf, Y_train, Y_test)"
   ]
  },
  {
   "cell_type": "markdown",
   "metadata": {
    "pycharm": {
     "name": "#%% md\n"
    }
   },
   "source": [
    "## Comparison"
   ]
  },
  {
   "cell_type": "code",
   "execution_count": 31,
   "metadata": {
    "pycharm": {
     "name": "#%%\n"
    }
   },
   "outputs": [
    {
     "name": "stdout",
     "output_type": "stream",
     "text": [
      "Best scores:\n",
      "W2V: 0.8630962631307042 with params: {'activation': 'tanh', 'alpha': 1, 'batch_size': 'auto', 'beta_1': 0.9, 'beta_2': 0.999, 'early_stopping': False, 'epsilon': 1e-08, 'hidden_layer_sizes': (1000, 500, 250, 5), 'learning_rate': 'adaptive', 'learning_rate_init': 0.001, 'max_fun': 15000, 'max_iter': 10, 'momentum': 0.9, 'n_iter_no_change': 10, 'nesterovs_momentum': True, 'power_t': 0.5, 'random_state': None, 'shuffle': True, 'solver': 'sgd', 'tol': 0.0001, 'validation_fraction': 0.1, 'verbose': False, 'warm_start': True}\n",
      "BoW: 0.8678646934460887 with params: {'activation': 'tanh', 'alpha': 1, 'batch_size': 'auto', 'beta_1': 0.9, 'beta_2': 0.999, 'early_stopping': False, 'epsilon': 1e-08, 'hidden_layer_sizes': (1000, 500, 250, 5), 'learning_rate': 'adaptive', 'learning_rate_init': 0.001, 'max_fun': 15000, 'max_iter': 10, 'momentum': 0.9, 'n_iter_no_change': 10, 'nesterovs_momentum': True, 'power_t': 0.5, 'random_state': None, 'shuffle': True, 'solver': 'sgd', 'tol': 0.0001, 'validation_fraction': 0.1, 'verbose': False, 'warm_start': True}\n",
      "Tf-Idf: 0.8218144400617391 with params: {'activation': 'tanh', 'alpha': 1, 'batch_size': 'auto', 'beta_1': 0.9, 'beta_2': 0.999, 'early_stopping': False, 'epsilon': 1e-08, 'hidden_layer_sizes': (1000, 500, 250, 5), 'learning_rate': 'adaptive', 'learning_rate_init': 0.001, 'max_fun': 15000, 'max_iter': 10, 'momentum': 0.9, 'n_iter_no_change': 10, 'nesterovs_momentum': True, 'power_t': 0.5, 'random_state': None, 'shuffle': True, 'solver': 'sgd', 'tol': 0.0001, 'validation_fraction': 0.1, 'verbose': False, 'warm_start': True}\n"
     ]
    }
   ],
   "source": [
    "print('Best scores:')\n",
    "print(f'W2V: {w2v_f1} with params: {w2v_mlp.get_params()}')\n",
    "print(f'BoW: {bow_f1} with params: {bow_mlp.get_params()}')\n",
    "print(f'Tf-Idf: {tf_idf_f1} with params: {tf_idf_mlp.get_params()}')\n",
    "\n",
    "idx = np.argmax([w2v_f1, bow_f1, tf_idf_f1])\n",
    "best_mlp = [w2v_mlp, bow_mlp, tf_idf_mlp][idx]\n",
    "with open('best.pkl', 'wb') as f:\n",
    "    pickle.dump(best_mlp, f)\n",
    "\n",
    "\n"
   ]
  }
 ],
 "metadata": {
  "colab": {
   "collapsed_sections": [],
   "name": "phase1.ipynb",
   "provenance": []
  },
  "interpreter": {
   "hash": "31f2aee4e71d21fbe5cf8b01ff0e069b9275f58929596ceb00d14d90e3e16cd6"
  },
  "kernelspec": {
   "display_name": "Python 3",
   "language": "python",
   "name": "python3"
  },
  "language_info": {
   "codemirror_mode": {
    "name": "ipython",
    "version": 3
   },
   "file_extension": ".py",
   "mimetype": "text/x-python",
   "name": "python",
   "nbconvert_exporter": "python",
   "pygments_lexer": "ipython3",
   "version": "3.8.10"
  }
 },
 "nbformat": 4,
 "nbformat_minor": 1
}