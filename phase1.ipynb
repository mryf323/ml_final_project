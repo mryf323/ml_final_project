{
 "nbformat": 4,
 "nbformat_minor": 0,
 "metadata": {
  "interpreter": {
   "hash": "31f2aee4e71d21fbe5cf8b01ff0e069b9275f58929596ceb00d14d90e3e16cd6"
  },
  "kernelspec": {
   "display_name": "Python 3",
   "language": "python",
   "name": "python3"
  },
  "language_info": {
   "codemirror_mode": {
    "name": "ipython",
    "version": 3
   },
   "file_extension": ".py",
   "mimetype": "text/x-python",
   "name": "python",
   "nbconvert_exporter": "python",
   "pygments_lexer": "ipython3",
   "version": "3.6.9"
  },
  "colab": {
   "name": "phase1.ipynb",
   "provenance": [],
   "collapsed_sections": []
  }
 },
 "cells": [
  {
   "cell_type": "code",
   "metadata": {
    "id": "uyBvpTEbpVd7"
   },
   "source": [
    "import pickle\n",
    "import swifter\n",
    "import pandas as pd\n",
    "from sklearn import svm\n",
    "from sklearn.linear_model import LogisticRegression\n",
    "from sklearn.neighbors import KNeighborsClassifier\n",
    "from sklearn.feature_extraction.text import CountVectorizer, TfidfVectorizer\n",
    "from sklearn.model_selection import StratifiedKFold, GridSearchCV\n",
    "from sklearn.neural_network import MLPClassifier\n",
    "\n",
    "from data import preprocess_data, vectorize_data, load_dataset\n",
    "from evaluation import analysis, evaluate_models_with_data\n",
    "from w2v_adapter import Word2VecAdapter\n",
    "\n",
    "import advanced_processor_chain_factory\n",
    "import simple_processor_chain_factory"
   ],
   "execution_count": 49,
   "outputs": [
    {
     "ename": "ImportError",
     "evalue": "cannot import name 'analysis'",
     "output_type": "error",
     "traceback": [
      "\u001B[0;31m---------------------------------------------------------------------------\u001B[0m",
      "\u001B[0;31mImportError\u001B[0m                               Traceback (most recent call last)",
      "\u001B[0;32m<ipython-input-49-2419ede24e48>\u001B[0m in \u001B[0;36m<module>\u001B[0;34m\u001B[0m\n\u001B[1;32m     10\u001B[0m \u001B[0;34m\u001B[0m\u001B[0m\n\u001B[1;32m     11\u001B[0m \u001B[0;32mfrom\u001B[0m \u001B[0mdata\u001B[0m \u001B[0;32mimport\u001B[0m \u001B[0mpreprocess_data\u001B[0m\u001B[0;34m,\u001B[0m \u001B[0mvectorize_data\u001B[0m\u001B[0;34m,\u001B[0m \u001B[0mload_dataset\u001B[0m\u001B[0;34m\u001B[0m\u001B[0;34m\u001B[0m\u001B[0m\n\u001B[0;32m---> 12\u001B[0;31m \u001B[0;32mfrom\u001B[0m \u001B[0mevaluation\u001B[0m \u001B[0;32mimport\u001B[0m \u001B[0manalysis\u001B[0m\u001B[0;34m,\u001B[0m \u001B[0mevaluate_models_with_data\u001B[0m\u001B[0;34m\u001B[0m\u001B[0;34m\u001B[0m\u001B[0m\n\u001B[0m\u001B[1;32m     13\u001B[0m \u001B[0;34m\u001B[0m\u001B[0m\n\u001B[1;32m     14\u001B[0m \u001B[0;32mimport\u001B[0m \u001B[0madvanced_processor_chain_factory\u001B[0m\u001B[0;34m\u001B[0m\u001B[0;34m\u001B[0m\u001B[0m\n",
      "\u001B[0;31mImportError\u001B[0m: cannot import name 'analysis'"
     ]
    }
   ]
  },
  {
   "cell_type": "code",
   "metadata": {
    "pycharm": {
     "name": "#%%\n"
    },
    "id": "rbwKnQ_7pVd-",
    "colab": {
     "base_uri": "https://localhost:8080/",
     "height": 204
    },
    "outputId": "b8013ac1-b885-4a32-b7ea-bce748fe8786"
   },
   "source": [
    "dataset = load_dataset()\n",
    "DEBUG = True"
   ],
   "execution_count": null,
   "outputs": []
  },
  {
   "cell_type": "markdown",
   "metadata": {
    "id": "FlLV5NUR7iIW"
   },
   "source": [
    "# Inspection of Pre-Processing Approaches"
   ]
  },
  {
   "cell_type": "code",
   "execution_count": null,
   "outputs": [],
   "source": [
    "models = {'logistic regression' : LogisticRegression(class_weight = 'balanced', n_jobs=-1),\n",
    "          'svm' : svm.LinearSVC(),\n",
    "          'knn' : KNeighborsClassifier(n_neighbors=8, n_jobs=-1)\n",
    "         }"
   ],
   "metadata": {
    "collapsed": false,
    "pycharm": {
     "name": "#%%\n"
    }
   }
  },
  {
   "cell_type": "markdown",
   "metadata": {
    "id": "aPeK64al7mZK"
   },
   "source": [
    "## Without Pre-Process"
   ]
  },
  {
   "cell_type": "code",
   "metadata": {
    "pycharm": {
     "name": "#%%\n"
    },
    "id": "6sjNr9zlpVeA",
    "colab": {
     "base_uri": "https://localhost:8080/"
    },
    "outputId": "527b9a8c-4163-4ce5-fd47-009dcd4895f2"
   },
   "source": [
    "evaluate_models_with_data(models, *vectorize_data(*preprocess_data(dataset, debug=DEBUG), CountVectorizer(max_features=2000)))"
   ],
   "execution_count": null,
   "outputs": []
  },
  {
   "cell_type": "markdown",
   "metadata": {
    "id": "GU6tcyNX7sCw"
   },
   "source": [
    "## Simple Pre-Process"
   ]
  },
  {
   "cell_type": "code",
   "metadata": {
    "id": "f3Pga30JpVeB",
    "colab": {
     "base_uri": "https://localhost:8080/"
    },
    "outputId": "bb8d049c-3280-438d-c91d-823a2e747b2e"
   },
   "source": [
    "evaluate_models_with_data(models,\n",
    "                          *vectorize_data(\n",
    "                              *preprocess_data(dataset, processor_chain=simple_processor_chain_factory.create(), debug=DEBUG),\n",
    "                              CountVectorizer(max_features=2000)))"
   ],
   "execution_count": null,
   "outputs": []
  },
  {
   "cell_type": "markdown",
   "metadata": {
    "id": "nN5nTx7T74Ox"
   },
   "source": [
    "## Pre-Process with Stemmimg"
   ]
  },
  {
   "cell_type": "code",
   "metadata": {
    "id": "m7QhNjp0pVeB",
    "colab": {
     "base_uri": "https://localhost:8080/"
    },
    "outputId": "5057e1c8-3d61-4e6e-d4f2-934ee6f93084"
   },
   "source": [
    "evaluate_models_with_data(models,\n",
    "                          *vectorize_data(\n",
    "                              *preprocess_data(dataset, processor_chain=advanced_processor_chain_factory.create('stem'),\n",
    "                                               debug=DEBUG),\n",
    "                              CountVectorizer(max_features=2000)))"
   ],
   "execution_count": null,
   "outputs": []
  },
  {
   "cell_type": "markdown",
   "source": [
    "## Pre-Process with Lemmitization"
   ],
   "metadata": {
    "collapsed": false
   }
  },
  {
   "cell_type": "code",
   "execution_count": null,
   "outputs": [],
   "source": [
    "X, Y = preprocess_data(dataset, processor_chain=advanced_processor_chain_factory.create('lem'), debug=DEBUG)\n",
    "del dataset\n",
    "X_train_bow, X_test_bow, Y_train_bow, Y_test_bow = vectorize_data(X, Y,CountVectorizer(max_features=2000))\n",
    "evaluate_models_with_data(models, X_train_bow, X_test_bow, Y_train_bow, Y_test_bow)"
   ],
   "metadata": {
    "collapsed": false,
    "pycharm": {
     "name": "#%%\n"
    }
   }
  },
  {
   "cell_type": "code",
   "execution_count": null,
   "outputs": [],
   "source": [
    "del models"
   ],
   "metadata": {
    "collapsed": false,
    "pycharm": {
     "name": "#%%\n"
    }
   }
  },
  {
   "cell_type": "markdown",
   "metadata": {
    "id": "29jDFYxW8IEQ"
   },
   "source": [
    "# Compare W2V and BoW with Their Best Tuned Hyper-parameters"
   ]
  },
  {
   "cell_type": "code",
   "execution_count": null,
   "outputs": [],
   "source": [
    "kfold = StratifiedKFold(n_splits=5)\n",
    "general_grid_params = {'verbose' : 1, 'cv' : kfold, 'n_jobs' : -1, 'scoring' : 'f1'}\n",
    "\n",
    "logistic_grid = {\n",
    "    'penalty':['l2'],\n",
    "    'C':[1, 300, 500, 700, 900],\n",
    "    'class_weight':['balanced'],\n",
    "    'solver':['saga'],\n",
    "    'n_jobs':[-1],\n",
    "    'max_iter':[1000],\n",
    "}\n",
    "\n",
    "svc_grid = {\n",
    "    'kernel' : ['linear', 'rbf'],\n",
    "    'C':[0.1, 1, 300, 500, 700],\n",
    "}\n",
    "\n",
    "knn_grid = {\n",
    "    'n_neighbors' : [i for i in range(1,24,2)],\n",
    "    'n_jobs' : [-1]\n",
    "}"
   ],
   "metadata": {
    "collapsed": false,
    "pycharm": {
     "name": "#%%\n"
    }
   }
  },
  {
   "cell_type": "markdown",
   "source": [
    "## BoW"
   ],
   "metadata": {
    "collapsed": false,
    "pycharm": {
     "name": "#%% md\n"
    }
   }
  },
  {
   "cell_type": "markdown",
   "source": [
    "### Logistic Regression"
   ],
   "metadata": {
    "collapsed": false
   }
  },
  {
   "cell_type": "code",
   "execution_count": null,
   "outputs": [],
   "source": [
    "bow_log = LogisticRegression()\n",
    "bow_log = GridSearchCV(estimator=bow_log, param_grid=logistic_grid, **general_grid_params)\n",
    "bow_log.fit(X_train_bow, Y_train_bow)\n",
    "print(f'Best Score: {bow_log.best_score_}')\n",
    "print(f'Best Params: {bow_log.best_params_}')"
   ],
   "metadata": {
    "collapsed": false,
    "pycharm": {
     "name": "#%%\n"
    }
   }
  },
  {
   "cell_type": "code",
   "execution_count": null,
   "outputs": [],
   "source": [
    "analysis(Y_test_bow, bow_log.predict(X_test_bow))"
   ],
   "metadata": {
    "collapsed": false,
    "pycharm": {
     "name": "#%%\n"
    }
   }
  },
  {
   "cell_type": "markdown",
   "source": [
    "### SVM"
   ],
   "metadata": {
    "collapsed": false
   }
  },
  {
   "cell_type": "code",
   "execution_count": null,
   "outputs": [],
   "source": [
    "bow_svm = svm.SVC()\n",
    "bow_svm = GridSearchCV(estimator=bow_svm, param_grid=svc_grid, **general_grid_params)\n",
    "bow_svm.fit(X_train_bow, Y_train_bow)\n",
    "print(f'Best Score: {bow_svm.best_score_}')\n",
    "print(f'Best Params: {bow_svm.best_params_}')"
   ],
   "metadata": {
    "collapsed": false,
    "pycharm": {
     "name": "#%%\n"
    }
   }
  },
  {
   "cell_type": "code",
   "execution_count": null,
   "outputs": [],
   "source": [
    "analysis(Y_test_bow, bow_svm.predict(X_test_bow))"
   ],
   "metadata": {
    "collapsed": false,
    "pycharm": {
     "name": "#%%\n"
    }
   }
  },
  {
   "cell_type": "markdown",
   "source": [
    "### KNN"
   ],
   "metadata": {
    "collapsed": false
   }
  },
  {
   "cell_type": "code",
   "execution_count": null,
   "outputs": [],
   "source": [
    "bow_knn = KNeighborsClassifier()\n",
    "bow_knn = GridSearchCV(estimator=bow_knn, param_grid=knn_grid, **general_grid_params)\n",
    "bow_knn.fit(X_train_bow, Y_train_bow)\n",
    "print(f'Best Score: {bow_svm.best_score_}')\n",
    "print(f'Best Params: {bow_svm.best_params_}')"
   ],
   "metadata": {
    "collapsed": false,
    "pycharm": {
     "name": "#%%\n"
    }
   }
  },
  {
   "cell_type": "code",
   "execution_count": null,
   "outputs": [],
   "source": [
    "analysis(Y_test_bow, bow_svm.predict(X_test_bow))\n"
   ],
   "metadata": {
    "collapsed": false,
    "pycharm": {
     "name": "#%%\n"
    }
   }
  },
  {
   "cell_type": "markdown",
   "source": [
    "## W2V"
   ],
   "metadata": {
    "collapsed": false,
    "pycharm": {
     "name": "#%% md\n"
    }
   }
  },
  {
   "cell_type": "code",
   "metadata": {
    "colab": {
     "base_uri": "https://localhost:8080/"
    },
    "id": "d4hXhrjvwZkA",
    "outputId": "5d6a9200-df85-4f4b-99cb-cf42fdaa9168",
    "pycharm": {
     "name": "#%%\n"
    }
   },
   "source": [
    "X_train_w2v, X_test_w2v, Y_train_w2v, Y_test_w2v = vectorize_data(X, Y, Word2VecAdapter(num_features=500))"
   ],
   "execution_count": null,
   "outputs": []
  },
  {
   "cell_type": "markdown",
   "source": [
    "### Logistic Regression"
   ],
   "metadata": {
    "collapsed": false
   }
  },
  {
   "cell_type": "code",
   "execution_count": null,
   "outputs": [],
   "source": [
    "w2v_log = LogisticRegression()\n",
    "w2v_log = GridSearchCV(estimator=w2v_log, param_grid=logistic_grid, **general_grid_params)\n",
    "w2v_log.fit(X_train_w2v, Y_train_w2v)\n",
    "print(f'Best Score: {w2v_log.best_score_}')\n",
    "print(f'Best Params: {w2v_log.best_params_}')"
   ],
   "metadata": {
    "collapsed": false,
    "pycharm": {
     "name": "#%%\n"
    }
   }
  },
  {
   "cell_type": "code",
   "execution_count": null,
   "outputs": [],
   "source": [
    "analysis(Y_test_w2v, w2v_log.predict(X_test_w2v))"
   ],
   "metadata": {
    "collapsed": false,
    "pycharm": {
     "name": "#%%\n"
    }
   }
  },
  {
   "cell_type": "markdown",
   "source": [
    "### SVM"
   ],
   "metadata": {
    "collapsed": false
   }
  },
  {
   "cell_type": "code",
   "execution_count": null,
   "outputs": [],
   "source": [
    "w2v_svm = svm.SVC()\n",
    "w2v_svm = GridSearchCV(estimator=w2v_svm, param_grid=svc_grid, **general_grid_params)\n",
    "w2v_svm.fit(X_train_w2v, Y_train_w2v)\n",
    "print(f'Best Score: {w2v_svm.best_score_}')\n",
    "print(f'Best Params: {w2v_svm.best_params_}')"
   ],
   "metadata": {
    "collapsed": false,
    "pycharm": {
     "name": "#%%\n"
    }
   }
  },
  {
   "cell_type": "code",
   "execution_count": null,
   "outputs": [],
   "source": [
    "analysis(Y_test_w2v, w2v_svm.predict(X_test_w2v))"
   ],
   "metadata": {
    "collapsed": false,
    "pycharm": {
     "name": "#%%\n"
    }
   }
  },
  {
   "cell_type": "markdown",
   "source": [
    "### KNN"
   ],
   "metadata": {
    "collapsed": false,
    "pycharm": {
     "name": "#%% md\n"
    }
   }
  },
  {
   "cell_type": "code",
   "execution_count": null,
   "outputs": [],
   "source": [
    "w2v_knn = KNeighborsClassifier()\n",
    "w2v_knn = GridSearchCV(estimator=w2v_knn, param_grid=knn_grid, **general_grid_params)\n",
    "w2v_knn.fit(X_train_w2v, Y_train_w2v)\n",
    "print(f'Best Score: {w2v_svm.best_score_}')\n",
    "print(f'Best Params: {w2v_svm.best_params_}')"
   ],
   "metadata": {
    "collapsed": false,
    "pycharm": {
     "name": "#%%\n"
    }
   }
  },
  {
   "cell_type": "code",
   "execution_count": null,
   "outputs": [],
   "source": [
    "analysis(Y_test_w2v, w2v_svm.predict(X_test_w2v))"
   ],
   "metadata": {
    "collapsed": false,
    "pycharm": {
     "name": "#%%\n"
    }
   }
  },
  {
   "cell_type": "markdown",
   "source": [
    "## Comparison"
   ],
   "metadata": {
    "collapsed": false,
    "pycharm": {
     "name": "#%% md\n"
    }
   }
  },
  {
   "cell_type": "code",
   "execution_count": null,
   "outputs": [],
   "source": [
    "summary = {\n",
    "    'LR': {'BoW': bow_log, 'W2V': w2v_log},\n",
    "    'SVM' : {'BoW': bow_svm, 'W2V': w2v_svm},\n",
    "    'KNN': {'BoW': bow_knn, 'W2V': w2v_knn},\n",
    "  }\n",
    "\n",
    "for name, values in summary.items():\n",
    "    print(f'For classifier {name}, best BoW score is {values[\"BoW\"].best_score_}, whereas best W2V score is {values[\"W2V\"].best_score_}')\n",
    "    best_model = \"BoW\" if values[\"BoW\"].best_score_ > values[\"W2V\"].best_score_ else \"W2V\"\n",
    "    print(f'So {best_model} is better with parameters {values[best_model].best_params_}')\n",
    "    filename = name + '.pkl'\n",
    "    with open(filename, 'wb') as f:\n",
    "        pickle.dump(values[best_model], f)\n",
    "\n",
    "del summary, bow_log, w2v_log, bow_svm, w2v_svm, bow_knn, w2v_knn"
   ],
   "metadata": {
    "collapsed": false,
    "pycharm": {
     "name": "#%%\n"
    }
   }
  },
  {
   "cell_type": "markdown",
   "source": [
    "# MLP"
   ],
   "metadata": {
    "collapsed": false,
    "pycharm": {
     "name": "#%% md\n"
    }
   }
  },
  {
   "cell_type": "code",
   "execution_count": null,
   "outputs": [],
   "source": [
    "mlp_grid = {\n",
    "    'hidden_layer_sizes':[(500, 250), (1000, 250), (500, 250, 250), (1000, 500,250)],\n",
    "    'activation':['tanh', 'relu'],\n",
    "    'solver':['sgd'],\n",
    "    'alpha':[1],\n",
    "    'learning_rate':['adaptive'],\n",
    "    'max_iter':[1000]\n",
    "}"
   ],
   "metadata": {
    "collapsed": false,
    "pycharm": {
     "name": "#%%\n"
    }
   }
  },
  {
   "cell_type": "markdown",
   "source": [
    "## W2V"
   ],
   "metadata": {
    "collapsed": false,
    "pycharm": {
     "name": "#%% md\n"
    }
   }
  },
  {
   "cell_type": "code",
   "execution_count": null,
   "outputs": [],
   "source": [
    "mlp_w2v = MLPClassifier()\n",
    "mlp_w2v = GridSearchCV(estimator=mlp_w2v, param_grid=mlp_grid, **general_grid_params)\n",
    "mlp_w2v.fit(X_train_w2v, Y_train_w2v)\n",
    "print(f'Best Score: {mlp_w2v.best_score_}')\n",
    "print(f'Best Params: {mlp_w2v.best_params_}')"
   ],
   "metadata": {
    "collapsed": false,
    "pycharm": {
     "name": "#%%\n"
    }
   }
  },
  {
   "cell_type": "code",
   "execution_count": null,
   "outputs": [],
   "source": [
    "analysis(Y_test_w2v, mlp_w2v.predict(X_test_w2v))"
   ],
   "metadata": {
    "collapsed": false,
    "pycharm": {
     "name": "#%%\n"
    }
   }
  },
  {
   "cell_type": "code",
   "execution_count": null,
   "outputs": [],
   "source": [
    "del X_train_w2v, X_test_w2v, Y_train_w2v, Y_test_w2v"
   ],
   "metadata": {
    "collapsed": false,
    "pycharm": {
     "name": "#%%\n"
    }
   }
  },
  {
   "cell_type": "markdown",
   "source": [
    "## BoW"
   ],
   "metadata": {
    "collapsed": false,
    "pycharm": {
     "name": "#%% md\n"
    }
   }
  },
  {
   "cell_type": "code",
   "execution_count": null,
   "outputs": [],
   "source": [
    "mlp_bow = MLPClassifier()\n",
    "mlp_bow = GridSearchCV(estimator=mlp_bow, param_grid=mlp_grid, **general_grid_params)\n",
    "mlp_bow.fit(X_train_bow, Y_train_bow)\n",
    "print(f'Best Score: {mlp_bow.best_score_}')\n",
    "print(f'Best Params: {mlp_bow.best_params_}')"
   ],
   "metadata": {
    "collapsed": false,
    "pycharm": {
     "name": "#%%\n"
    }
   }
  },
  {
   "cell_type": "code",
   "execution_count": null,
   "outputs": [],
   "source": [
    "analysis(Y_test_bow, mlp_bow.predict(X_test_bow))"
   ],
   "metadata": {
    "collapsed": false,
    "pycharm": {
     "name": "#%%\n"
    }
   }
  },
  {
   "cell_type": "code",
   "execution_count": null,
   "outputs": [],
   "source": [
    "del X_train_bow, X_test_bow, Y_train_bow, Y_test_bow"
   ],
   "metadata": {
    "collapsed": false,
    "pycharm": {
     "name": "#%%\n"
    }
   }
  },
  {
   "cell_type": "markdown",
   "source": [
    "## TD-IDF"
   ],
   "metadata": {
    "collapsed": false,
    "pycharm": {
     "name": "#%% md\n"
    }
   }
  },
  {
   "cell_type": "code",
   "execution_count": null,
   "outputs": [],
   "source": [
    "mlp_idf = MLPClassifier()\n",
    "mlp_idf = GridSearchCV(estimator=mlp_idf, param_grid=mlp_grid, **general_grid_params)\n",
    "X_train_idf, X_test_idf, Y_train_idf, Y_test_idf = vectorize_data(X, Y, TfidfVectorizer(max_features=2000))\n",
    "mlp_idf.fit(X_train_idf, Y_train_idf)\n",
    "print(f'Best Score: {mlp_idf.best_score_}')\n",
    "print(f'Best Params: {mlp_idf.best_params_}')"
   ],
   "metadata": {
    "collapsed": false,
    "pycharm": {
     "name": "#%%\n"
    }
   }
  },
  {
   "cell_type": "code",
   "execution_count": null,
   "outputs": [],
   "source": [
    "analysis(Y_train_idf, mlp_bow.predict(X_test_idf))\n",
    "del X_train_idf, X_test_idf, Y_train_idf, Y_test_idf"
   ],
   "metadata": {
    "collapsed": false,
    "pycharm": {
     "name": "#%%\n"
    }
   }
  },
  {
   "cell_type": "markdown",
   "source": [
    "## Comparison"
   ],
   "metadata": {
    "collapsed": false,
    "pycharm": {
     "name": "#%% md\n"
    }
   }
  },
  {
   "cell_type": "code",
   "execution_count": null,
   "outputs": [],
   "source": [
    "print('Best scores:')\n",
    "print(f'W2V: {mlp_w2v.best_score_} with params: {mlp_w2v.best_params_}')\n",
    "print(f'BoW: {mlp_bow.best_score_} with params: {mlp_bow.best_params_}')\n",
    "print(f'MLP: {mlp_idf.best_score_} with params: {mlp_idf.best_params_}')\n",
    "best_mlp = max(mlp_w2v, mlp_bow, mlp_idf, lambda mlp: mlp.best_score_)\n",
    "with open('best.pkl', 'wb') as f:\n",
    "    pickle.dump(best_mlp, f)"
   ],
   "metadata": {
    "collapsed": false,
    "pycharm": {
     "name": "#%%\n"
    }
   }
  }
 ]
}