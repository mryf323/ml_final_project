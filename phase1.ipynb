{
 "cells": [
  {
   "cell_type": "code",
   "execution_count": 1,
   "metadata": {
    "id": "uyBvpTEbpVd7"
   },
   "outputs": [],
   "source": [
    "import os\n",
    "import pickle\n",
    "\n",
    "from gensim.models import KeyedVectors\n",
    "import numpy as np\n",
    "from sklearn import svm\n",
    "from sklearn.linear_model import LogisticRegression\n",
    "from sklearn.neighbors import KNeighborsClassifier\n",
    "from sklearn.feature_extraction.text import CountVectorizer, TfidfVectorizer\n",
    "from sklearn.experimental import enable_halving_search_cv\n",
    "from sklearn.model_selection import StratifiedKFold, GridSearchCV, train_test_split, HalvingGridSearchCV\n",
    "from sklearn.neural_network import MLPClassifier\n",
    "\n",
    "from data import preprocess_data, vectorize_data, load_dataset\n",
    "from evaluation import analysis, evaluate_models_with_data\n",
    "from w2v_adapter import Word2VecAdapter\n",
    "\n",
    "import advanced_processor_chain_factory\n",
    "import simple_processor_chain_factory"
   ]
  },
  {
   "cell_type": "code",
   "execution_count": 2,
   "metadata": {
    "colab": {
     "base_uri": "https://localhost:8080/",
     "height": 204
    },
    "id": "rbwKnQ_7pVd-",
    "outputId": "b8013ac1-b885-4a32-b7ea-bce748fe8786",
    "pycharm": {
     "name": "#%%\n"
    }
   },
   "outputs": [],
   "source": [
    "dataset = load_dataset()\n",
    "DEBUG = False"
   ]
  },
  {
   "cell_type": "markdown",
   "metadata": {
    "id": "FlLV5NUR7iIW"
   },
   "source": [
    "# Inspection of Pre-Processing Approaches"
   ]
  },
  {
   "cell_type": "code",
   "execution_count": 3,
   "metadata": {
    "pycharm": {
     "name": "#%%\n"
    }
   },
   "outputs": [],
   "source": [
    "models = {'logistic regression' : LogisticRegression(class_weight = 'balanced', n_jobs=-1),\n",
    "          'svm' : svm.LinearSVC(),\n",
    "          'knn' : KNeighborsClassifier(n_neighbors=8, n_jobs=-1)\n",
    "         }"
   ]
  },
  {
   "cell_type": "markdown",
   "metadata": {
    "id": "aPeK64al7mZK"
   },
   "source": [
    "## Without Pre-Process"
   ]
  },
  {
   "cell_type": "code",
   "execution_count": 4,
   "metadata": {
    "colab": {
     "base_uri": "https://localhost:8080/"
    },
    "id": "6sjNr9zlpVeA",
    "outputId": "527b9a8c-4163-4ce5-fd47-009dcd4895f2",
    "pycharm": {
     "name": "#%%\n"
    }
   },
   "outputs": [
    {
     "name": "stdout",
     "output_type": "stream",
     "text": [
      "------Evaluating logistic regression------\n",
      "Report: Classification\n",
      "               precision    recall  f1-score   support\n",
      "\n",
      "    positive       0.88      0.86      0.87      5679\n",
      "    negative       0.87      0.88      0.87      5571\n",
      "\n",
      "    accuracy                           0.87     11250\n",
      "   macro avg       0.87      0.87      0.87     11250\n",
      "weighted avg       0.87      0.87      0.87     11250\n",
      "\n",
      "Matrix: Confusion\n",
      " [[4911  768]\n",
      " [ 642 4929]]\n",
      "Accuracy:\n",
      " 0.8746666666666667\n",
      "------Evaluating svm------\n"
     ]
    },
    {
     "name": "stderr",
     "output_type": "stream",
     "text": [
      "/home/mryf/PycharmProjects/ml_final_project/venv/lib/python3.6/site-packages/sklearn/svm/_base.py:986: ConvergenceWarning: Liblinear failed to converge, increase the number of iterations.\n",
      "  \"the number of iterations.\", ConvergenceWarning)\n"
     ]
    },
    {
     "name": "stdout",
     "output_type": "stream",
     "text": [
      "Report: Classification\n",
      "               precision    recall  f1-score   support\n",
      "\n",
      "    positive       0.91      0.81      0.86      5679\n",
      "    negative       0.83      0.91      0.87      5571\n",
      "\n",
      "    accuracy                           0.86     11250\n",
      "   macro avg       0.87      0.86      0.86     11250\n",
      "weighted avg       0.87      0.86      0.86     11250\n",
      "\n",
      "Matrix: Confusion\n",
      " [[4618 1061]\n",
      " [ 474 5097]]\n",
      "Accuracy:\n",
      " 0.8635555555555555\n",
      "------Evaluating knn------\n",
      "Report: Classification\n",
      "               precision    recall  f1-score   support\n",
      "\n",
      "    positive       0.65      0.64      0.65      5679\n",
      "    negative       0.64      0.65      0.65      5571\n",
      "\n",
      "    accuracy                           0.65     11250\n",
      "   macro avg       0.65      0.65      0.65     11250\n",
      "weighted avg       0.65      0.65      0.65     11250\n",
      "\n",
      "Matrix: Confusion\n",
      " [[3645 2034]\n",
      " [1930 3641]]\n",
      "Accuracy:\n",
      " 0.6476444444444445\n"
     ]
    }
   ],
   "source": [
    "evaluate_models_with_data(models, *vectorize_data(*preprocess_data(dataset, debug=DEBUG), CountVectorizer(max_features=2000)))"
   ]
  },
  {
   "cell_type": "markdown",
   "metadata": {
    "id": "GU6tcyNX7sCw"
   },
   "source": [
    "## Simple Pre-Process"
   ]
  },
  {
   "cell_type": "code",
   "execution_count": 5,
   "metadata": {
    "colab": {
     "base_uri": "https://localhost:8080/"
    },
    "id": "f3Pga30JpVeB",
    "outputId": "bb8d049c-3280-438d-c91d-823a2e747b2e"
   },
   "outputs": [
    {
     "data": {
      "text/plain": "Pandas Apply:   0%|          | 0/45000 [00:00<?, ?it/s]",
      "application/vnd.jupyter.widget-view+json": {
       "version_major": 2,
       "version_minor": 0,
       "model_id": "07bf3c129db241959532b29b39bf27a6"
      }
     },
     "metadata": {},
     "output_type": "display_data"
    },
    {
     "name": "stdout",
     "output_type": "stream",
     "text": [
      "------Evaluating logistic regression------\n",
      "Report: Classification\n",
      "               precision    recall  f1-score   support\n",
      "\n",
      "    positive       0.88      0.87      0.87      5672\n",
      "    negative       0.87      0.88      0.87      5578\n",
      "\n",
      "    accuracy                           0.87     11250\n",
      "   macro avg       0.87      0.87      0.87     11250\n",
      "weighted avg       0.87      0.87      0.87     11250\n",
      "\n",
      "Matrix: Confusion\n",
      " [[4925  747]\n",
      " [ 686 4892]]\n",
      "Accuracy:\n",
      " 0.8726222222222222\n",
      "------Evaluating svm------\n"
     ]
    },
    {
     "name": "stderr",
     "output_type": "stream",
     "text": [
      "/home/mryf/PycharmProjects/ml_final_project/venv/lib/python3.6/site-packages/sklearn/svm/_base.py:986: ConvergenceWarning: Liblinear failed to converge, increase the number of iterations.\n",
      "  \"the number of iterations.\", ConvergenceWarning)\n"
     ]
    },
    {
     "name": "stdout",
     "output_type": "stream",
     "text": [
      "Report: Classification\n",
      "               precision    recall  f1-score   support\n",
      "\n",
      "    positive       0.90      0.82      0.86      5672\n",
      "    negative       0.83      0.91      0.87      5578\n",
      "\n",
      "    accuracy                           0.86     11250\n",
      "   macro avg       0.87      0.86      0.86     11250\n",
      "weighted avg       0.87      0.86      0.86     11250\n",
      "\n",
      "Matrix: Confusion\n",
      " [[4658 1014]\n",
      " [ 509 5069]]\n",
      "Accuracy:\n",
      " 0.8646222222222222\n",
      "------Evaluating knn------\n",
      "Report: Classification\n",
      "               precision    recall  f1-score   support\n",
      "\n",
      "    positive       0.66      0.60      0.63      5672\n",
      "    negative       0.63      0.68      0.65      5578\n",
      "\n",
      "    accuracy                           0.64     11250\n",
      "   macro avg       0.64      0.64      0.64     11250\n",
      "weighted avg       0.64      0.64      0.64     11250\n",
      "\n",
      "Matrix: Confusion\n",
      " [[3413 2259]\n",
      " [1765 3813]]\n",
      "Accuracy:\n",
      " 0.6423111111111112\n"
     ]
    }
   ],
   "source": [
    "evaluate_models_with_data(models,\n",
    "                          *vectorize_data(\n",
    "                              *preprocess_data(dataset, processor_chain=simple_processor_chain_factory.create(), debug=DEBUG),\n",
    "                              CountVectorizer(max_features=2000)))"
   ]
  },
  {
   "cell_type": "markdown",
   "metadata": {
    "id": "nN5nTx7T74Ox"
   },
   "source": [
    "## Pre-Process with Stemmimg"
   ]
  },
  {
   "cell_type": "code",
   "execution_count": 6,
   "metadata": {
    "colab": {
     "base_uri": "https://localhost:8080/"
    },
    "id": "m7QhNjp0pVeB",
    "outputId": "5057e1c8-3d61-4e6e-d4f2-934ee6f93084"
   },
   "outputs": [
    {
     "data": {
      "text/plain": "Pandas Apply:   0%|          | 0/45000 [00:00<?, ?it/s]",
      "application/vnd.jupyter.widget-view+json": {
       "version_major": 2,
       "version_minor": 0,
       "model_id": "18f861f5985748d68ca2bc37fc8178cf"
      }
     },
     "metadata": {},
     "output_type": "display_data"
    },
    {
     "name": "stdout",
     "output_type": "stream",
     "text": [
      "------Evaluating logistic regression------\n",
      "Report: Classification\n",
      "               precision    recall  f1-score   support\n",
      "\n",
      "    positive       0.87      0.86      0.86      5623\n",
      "    negative       0.86      0.87      0.86      5627\n",
      "\n",
      "    accuracy                           0.86     11250\n",
      "   macro avg       0.86      0.86      0.86     11250\n",
      "weighted avg       0.86      0.86      0.86     11250\n",
      "\n",
      "Matrix: Confusion\n",
      " [[4845  778]\n",
      " [ 748 4879]]\n",
      "Accuracy:\n",
      " 0.8643555555555555\n",
      "------Evaluating svm------\n"
     ]
    },
    {
     "name": "stderr",
     "output_type": "stream",
     "text": [
      "/home/mryf/PycharmProjects/ml_final_project/venv/lib/python3.6/site-packages/sklearn/svm/_base.py:986: ConvergenceWarning: Liblinear failed to converge, increase the number of iterations.\n",
      "  \"the number of iterations.\", ConvergenceWarning)\n"
     ]
    },
    {
     "name": "stdout",
     "output_type": "stream",
     "text": [
      "Report: Classification\n",
      "               precision    recall  f1-score   support\n",
      "\n",
      "    positive       0.87      0.87      0.87      5623\n",
      "    negative       0.87      0.87      0.87      5627\n",
      "\n",
      "    accuracy                           0.87     11250\n",
      "   macro avg       0.87      0.87      0.87     11250\n",
      "weighted avg       0.87      0.87      0.87     11250\n",
      "\n",
      "Matrix: Confusion\n",
      " [[4870  753]\n",
      " [ 745 4882]]\n",
      "Accuracy:\n",
      " 0.8668444444444444\n",
      "------Evaluating knn------\n",
      "Report: Classification\n",
      "               precision    recall  f1-score   support\n",
      "\n",
      "    positive       0.63      0.80      0.70      5623\n",
      "    negative       0.72      0.54      0.62      5627\n",
      "\n",
      "    accuracy                           0.67     11250\n",
      "   macro avg       0.68      0.67      0.66     11250\n",
      "weighted avg       0.68      0.67      0.66     11250\n",
      "\n",
      "Matrix: Confusion\n",
      " [[4474 1149]\n",
      " [2609 3018]]\n",
      "Accuracy:\n",
      " 0.6659555555555555\n"
     ]
    }
   ],
   "source": [
    "evaluate_models_with_data(models,\n",
    "                          *vectorize_data(\n",
    "                              *preprocess_data(dataset, processor_chain=advanced_processor_chain_factory.create('stem'),\n",
    "                                               debug=DEBUG),\n",
    "                              CountVectorizer(max_features=2000)))"
   ]
  },
  {
   "cell_type": "markdown",
   "metadata": {},
   "source": [
    "## Pre-Process with Lemmitization"
   ]
  },
  {
   "cell_type": "code",
   "execution_count": 7,
   "metadata": {
    "pycharm": {
     "name": "#%%\n"
    }
   },
   "outputs": [
    {
     "data": {
      "text/plain": "Pandas Apply:   0%|          | 0/45000 [00:00<?, ?it/s]",
      "application/vnd.jupyter.widget-view+json": {
       "version_major": 2,
       "version_minor": 0,
       "model_id": "e05603d0fbc64cdb99d29499fcda14dc"
      }
     },
     "metadata": {},
     "output_type": "display_data"
    }
   ],
   "source": [
    "X, Y = preprocess_data(dataset, processor_chain=advanced_processor_chain_factory.create('lem'), debug=DEBUG)\n",
    "X_train, X_test, Y_train, Y_test = train_test_split(X, Y)\n",
    "del dataset"
   ]
  },
  {
   "cell_type": "code",
   "execution_count": 8,
   "metadata": {
    "pycharm": {
     "name": "#%%\n"
    }
   },
   "outputs": [],
   "source": [
    "vectorizer = CountVectorizer(max_features=2000)\n",
    "X_train_bow = vectorizer.fit_transform(X_train)\n",
    "X_test_bow = vectorizer.transform(X_test)"
   ]
  },
  {
   "cell_type": "code",
   "execution_count": 9,
   "metadata": {
    "pycharm": {
     "name": "#%%\n"
    }
   },
   "outputs": [
    {
     "name": "stdout",
     "output_type": "stream",
     "text": [
      "------Evaluating logistic regression------\n",
      "Report: Classification\n",
      "               precision    recall  f1-score   support\n",
      "\n",
      "    positive       0.87      0.86      0.87      5668\n",
      "    negative       0.86      0.87      0.87      5582\n",
      "\n",
      "    accuracy                           0.87     11250\n",
      "   macro avg       0.87      0.87      0.87     11250\n",
      "weighted avg       0.87      0.87      0.87     11250\n",
      "\n",
      "Matrix: Confusion\n",
      " [[4900  768]\n",
      " [ 706 4876]]\n",
      "Accuracy:\n",
      " 0.8689777777777777\n",
      "------Evaluating svm------\n"
     ]
    },
    {
     "name": "stderr",
     "output_type": "stream",
     "text": [
      "/home/mryf/PycharmProjects/ml_final_project/venv/lib/python3.6/site-packages/sklearn/svm/_base.py:986: ConvergenceWarning: Liblinear failed to converge, increase the number of iterations.\n",
      "  \"the number of iterations.\", ConvergenceWarning)\n"
     ]
    },
    {
     "name": "stdout",
     "output_type": "stream",
     "text": [
      "Report: Classification\n",
      "               precision    recall  f1-score   support\n",
      "\n",
      "    positive       0.88      0.86      0.87      5668\n",
      "    negative       0.86      0.88      0.87      5582\n",
      "\n",
      "    accuracy                           0.87     11250\n",
      "   macro avg       0.87      0.87      0.87     11250\n",
      "weighted avg       0.87      0.87      0.87     11250\n",
      "\n",
      "Matrix: Confusion\n",
      " [[4858  810]\n",
      " [ 669 4913]]\n",
      "Accuracy:\n",
      " 0.8685333333333334\n",
      "------Evaluating knn------\n",
      "Report: Classification\n",
      "               precision    recall  f1-score   support\n",
      "\n",
      "    positive       0.63      0.82      0.71      5668\n",
      "    negative       0.74      0.51      0.60      5582\n",
      "\n",
      "    accuracy                           0.67     11250\n",
      "   macro avg       0.68      0.67      0.66     11250\n",
      "weighted avg       0.68      0.67      0.66     11250\n",
      "\n",
      "Matrix: Confusion\n",
      " [[4675  993]\n",
      " [2760 2822]]\n",
      "Accuracy:\n",
      " 0.6664\n"
     ]
    }
   ],
   "source": [
    "evaluate_models_with_data(models, X_train_bow, X_test_bow, Y_train, Y_test)"
   ]
  },
  {
   "cell_type": "code",
   "execution_count": 10,
   "metadata": {
    "pycharm": {
     "name": "#%%\n"
    }
   },
   "outputs": [],
   "source": [
    "del models"
   ]
  },
  {
   "cell_type": "markdown",
   "metadata": {
    "id": "29jDFYxW8IEQ"
   },
   "source": [
    "# Compare W2V and BoW with Their Best Tuned Hyper-parameters"
   ]
  },
  {
   "cell_type": "code",
   "execution_count": 11,
   "metadata": {
    "pycharm": {
     "name": "#%%\n"
    }
   },
   "outputs": [],
   "source": [
    "kfold = StratifiedKFold(n_splits=5)\n",
    "general_grid_params = {'verbose' : 1, 'cv' : kfold, 'n_jobs' : -1, 'scoring' : 'f1'}\n",
    "\n",
    "logistic_grid = {\n",
    "    'penalty':['l2'],\n",
    "    'C':[1, 300, 500, 700, 900, 2000],\n",
    "    'class_weight':['balanced'],\n",
    "    'solver':['saga'],\n",
    "    'n_jobs':[-1],\n",
    "    'max_iter':[1000],\n",
    "}\n",
    "\n",
    "svc_grid = {\n",
    "    'kernel' : ['linear', 'rbf'],\n",
    "    'C':[0.1, 1, 500, 1000],\n",
    "}\n",
    "\n",
    "knn_grid = {\n",
    "    'n_neighbors' : [i for i in range(1,24,2)],\n",
    "    'n_jobs' : [-1]\n",
    "}"
   ]
  },
  {
   "cell_type": "markdown",
   "metadata": {
    "pycharm": {
     "name": "#%% md\n"
    }
   },
   "source": [
    "## BoW"
   ]
  },
  {
   "cell_type": "markdown",
   "metadata": {},
   "source": [
    "### Logistic Regression"
   ]
  },
  {
   "cell_type": "code",
   "execution_count": 12,
   "metadata": {
    "pycharm": {
     "name": "#%%\n"
    }
   },
   "outputs": [
    {
     "name": "stdout",
     "output_type": "stream",
     "text": [
      "Fitting 5 folds for each of 6 candidates, totalling 30 fits\n",
      "Best Score: 0.8645317545309833\n",
      "Best Params: {'C': 1, 'class_weight': 'balanced', 'max_iter': 1000, 'n_jobs': -1, 'penalty': 'l2', 'solver': 'saga'}\n"
     ]
    },
    {
     "name": "stderr",
     "output_type": "stream",
     "text": [
      "/home/mryf/PycharmProjects/ml_final_project/venv/lib/python3.6/site-packages/sklearn/linear_model/_sag.py:329: ConvergenceWarning: The max_iter was reached which means the coef_ did not converge\n",
      "  \"the coef_ did not converge\", ConvergenceWarning)\n"
     ]
    }
   ],
   "source": [
    "bow_log = LogisticRegression()\n",
    "bow_log = GridSearchCV(estimator=bow_log, param_grid=logistic_grid, **general_grid_params)\n",
    "bow_log.fit(X_train_bow, Y_train)\n",
    "print(f'Best Score: {bow_log.best_score_}')\n",
    "print(f'Best Params: {bow_log.best_params_}')"
   ]
  },
  {
   "cell_type": "code",
   "execution_count": 13,
   "metadata": {
    "pycharm": {
     "name": "#%%\n"
    }
   },
   "outputs": [
    {
     "name": "stdout",
     "output_type": "stream",
     "text": [
      "Report: Classification\n",
      "               precision    recall  f1-score   support\n",
      "\n",
      "    positive       0.87      0.86      0.87      5668\n",
      "    negative       0.86      0.87      0.87      5582\n",
      "\n",
      "    accuracy                           0.87     11250\n",
      "   macro avg       0.87      0.87      0.87     11250\n",
      "weighted avg       0.87      0.87      0.87     11250\n",
      "\n",
      "Matrix: Confusion\n",
      " [[4896  772]\n",
      " [ 710 4872]]\n",
      "Accuracy:\n",
      " 0.8682666666666666\n"
     ]
    },
    {
     "data": {
      "text/plain": "0.8679850347407803"
     },
     "execution_count": 13,
     "metadata": {},
     "output_type": "execute_result"
    }
   ],
   "source": [
    "analysis(Y_test, bow_log.predict(X_test_bow))"
   ]
  },
  {
   "cell_type": "markdown",
   "metadata": {},
   "source": [
    "### SVM"
   ]
  },
  {
   "cell_type": "code",
   "execution_count": 14,
   "metadata": {
    "pycharm": {
     "name": "#%%\n"
    }
   },
   "outputs": [
    {
     "ename": "KeyboardInterrupt",
     "evalue": "",
     "output_type": "error",
     "traceback": [
      "\u001B[0;31m---------------------------------------------------------------------------\u001B[0m",
      "\u001B[0;31mKeyboardInterrupt\u001B[0m                         Traceback (most recent call last)",
      "\u001B[0;32m<ipython-input-14-eb24f81cbbc4>\u001B[0m in \u001B[0;36m<module>\u001B[0;34m\u001B[0m\n\u001B[1;32m      1\u001B[0m \u001B[0mbow_svm\u001B[0m \u001B[0;34m=\u001B[0m \u001B[0msvm\u001B[0m\u001B[0;34m.\u001B[0m\u001B[0mSVC\u001B[0m\u001B[0;34m(\u001B[0m\u001B[0;34m)\u001B[0m\u001B[0;34m\u001B[0m\u001B[0;34m\u001B[0m\u001B[0m\n\u001B[1;32m      2\u001B[0m \u001B[0mbow_svm\u001B[0m \u001B[0;34m=\u001B[0m \u001B[0mHalvingGridSearchCV\u001B[0m\u001B[0;34m(\u001B[0m\u001B[0mestimator\u001B[0m\u001B[0;34m=\u001B[0m\u001B[0mbow_svm\u001B[0m\u001B[0;34m,\u001B[0m \u001B[0mparam_grid\u001B[0m\u001B[0;34m=\u001B[0m\u001B[0msvc_grid\u001B[0m\u001B[0;34m,\u001B[0m \u001B[0mcv\u001B[0m \u001B[0;34m=\u001B[0m \u001B[0;36m4\u001B[0m\u001B[0;34m,\u001B[0m \u001B[0mn_jobs\u001B[0m\u001B[0;34m=\u001B[0m \u001B[0;34m-\u001B[0m\u001B[0;36m1\u001B[0m\u001B[0;34m,\u001B[0m \u001B[0mscoring\u001B[0m\u001B[0;34m=\u001B[0m\u001B[0;34m'f1'\u001B[0m\u001B[0;34m,\u001B[0m \u001B[0mfactor\u001B[0m\u001B[0;34m=\u001B[0m\u001B[0;36m2\u001B[0m\u001B[0;34m)\u001B[0m\u001B[0;34m\u001B[0m\u001B[0;34m\u001B[0m\u001B[0m\n\u001B[0;32m----> 3\u001B[0;31m \u001B[0mbow_svm\u001B[0m\u001B[0;34m.\u001B[0m\u001B[0mfit\u001B[0m\u001B[0;34m(\u001B[0m\u001B[0mX_train_bow\u001B[0m\u001B[0;34m,\u001B[0m \u001B[0mY_train\u001B[0m\u001B[0;34m)\u001B[0m\u001B[0;34m\u001B[0m\u001B[0;34m\u001B[0m\u001B[0m\n\u001B[0m\u001B[1;32m      4\u001B[0m \u001B[0mprint\u001B[0m\u001B[0;34m(\u001B[0m\u001B[0;34mf'Best Score: {bow_svm.best_score_}'\u001B[0m\u001B[0;34m)\u001B[0m\u001B[0;34m\u001B[0m\u001B[0;34m\u001B[0m\u001B[0m\n\u001B[1;32m      5\u001B[0m \u001B[0mprint\u001B[0m\u001B[0;34m(\u001B[0m\u001B[0;34mf'Best Params: {bow_svm.best_params_}'\u001B[0m\u001B[0;34m)\u001B[0m\u001B[0;34m\u001B[0m\u001B[0;34m\u001B[0m\u001B[0m\n",
      "\u001B[0;32m~/PycharmProjects/ml_final_project/venv/lib/python3.6/site-packages/sklearn/model_selection/_search_successive_halving.py\u001B[0m in \u001B[0;36mfit\u001B[0;34m(self, X, y, groups, **fit_params)\u001B[0m\n\u001B[1;32m    211\u001B[0m         \u001B[0mself\u001B[0m\u001B[0;34m.\u001B[0m\u001B[0m_n_samples_orig\u001B[0m \u001B[0;34m=\u001B[0m \u001B[0m_num_samples\u001B[0m\u001B[0;34m(\u001B[0m\u001B[0mX\u001B[0m\u001B[0;34m)\u001B[0m\u001B[0;34m\u001B[0m\u001B[0;34m\u001B[0m\u001B[0m\n\u001B[1;32m    212\u001B[0m \u001B[0;34m\u001B[0m\u001B[0m\n\u001B[0;32m--> 213\u001B[0;31m         \u001B[0msuper\u001B[0m\u001B[0;34m(\u001B[0m\u001B[0;34m)\u001B[0m\u001B[0;34m.\u001B[0m\u001B[0mfit\u001B[0m\u001B[0;34m(\u001B[0m\u001B[0mX\u001B[0m\u001B[0;34m,\u001B[0m \u001B[0my\u001B[0m\u001B[0;34m=\u001B[0m\u001B[0my\u001B[0m\u001B[0;34m,\u001B[0m \u001B[0mgroups\u001B[0m\u001B[0;34m=\u001B[0m\u001B[0mgroups\u001B[0m\u001B[0;34m,\u001B[0m \u001B[0;34m**\u001B[0m\u001B[0mfit_params\u001B[0m\u001B[0;34m)\u001B[0m\u001B[0;34m\u001B[0m\u001B[0;34m\u001B[0m\u001B[0m\n\u001B[0m\u001B[1;32m    214\u001B[0m \u001B[0;34m\u001B[0m\u001B[0m\n\u001B[1;32m    215\u001B[0m         \u001B[0;31m# Set best_score_: BaseSearchCV does not set it, as refit is a callable\u001B[0m\u001B[0;34m\u001B[0m\u001B[0;34m\u001B[0m\u001B[0;34m\u001B[0m\u001B[0m\n",
      "\u001B[0;32m~/PycharmProjects/ml_final_project/venv/lib/python3.6/site-packages/sklearn/utils/validation.py\u001B[0m in \u001B[0;36minner_f\u001B[0;34m(*args, **kwargs)\u001B[0m\n\u001B[1;32m     61\u001B[0m             \u001B[0mextra_args\u001B[0m \u001B[0;34m=\u001B[0m \u001B[0mlen\u001B[0m\u001B[0;34m(\u001B[0m\u001B[0margs\u001B[0m\u001B[0;34m)\u001B[0m \u001B[0;34m-\u001B[0m \u001B[0mlen\u001B[0m\u001B[0;34m(\u001B[0m\u001B[0mall_args\u001B[0m\u001B[0;34m)\u001B[0m\u001B[0;34m\u001B[0m\u001B[0;34m\u001B[0m\u001B[0m\n\u001B[1;32m     62\u001B[0m             \u001B[0;32mif\u001B[0m \u001B[0mextra_args\u001B[0m \u001B[0;34m<=\u001B[0m \u001B[0;36m0\u001B[0m\u001B[0;34m:\u001B[0m\u001B[0;34m\u001B[0m\u001B[0;34m\u001B[0m\u001B[0m\n\u001B[0;32m---> 63\u001B[0;31m                 \u001B[0;32mreturn\u001B[0m \u001B[0mf\u001B[0m\u001B[0;34m(\u001B[0m\u001B[0;34m*\u001B[0m\u001B[0margs\u001B[0m\u001B[0;34m,\u001B[0m \u001B[0;34m**\u001B[0m\u001B[0mkwargs\u001B[0m\u001B[0;34m)\u001B[0m\u001B[0;34m\u001B[0m\u001B[0;34m\u001B[0m\u001B[0m\n\u001B[0m\u001B[1;32m     64\u001B[0m \u001B[0;34m\u001B[0m\u001B[0m\n\u001B[1;32m     65\u001B[0m             \u001B[0;31m# extra_args > 0\u001B[0m\u001B[0;34m\u001B[0m\u001B[0;34m\u001B[0m\u001B[0;34m\u001B[0m\u001B[0m\n",
      "\u001B[0;32m~/PycharmProjects/ml_final_project/venv/lib/python3.6/site-packages/sklearn/model_selection/_search.py\u001B[0m in \u001B[0;36mfit\u001B[0;34m(self, X, y, groups, **fit_params)\u001B[0m\n\u001B[1;32m    839\u001B[0m                 \u001B[0;32mreturn\u001B[0m \u001B[0mresults\u001B[0m\u001B[0;34m\u001B[0m\u001B[0;34m\u001B[0m\u001B[0m\n\u001B[1;32m    840\u001B[0m \u001B[0;34m\u001B[0m\u001B[0m\n\u001B[0;32m--> 841\u001B[0;31m             \u001B[0mself\u001B[0m\u001B[0;34m.\u001B[0m\u001B[0m_run_search\u001B[0m\u001B[0;34m(\u001B[0m\u001B[0mevaluate_candidates\u001B[0m\u001B[0;34m)\u001B[0m\u001B[0;34m\u001B[0m\u001B[0;34m\u001B[0m\u001B[0m\n\u001B[0m\u001B[1;32m    842\u001B[0m \u001B[0;34m\u001B[0m\u001B[0m\n\u001B[1;32m    843\u001B[0m             \u001B[0;31m# multimetric is determined here because in the case of a callable\u001B[0m\u001B[0;34m\u001B[0m\u001B[0;34m\u001B[0m\u001B[0;34m\u001B[0m\u001B[0m\n",
      "\u001B[0;32m~/PycharmProjects/ml_final_project/venv/lib/python3.6/site-packages/sklearn/model_selection/_search_successive_halving.py\u001B[0m in \u001B[0;36m_run_search\u001B[0;34m(self, evaluate_candidates)\u001B[0m\n\u001B[1;32m    318\u001B[0m \u001B[0;34m\u001B[0m\u001B[0m\n\u001B[1;32m    319\u001B[0m             results = evaluate_candidates(candidate_params, cv,\n\u001B[0;32m--> 320\u001B[0;31m                                           more_results=more_results)\n\u001B[0m\u001B[1;32m    321\u001B[0m \u001B[0;34m\u001B[0m\u001B[0m\n\u001B[1;32m    322\u001B[0m             \u001B[0mn_candidates_to_keep\u001B[0m \u001B[0;34m=\u001B[0m \u001B[0mceil\u001B[0m\u001B[0;34m(\u001B[0m\u001B[0mn_candidates\u001B[0m \u001B[0;34m/\u001B[0m \u001B[0mself\u001B[0m\u001B[0;34m.\u001B[0m\u001B[0mfactor\u001B[0m\u001B[0;34m)\u001B[0m\u001B[0;34m\u001B[0m\u001B[0;34m\u001B[0m\u001B[0m\n",
      "\u001B[0;32m~/PycharmProjects/ml_final_project/venv/lib/python3.6/site-packages/sklearn/model_selection/_search.py\u001B[0m in \u001B[0;36mevaluate_candidates\u001B[0;34m(candidate_params, cv, more_results)\u001B[0m\n\u001B[1;32m    807\u001B[0m                                    (split_idx, (train, test)) in product(\n\u001B[1;32m    808\u001B[0m                                    \u001B[0menumerate\u001B[0m\u001B[0;34m(\u001B[0m\u001B[0mcandidate_params\u001B[0m\u001B[0;34m)\u001B[0m\u001B[0;34m,\u001B[0m\u001B[0;34m\u001B[0m\u001B[0;34m\u001B[0m\u001B[0m\n\u001B[0;32m--> 809\u001B[0;31m                                    enumerate(cv.split(X, y, groups))))\n\u001B[0m\u001B[1;32m    810\u001B[0m \u001B[0;34m\u001B[0m\u001B[0m\n\u001B[1;32m    811\u001B[0m                 \u001B[0;32mif\u001B[0m \u001B[0mlen\u001B[0m\u001B[0;34m(\u001B[0m\u001B[0mout\u001B[0m\u001B[0;34m)\u001B[0m \u001B[0;34m<\u001B[0m \u001B[0;36m1\u001B[0m\u001B[0;34m:\u001B[0m\u001B[0;34m\u001B[0m\u001B[0;34m\u001B[0m\u001B[0m\n",
      "\u001B[0;32m~/PycharmProjects/ml_final_project/venv/lib/python3.6/site-packages/joblib/parallel.py\u001B[0m in \u001B[0;36m__call__\u001B[0;34m(self, iterable)\u001B[0m\n\u001B[1;32m   1052\u001B[0m \u001B[0;34m\u001B[0m\u001B[0m\n\u001B[1;32m   1053\u001B[0m             \u001B[0;32mwith\u001B[0m \u001B[0mself\u001B[0m\u001B[0;34m.\u001B[0m\u001B[0m_backend\u001B[0m\u001B[0;34m.\u001B[0m\u001B[0mretrieval_context\u001B[0m\u001B[0;34m(\u001B[0m\u001B[0;34m)\u001B[0m\u001B[0;34m:\u001B[0m\u001B[0;34m\u001B[0m\u001B[0;34m\u001B[0m\u001B[0m\n\u001B[0;32m-> 1054\u001B[0;31m                 \u001B[0mself\u001B[0m\u001B[0;34m.\u001B[0m\u001B[0mretrieve\u001B[0m\u001B[0;34m(\u001B[0m\u001B[0;34m)\u001B[0m\u001B[0;34m\u001B[0m\u001B[0;34m\u001B[0m\u001B[0m\n\u001B[0m\u001B[1;32m   1055\u001B[0m             \u001B[0;31m# Make sure that we get a last message telling us we are done\u001B[0m\u001B[0;34m\u001B[0m\u001B[0;34m\u001B[0m\u001B[0;34m\u001B[0m\u001B[0m\n\u001B[1;32m   1056\u001B[0m             \u001B[0melapsed_time\u001B[0m \u001B[0;34m=\u001B[0m \u001B[0mtime\u001B[0m\u001B[0;34m.\u001B[0m\u001B[0mtime\u001B[0m\u001B[0;34m(\u001B[0m\u001B[0;34m)\u001B[0m \u001B[0;34m-\u001B[0m \u001B[0mself\u001B[0m\u001B[0;34m.\u001B[0m\u001B[0m_start_time\u001B[0m\u001B[0;34m\u001B[0m\u001B[0;34m\u001B[0m\u001B[0m\n",
      "\u001B[0;32m~/PycharmProjects/ml_final_project/venv/lib/python3.6/site-packages/joblib/parallel.py\u001B[0m in \u001B[0;36mretrieve\u001B[0;34m(self)\u001B[0m\n\u001B[1;32m    931\u001B[0m             \u001B[0;32mtry\u001B[0m\u001B[0;34m:\u001B[0m\u001B[0;34m\u001B[0m\u001B[0;34m\u001B[0m\u001B[0m\n\u001B[1;32m    932\u001B[0m                 \u001B[0;32mif\u001B[0m \u001B[0mgetattr\u001B[0m\u001B[0;34m(\u001B[0m\u001B[0mself\u001B[0m\u001B[0;34m.\u001B[0m\u001B[0m_backend\u001B[0m\u001B[0;34m,\u001B[0m \u001B[0;34m'supports_timeout'\u001B[0m\u001B[0;34m,\u001B[0m \u001B[0;32mFalse\u001B[0m\u001B[0;34m)\u001B[0m\u001B[0;34m:\u001B[0m\u001B[0;34m\u001B[0m\u001B[0;34m\u001B[0m\u001B[0m\n\u001B[0;32m--> 933\u001B[0;31m                     \u001B[0mself\u001B[0m\u001B[0;34m.\u001B[0m\u001B[0m_output\u001B[0m\u001B[0;34m.\u001B[0m\u001B[0mextend\u001B[0m\u001B[0;34m(\u001B[0m\u001B[0mjob\u001B[0m\u001B[0;34m.\u001B[0m\u001B[0mget\u001B[0m\u001B[0;34m(\u001B[0m\u001B[0mtimeout\u001B[0m\u001B[0;34m=\u001B[0m\u001B[0mself\u001B[0m\u001B[0;34m.\u001B[0m\u001B[0mtimeout\u001B[0m\u001B[0;34m)\u001B[0m\u001B[0;34m)\u001B[0m\u001B[0;34m\u001B[0m\u001B[0;34m\u001B[0m\u001B[0m\n\u001B[0m\u001B[1;32m    934\u001B[0m                 \u001B[0;32melse\u001B[0m\u001B[0;34m:\u001B[0m\u001B[0;34m\u001B[0m\u001B[0;34m\u001B[0m\u001B[0m\n\u001B[1;32m    935\u001B[0m                     \u001B[0mself\u001B[0m\u001B[0;34m.\u001B[0m\u001B[0m_output\u001B[0m\u001B[0;34m.\u001B[0m\u001B[0mextend\u001B[0m\u001B[0;34m(\u001B[0m\u001B[0mjob\u001B[0m\u001B[0;34m.\u001B[0m\u001B[0mget\u001B[0m\u001B[0;34m(\u001B[0m\u001B[0;34m)\u001B[0m\u001B[0;34m)\u001B[0m\u001B[0;34m\u001B[0m\u001B[0;34m\u001B[0m\u001B[0m\n",
      "\u001B[0;32m~/PycharmProjects/ml_final_project/venv/lib/python3.6/site-packages/joblib/_parallel_backends.py\u001B[0m in \u001B[0;36mwrap_future_result\u001B[0;34m(future, timeout)\u001B[0m\n\u001B[1;32m    540\u001B[0m         AsyncResults.get from multiprocessing.\"\"\"\n\u001B[1;32m    541\u001B[0m         \u001B[0;32mtry\u001B[0m\u001B[0;34m:\u001B[0m\u001B[0;34m\u001B[0m\u001B[0;34m\u001B[0m\u001B[0m\n\u001B[0;32m--> 542\u001B[0;31m             \u001B[0;32mreturn\u001B[0m \u001B[0mfuture\u001B[0m\u001B[0;34m.\u001B[0m\u001B[0mresult\u001B[0m\u001B[0;34m(\u001B[0m\u001B[0mtimeout\u001B[0m\u001B[0;34m=\u001B[0m\u001B[0mtimeout\u001B[0m\u001B[0;34m)\u001B[0m\u001B[0;34m\u001B[0m\u001B[0;34m\u001B[0m\u001B[0m\n\u001B[0m\u001B[1;32m    543\u001B[0m         \u001B[0;32mexcept\u001B[0m \u001B[0mCfTimeoutError\u001B[0m \u001B[0;32mas\u001B[0m \u001B[0me\u001B[0m\u001B[0;34m:\u001B[0m\u001B[0;34m\u001B[0m\u001B[0;34m\u001B[0m\u001B[0m\n\u001B[1;32m    544\u001B[0m             \u001B[0;32mraise\u001B[0m \u001B[0mTimeoutError\u001B[0m \u001B[0;32mfrom\u001B[0m \u001B[0me\u001B[0m\u001B[0;34m\u001B[0m\u001B[0;34m\u001B[0m\u001B[0m\n",
      "\u001B[0;32m/usr/lib/python3.6/concurrent/futures/_base.py\u001B[0m in \u001B[0;36mresult\u001B[0;34m(self, timeout)\u001B[0m\n\u001B[1;32m    425\u001B[0m                 \u001B[0;32mreturn\u001B[0m \u001B[0mself\u001B[0m\u001B[0;34m.\u001B[0m\u001B[0m__get_result\u001B[0m\u001B[0;34m(\u001B[0m\u001B[0;34m)\u001B[0m\u001B[0;34m\u001B[0m\u001B[0;34m\u001B[0m\u001B[0m\n\u001B[1;32m    426\u001B[0m \u001B[0;34m\u001B[0m\u001B[0m\n\u001B[0;32m--> 427\u001B[0;31m             \u001B[0mself\u001B[0m\u001B[0;34m.\u001B[0m\u001B[0m_condition\u001B[0m\u001B[0;34m.\u001B[0m\u001B[0mwait\u001B[0m\u001B[0;34m(\u001B[0m\u001B[0mtimeout\u001B[0m\u001B[0;34m)\u001B[0m\u001B[0;34m\u001B[0m\u001B[0;34m\u001B[0m\u001B[0m\n\u001B[0m\u001B[1;32m    428\u001B[0m \u001B[0;34m\u001B[0m\u001B[0m\n\u001B[1;32m    429\u001B[0m             \u001B[0;32mif\u001B[0m \u001B[0mself\u001B[0m\u001B[0;34m.\u001B[0m\u001B[0m_state\u001B[0m \u001B[0;32min\u001B[0m \u001B[0;34m[\u001B[0m\u001B[0mCANCELLED\u001B[0m\u001B[0;34m,\u001B[0m \u001B[0mCANCELLED_AND_NOTIFIED\u001B[0m\u001B[0;34m]\u001B[0m\u001B[0;34m:\u001B[0m\u001B[0;34m\u001B[0m\u001B[0;34m\u001B[0m\u001B[0m\n",
      "\u001B[0;32m/usr/lib/python3.6/threading.py\u001B[0m in \u001B[0;36mwait\u001B[0;34m(self, timeout)\u001B[0m\n\u001B[1;32m    293\u001B[0m         \u001B[0;32mtry\u001B[0m\u001B[0;34m:\u001B[0m    \u001B[0;31m# restore state no matter what (e.g., KeyboardInterrupt)\u001B[0m\u001B[0;34m\u001B[0m\u001B[0;34m\u001B[0m\u001B[0m\n\u001B[1;32m    294\u001B[0m             \u001B[0;32mif\u001B[0m \u001B[0mtimeout\u001B[0m \u001B[0;32mis\u001B[0m \u001B[0;32mNone\u001B[0m\u001B[0;34m:\u001B[0m\u001B[0;34m\u001B[0m\u001B[0;34m\u001B[0m\u001B[0m\n\u001B[0;32m--> 295\u001B[0;31m                 \u001B[0mwaiter\u001B[0m\u001B[0;34m.\u001B[0m\u001B[0macquire\u001B[0m\u001B[0;34m(\u001B[0m\u001B[0;34m)\u001B[0m\u001B[0;34m\u001B[0m\u001B[0;34m\u001B[0m\u001B[0m\n\u001B[0m\u001B[1;32m    296\u001B[0m                 \u001B[0mgotit\u001B[0m \u001B[0;34m=\u001B[0m \u001B[0;32mTrue\u001B[0m\u001B[0;34m\u001B[0m\u001B[0;34m\u001B[0m\u001B[0m\n\u001B[1;32m    297\u001B[0m             \u001B[0;32melse\u001B[0m\u001B[0;34m:\u001B[0m\u001B[0;34m\u001B[0m\u001B[0;34m\u001B[0m\u001B[0m\n",
      "\u001B[0;31mKeyboardInterrupt\u001B[0m: "
     ]
    }
   ],
   "source": [
    "bow_svm = svm.SVC()\n",
    "bow_svm = HalvingGridSearchCV(estimator=bow_svm, param_grid=svc_grid, cv = 4, n_jobs= -1, scoring='f1', factor=2)\n",
    "bow_svm.fit(X_train_bow, Y_train)\n",
    "print(f'Best Score: {bow_svm.best_score_}')\n",
    "print(f'Best Params: {bow_svm.best_params_}')"
   ]
  },
  {
   "cell_type": "code",
   "execution_count": null,
   "metadata": {
    "pycharm": {
     "name": "#%%\n"
    }
   },
   "outputs": [],
   "source": [
    "analysis(Y_test, bow_svm.predict(X_test_bow))"
   ]
  },
  {
   "cell_type": "markdown",
   "metadata": {},
   "source": [
    "### KNN"
   ]
  },
  {
   "cell_type": "code",
   "execution_count": null,
   "metadata": {
    "pycharm": {
     "name": "#%%\n"
    }
   },
   "outputs": [],
   "source": [
    "bow_knn = KNeighborsClassifier()\n",
    "bow_knn = GridSearchCV(estimator=bow_knn, param_grid=knn_grid, **general_grid_params)\n",
    "bow_knn.fit(X_train_bow, Y_train)\n",
    "print(f'Best Score: {bow_svm.best_score_}')\n",
    "print(f'Best Params: {bow_svm.best_params_}')"
   ]
  },
  {
   "cell_type": "code",
   "execution_count": null,
   "metadata": {
    "pycharm": {
     "name": "#%%\n"
    }
   },
   "outputs": [],
   "source": [
    "analysis(Y_test, bow_svm.predict(X_test_bow))\n"
   ]
  },
  {
   "cell_type": "markdown",
   "metadata": {
    "pycharm": {
     "name": "#%% md\n"
    }
   },
   "source": [
    "## W2V"
   ]
  },
  {
   "cell_type": "code",
   "execution_count": 15,
   "metadata": {
    "colab": {
     "base_uri": "https://localhost:8080/"
    },
    "id": "d4hXhrjvwZkA",
    "outputId": "5d6a9200-df85-4f4b-99cb-cf42fdaa9168",
    "pycharm": {
     "name": "#%%\n"
    }
   },
   "outputs": [
    {
     "data": {
      "text/plain": "Pandas Apply:   0%|          | 0/33750 [00:00<?, ?it/s]",
      "application/vnd.jupyter.widget-view+json": {
       "version_major": 2,
       "version_minor": 0,
       "model_id": "af98bf10683f4f388bb9661eec351340"
      }
     },
     "metadata": {},
     "output_type": "display_data"
    },
    {
     "data": {
      "text/plain": "Pandas Apply:   0%|          | 0/33750 [00:00<?, ?it/s]",
      "application/vnd.jupyter.widget-view+json": {
       "version_major": 2,
       "version_minor": 0,
       "model_id": "55e5c152d97140bfa7eeb4f0431bd257"
      }
     },
     "metadata": {},
     "output_type": "display_data"
    },
    {
     "data": {
      "text/plain": "Pandas Apply:   0%|          | 0/11250 [00:00<?, ?it/s]",
      "application/vnd.jupyter.widget-view+json": {
       "version_major": 2,
       "version_minor": 0,
       "model_id": "7278d631c8b34fe69eb4128e3deae003"
      }
     },
     "metadata": {},
     "output_type": "display_data"
    }
   ],
   "source": [
    "if os.path.isfile('w2v.kv'):\n",
    "    vectorizer = Word2VecAdapter(pre_trained_model=KeyedVectors.load('w2v.kv'))\n",
    "else:\n",
    "    vectorizer = Word2VecAdapter()\n",
    "\n",
    "X_train_w2v = vectorizer.fit_transform(X_train)\n",
    "X_test_w2v = vectorizer.transform(X_test)\n",
    "\n",
    "if not os.path.isfile('w2v.kv'):\n",
    "     vectorizer.wv.save('w2v.kv')"
   ]
  },
  {
   "cell_type": "markdown",
   "metadata": {},
   "source": [
    "### Logistic Regression"
   ]
  },
  {
   "cell_type": "code",
   "execution_count": null,
   "metadata": {
    "pycharm": {
     "name": "#%%\n"
    }
   },
   "outputs": [],
   "source": [
    "w2v_log = LogisticRegression(n_jobs=-1)\n",
    "w2v_log.fit(X_train_w2v, Y_train)\n",
    "analysis(Y_test, w2v_log.predict(X_test_w2v))"
   ]
  },
  {
   "cell_type": "code",
   "execution_count": null,
   "metadata": {
    "pycharm": {
     "name": "#%%\n"
    }
   },
   "outputs": [],
   "source": [
    "w2v_log = LogisticRegression()\n",
    "w2v_log = GridSearchCV(estimator=w2v_log, param_grid=logistic_grid, **general_grid_params)\n",
    "w2v_log.fit(X_train_w2v, Y_train)\n",
    "print(f'Best Score: {w2v_log.best_score_}')\n",
    "print(f'Best Params: {w2v_log.best_params_}')"
   ]
  },
  {
   "cell_type": "code",
   "execution_count": null,
   "metadata": {
    "pycharm": {
     "name": "#%%\n"
    }
   },
   "outputs": [],
   "source": [
    "analysis(Y_test, w2v_log.predict(X_test_w2v))"
   ]
  },
  {
   "cell_type": "markdown",
   "metadata": {},
   "source": [
    "### SVM"
   ]
  },
  {
   "cell_type": "code",
   "execution_count": null,
   "metadata": {
    "pycharm": {
     "name": "#%%\n"
    }
   },
   "outputs": [],
   "source": [
    "w2v_svm = svm.SVC()\n",
    "w2v_svm = HalvingGridSearchCV(estimator=w2v_svm, param_grid=svc_grid, cv = 4, n_jobs= -1, scoring='f1', factor=2)\n",
    "w2v_svm.fit(X_train_w2v, Y_train)\n",
    "print(f'Best Score: {w2v_svm.best_score_}')\n",
    "print(f'Best Params: {w2v_svm.best_params_}')"
   ]
  },
  {
   "cell_type": "code",
   "execution_count": null,
   "metadata": {
    "pycharm": {
     "name": "#%%\n"
    }
   },
   "outputs": [],
   "source": [
    "analysis(Y_test, w2v_svm.predict(X_test_w2v))"
   ]
  },
  {
   "cell_type": "markdown",
   "metadata": {
    "pycharm": {
     "name": "#%% md\n"
    }
   },
   "source": [
    "### KNN"
   ]
  },
  {
   "cell_type": "code",
   "execution_count": null,
   "metadata": {
    "pycharm": {
     "name": "#%%\n"
    }
   },
   "outputs": [],
   "source": [
    "w2v_knn = KNeighborsClassifier()\n",
    "w2v_knn = GridSearchCV(estimator=w2v_knn, param_grid=knn_grid, **general_grid_params)\n",
    "w2v_knn.fit(X_train_w2v, Y_train)\n",
    "print(f'Best Score: {w2v_svm.best_score_}')\n",
    "print(f'Best Params: {w2v_svm.best_params_}')"
   ]
  },
  {
   "cell_type": "code",
   "execution_count": null,
   "metadata": {
    "pycharm": {
     "name": "#%%\n"
    }
   },
   "outputs": [],
   "source": [
    "analysis(Y_test, w2v_svm.predict(X_test_w2v))"
   ]
  },
  {
   "cell_type": "markdown",
   "metadata": {
    "pycharm": {
     "name": "#%% md\n"
    }
   },
   "source": [
    "## Comparison"
   ]
  },
  {
   "cell_type": "code",
   "execution_count": null,
   "metadata": {
    "pycharm": {
     "name": "#%%\n"
    }
   },
   "outputs": [],
   "source": [
    "summary = {\n",
    "    'LR': {'BoW': bow_log, 'W2V': w2v_log},\n",
    "    'SVM' : {'BoW': bow_svm, 'W2V': w2v_svm},\n",
    "    'KNN': {'BoW': bow_knn, 'W2V': w2v_knn},\n",
    "  }\n",
    "\n",
    "for name, values in summary.items():\n",
    "    print(f'For classifier {name}, best BoW score is {values[\"BoW\"].best_score_}, whereas best W2V score is {values[\"W2V\"].best_score_}')\n",
    "    best_model = \"BoW\" if values[\"BoW\"].best_score_ > values[\"W2V\"].best_score_ else \"W2V\"\n",
    "    print(f'So {best_model} is better with parameters {values[best_model].best_params_}')\n",
    "    filename = name + '.pkl'\n",
    "    with open(filename, 'wb') as f:\n",
    "        pickle.dump(values[best_model], f)\n",
    "\n",
    "del summary, bow_log, w2v_log, bow_svm, w2v_svm, bow_knn, w2v_knn"
   ]
  },
  {
   "cell_type": "markdown",
   "metadata": {
    "pycharm": {
     "name": "#%% md\n"
    }
   },
   "source": [
    "# MLP"
   ]
  },
  {
   "cell_type": "code",
   "execution_count": 16,
   "metadata": {
    "pycharm": {
     "name": "#%%\n"
    }
   },
   "outputs": [],
   "source": [
    "mlp_grid = {\n",
    "    'hidden_layer_sizes': [(500, 250), (1000, 250), (500, 250, 250), (1000, 500, 250), (500, 250, 250, 5),\n",
    "                           (1000, 500, 250, 5)],\n",
    "    'activation':['tanh', 'relu']\n",
    "}\n",
    "def eval_mlp(X_train, X_test, Y_train, Y_test):\n",
    "    best_f1 = -1\n",
    "    best_model = None\n",
    "    for sizes in mlp_grid['hidden_layer_sizes']:\n",
    "        for act in mlp_grid['activation']:\n",
    "            m = MLPClassifier(hidden_layer_sizes=sizes, activation=act, solver='sgd', alpha=1,\n",
    "                                    learning_rate='adaptive', max_iter=10)\n",
    "            m.fit(X_train, Y_train)\n",
    "            print(f'Model config: hidden_layer_sizes={sizes}, activation={act}')\n",
    "            f1 = analysis(Y_test, m.predict(X_test))\n",
    "            if f1 > best_f1:\n",
    "                best_model = m\n",
    "                best_f1 = f1\n",
    "    return best_f1, best_model"
   ]
  },
  {
   "cell_type": "markdown",
   "metadata": {
    "pycharm": {
     "name": "#%% md\n"
    }
   },
   "source": [
    "## W2V"
   ]
  },
  {
   "cell_type": "code",
   "execution_count": 17,
   "metadata": {
    "pycharm": {
     "name": "#%%\n"
    }
   },
   "outputs": [
    {
     "name": "stderr",
     "output_type": "stream",
     "text": [
      "/home/mryf/PycharmProjects/ml_final_project/venv/lib/python3.6/site-packages/sklearn/neural_network/_multilayer_perceptron.py:617: ConvergenceWarning: Stochastic Optimizer: Maximum iterations (10) reached and the optimization hasn't converged yet.\n",
      "  % self.max_iter, ConvergenceWarning)\n"
     ]
    },
    {
     "name": "stdout",
     "output_type": "stream",
     "text": [
      "Model config: hidden_layer_sizes=(500, 250), activation=tanh\n",
      "Report: Classification\n",
      "               precision    recall  f1-score   support\n",
      "\n",
      "    positive       0.86      0.85      0.85      5668\n",
      "    negative       0.85      0.85      0.85      5582\n",
      "\n",
      "    accuracy                           0.85     11250\n",
      "   macro avg       0.85      0.85      0.85     11250\n",
      "weighted avg       0.85      0.85      0.85     11250\n",
      "\n",
      "Matrix: Confusion\n",
      " [[4825  843]\n",
      " [ 816 4766]]\n",
      "Accuracy:\n",
      " 0.8525333333333334\n"
     ]
    },
    {
     "name": "stderr",
     "output_type": "stream",
     "text": [
      "/home/mryf/PycharmProjects/ml_final_project/venv/lib/python3.6/site-packages/sklearn/neural_network/_multilayer_perceptron.py:617: ConvergenceWarning: Stochastic Optimizer: Maximum iterations (10) reached and the optimization hasn't converged yet.\n",
      "  % self.max_iter, ConvergenceWarning)\n"
     ]
    },
    {
     "name": "stdout",
     "output_type": "stream",
     "text": [
      "Model config: hidden_layer_sizes=(500, 250), activation=relu\n",
      "Report: Classification\n",
      "               precision    recall  f1-score   support\n",
      "\n",
      "    positive       0.85      0.84      0.85      5668\n",
      "    negative       0.84      0.85      0.85      5582\n",
      "\n",
      "    accuracy                           0.85     11250\n",
      "   macro avg       0.85      0.85      0.85     11250\n",
      "weighted avg       0.85      0.85      0.85     11250\n",
      "\n",
      "Matrix: Confusion\n",
      " [[4783  885]\n",
      " [ 816 4766]]\n",
      "Accuracy:\n",
      " 0.8488\n"
     ]
    },
    {
     "name": "stderr",
     "output_type": "stream",
     "text": [
      "/home/mryf/PycharmProjects/ml_final_project/venv/lib/python3.6/site-packages/sklearn/neural_network/_multilayer_perceptron.py:617: ConvergenceWarning: Stochastic Optimizer: Maximum iterations (10) reached and the optimization hasn't converged yet.\n",
      "  % self.max_iter, ConvergenceWarning)\n"
     ]
    },
    {
     "name": "stdout",
     "output_type": "stream",
     "text": [
      "Model config: hidden_layer_sizes=(1000, 250), activation=tanh\n",
      "Report: Classification\n",
      "               precision    recall  f1-score   support\n",
      "\n",
      "    positive       0.85      0.86      0.86      5668\n",
      "    negative       0.85      0.85      0.85      5582\n",
      "\n",
      "    accuracy                           0.85     11250\n",
      "   macro avg       0.85      0.85      0.85     11250\n",
      "weighted avg       0.85      0.85      0.85     11250\n",
      "\n",
      "Matrix: Confusion\n",
      " [[4863  805]\n",
      " [ 843 4739]]\n",
      "Accuracy:\n",
      " 0.8535111111111111\n"
     ]
    },
    {
     "name": "stderr",
     "output_type": "stream",
     "text": [
      "/home/mryf/PycharmProjects/ml_final_project/venv/lib/python3.6/site-packages/sklearn/neural_network/_multilayer_perceptron.py:617: ConvergenceWarning: Stochastic Optimizer: Maximum iterations (10) reached and the optimization hasn't converged yet.\n",
      "  % self.max_iter, ConvergenceWarning)\n"
     ]
    },
    {
     "name": "stdout",
     "output_type": "stream",
     "text": [
      "Model config: hidden_layer_sizes=(1000, 250), activation=relu\n",
      "Report: Classification\n",
      "               precision    recall  f1-score   support\n",
      "\n",
      "    positive       0.85      0.84      0.85      5668\n",
      "    negative       0.84      0.85      0.85      5582\n",
      "\n",
      "    accuracy                           0.85     11250\n",
      "   macro avg       0.85      0.85      0.85     11250\n",
      "weighted avg       0.85      0.85      0.85     11250\n",
      "\n",
      "Matrix: Confusion\n",
      " [[4766  902]\n",
      " [ 815 4767]]\n",
      "Accuracy:\n",
      " 0.8473777777777778\n"
     ]
    },
    {
     "name": "stderr",
     "output_type": "stream",
     "text": [
      "/home/mryf/PycharmProjects/ml_final_project/venv/lib/python3.6/site-packages/sklearn/neural_network/_multilayer_perceptron.py:617: ConvergenceWarning: Stochastic Optimizer: Maximum iterations (10) reached and the optimization hasn't converged yet.\n",
      "  % self.max_iter, ConvergenceWarning)\n"
     ]
    },
    {
     "name": "stdout",
     "output_type": "stream",
     "text": [
      "Model config: hidden_layer_sizes=(500, 250, 250), activation=tanh\n",
      "Report: Classification\n",
      "               precision    recall  f1-score   support\n",
      "\n",
      "    positive       0.86      0.85      0.86      5668\n",
      "    negative       0.85      0.86      0.86      5582\n",
      "\n",
      "    accuracy                           0.86     11250\n",
      "   macro avg       0.86      0.86      0.86     11250\n",
      "weighted avg       0.86      0.86      0.86     11250\n",
      "\n",
      "Matrix: Confusion\n",
      " [[4843  825]\n",
      " [ 794 4788]]\n",
      "Accuracy:\n",
      " 0.8560888888888889\n"
     ]
    },
    {
     "name": "stderr",
     "output_type": "stream",
     "text": [
      "/home/mryf/PycharmProjects/ml_final_project/venv/lib/python3.6/site-packages/sklearn/neural_network/_multilayer_perceptron.py:617: ConvergenceWarning: Stochastic Optimizer: Maximum iterations (10) reached and the optimization hasn't converged yet.\n",
      "  % self.max_iter, ConvergenceWarning)\n"
     ]
    },
    {
     "name": "stdout",
     "output_type": "stream",
     "text": [
      "Model config: hidden_layer_sizes=(500, 250, 250), activation=relu\n",
      "Report: Classification\n",
      "               precision    recall  f1-score   support\n",
      "\n",
      "    positive       0.86      0.84      0.85      5668\n",
      "    negative       0.84      0.87      0.85      5582\n",
      "\n",
      "    accuracy                           0.85     11250\n",
      "   macro avg       0.85      0.85      0.85     11250\n",
      "weighted avg       0.85      0.85      0.85     11250\n",
      "\n",
      "Matrix: Confusion\n",
      " [[4750  918]\n",
      " [ 749 4833]]\n",
      "Accuracy:\n",
      " 0.8518222222222223\n"
     ]
    },
    {
     "name": "stderr",
     "output_type": "stream",
     "text": [
      "/home/mryf/PycharmProjects/ml_final_project/venv/lib/python3.6/site-packages/sklearn/neural_network/_multilayer_perceptron.py:617: ConvergenceWarning: Stochastic Optimizer: Maximum iterations (10) reached and the optimization hasn't converged yet.\n",
      "  % self.max_iter, ConvergenceWarning)\n"
     ]
    },
    {
     "name": "stdout",
     "output_type": "stream",
     "text": [
      "Model config: hidden_layer_sizes=(1000, 500, 250), activation=tanh\n",
      "Report: Classification\n",
      "               precision    recall  f1-score   support\n",
      "\n",
      "    positive       0.87      0.84      0.85      5668\n",
      "    negative       0.84      0.87      0.86      5582\n",
      "\n",
      "    accuracy                           0.85     11250\n",
      "   macro avg       0.86      0.85      0.85     11250\n",
      "weighted avg       0.86      0.85      0.85     11250\n",
      "\n",
      "Matrix: Confusion\n",
      " [[4774  894]\n",
      " [ 739 4843]]\n",
      "Accuracy:\n",
      " 0.8548444444444444\n"
     ]
    },
    {
     "name": "stderr",
     "output_type": "stream",
     "text": [
      "/home/mryf/PycharmProjects/ml_final_project/venv/lib/python3.6/site-packages/sklearn/neural_network/_multilayer_perceptron.py:617: ConvergenceWarning: Stochastic Optimizer: Maximum iterations (10) reached and the optimization hasn't converged yet.\n",
      "  % self.max_iter, ConvergenceWarning)\n"
     ]
    },
    {
     "name": "stdout",
     "output_type": "stream",
     "text": [
      "Model config: hidden_layer_sizes=(1000, 500, 250), activation=relu\n",
      "Report: Classification\n",
      "               precision    recall  f1-score   support\n",
      "\n",
      "    positive       0.86      0.84      0.85      5668\n",
      "    negative       0.85      0.86      0.86      5582\n",
      "\n",
      "    accuracy                           0.85     11250\n",
      "   macro avg       0.85      0.85      0.85     11250\n",
      "weighted avg       0.85      0.85      0.85     11250\n",
      "\n",
      "Matrix: Confusion\n",
      " [[4789  879]\n",
      " [ 756 4826]]\n",
      "Accuracy:\n",
      " 0.8546666666666667\n"
     ]
    }
   ],
   "source": [
    "w2v_f1, w2v_mlp = eval_mlp(X_train_w2v, X_test_w2v, Y_train, Y_test)"
   ]
  },
  {
   "cell_type": "markdown",
   "metadata": {
    "pycharm": {
     "name": "#%% md\n"
    }
   },
   "source": [
    "## BoW"
   ]
  },
  {
   "cell_type": "code",
   "execution_count": 18,
   "metadata": {
    "pycharm": {
     "name": "#%%\n"
    }
   },
   "outputs": [
    {
     "name": "stderr",
     "output_type": "stream",
     "text": [
      "/home/mryf/PycharmProjects/ml_final_project/venv/lib/python3.6/site-packages/sklearn/neural_network/_multilayer_perceptron.py:617: ConvergenceWarning: Stochastic Optimizer: Maximum iterations (10) reached and the optimization hasn't converged yet.\n",
      "  % self.max_iter, ConvergenceWarning)\n"
     ]
    },
    {
     "name": "stdout",
     "output_type": "stream",
     "text": [
      "Model config: hidden_layer_sizes=(500, 250), activation=tanh\n",
      "Report: Classification\n",
      "               precision    recall  f1-score   support\n",
      "\n",
      "    positive       0.87      0.86      0.86      5668\n",
      "    negative       0.86      0.87      0.86      5582\n",
      "\n",
      "    accuracy                           0.86     11250\n",
      "   macro avg       0.86      0.86      0.86     11250\n",
      "weighted avg       0.86      0.86      0.86     11250\n",
      "\n",
      "Matrix: Confusion\n",
      " [[4853  815]\n",
      " [ 753 4829]]\n",
      "Accuracy:\n",
      " 0.8606222222222222\n"
     ]
    },
    {
     "name": "stderr",
     "output_type": "stream",
     "text": [
      "/home/mryf/PycharmProjects/ml_final_project/venv/lib/python3.6/site-packages/sklearn/neural_network/_multilayer_perceptron.py:617: ConvergenceWarning: Stochastic Optimizer: Maximum iterations (10) reached and the optimization hasn't converged yet.\n",
      "  % self.max_iter, ConvergenceWarning)\n"
     ]
    },
    {
     "name": "stdout",
     "output_type": "stream",
     "text": [
      "Model config: hidden_layer_sizes=(500, 250), activation=relu\n",
      "Report: Classification\n",
      "               precision    recall  f1-score   support\n",
      "\n",
      "    positive       0.87      0.82      0.85      5668\n",
      "    negative       0.83      0.88      0.85      5582\n",
      "\n",
      "    accuracy                           0.85     11250\n",
      "   macro avg       0.85      0.85      0.85     11250\n",
      "weighted avg       0.85      0.85      0.85     11250\n",
      "\n",
      "Matrix: Confusion\n",
      " [[4665 1003]\n",
      " [ 683 4899]]\n",
      "Accuracy:\n",
      " 0.8501333333333333\n"
     ]
    },
    {
     "name": "stderr",
     "output_type": "stream",
     "text": [
      "/home/mryf/PycharmProjects/ml_final_project/venv/lib/python3.6/site-packages/sklearn/neural_network/_multilayer_perceptron.py:617: ConvergenceWarning: Stochastic Optimizer: Maximum iterations (10) reached and the optimization hasn't converged yet.\n",
      "  % self.max_iter, ConvergenceWarning)\n"
     ]
    },
    {
     "name": "stdout",
     "output_type": "stream",
     "text": [
      "Model config: hidden_layer_sizes=(1000, 250), activation=tanh\n",
      "Report: Classification\n",
      "               precision    recall  f1-score   support\n",
      "\n",
      "    positive       0.88      0.85      0.86      5668\n",
      "    negative       0.85      0.88      0.86      5582\n",
      "\n",
      "    accuracy                           0.86     11250\n",
      "   macro avg       0.86      0.86      0.86     11250\n",
      "weighted avg       0.86      0.86      0.86     11250\n",
      "\n",
      "Matrix: Confusion\n",
      " [[4804  864]\n",
      " [ 682 4900]]\n",
      "Accuracy:\n",
      " 0.8625777777777778\n"
     ]
    },
    {
     "name": "stderr",
     "output_type": "stream",
     "text": [
      "/home/mryf/PycharmProjects/ml_final_project/venv/lib/python3.6/site-packages/sklearn/neural_network/_multilayer_perceptron.py:617: ConvergenceWarning: Stochastic Optimizer: Maximum iterations (10) reached and the optimization hasn't converged yet.\n",
      "  % self.max_iter, ConvergenceWarning)\n"
     ]
    },
    {
     "name": "stdout",
     "output_type": "stream",
     "text": [
      "Model config: hidden_layer_sizes=(1000, 250), activation=relu\n",
      "Report: Classification\n",
      "               precision    recall  f1-score   support\n",
      "\n",
      "    positive       0.89      0.81      0.85      5668\n",
      "    negative       0.82      0.89      0.86      5582\n",
      "\n",
      "    accuracy                           0.85     11250\n",
      "   macro avg       0.86      0.85      0.85     11250\n",
      "weighted avg       0.86      0.85      0.85     11250\n",
      "\n",
      "Matrix: Confusion\n",
      " [[4611 1057]\n",
      " [ 599 4983]]\n",
      "Accuracy:\n",
      " 0.8528\n"
     ]
    },
    {
     "name": "stderr",
     "output_type": "stream",
     "text": [
      "/home/mryf/PycharmProjects/ml_final_project/venv/lib/python3.6/site-packages/sklearn/neural_network/_multilayer_perceptron.py:617: ConvergenceWarning: Stochastic Optimizer: Maximum iterations (10) reached and the optimization hasn't converged yet.\n",
      "  % self.max_iter, ConvergenceWarning)\n"
     ]
    },
    {
     "name": "stdout",
     "output_type": "stream",
     "text": [
      "Model config: hidden_layer_sizes=(500, 250, 250), activation=tanh\n",
      "Report: Classification\n",
      "               precision    recall  f1-score   support\n",
      "\n",
      "    positive       0.88      0.84      0.86      5668\n",
      "    negative       0.85      0.89      0.87      5582\n",
      "\n",
      "    accuracy                           0.86     11250\n",
      "   macro avg       0.87      0.86      0.86     11250\n",
      "weighted avg       0.87      0.86      0.86     11250\n",
      "\n",
      "Matrix: Confusion\n",
      " [[4772  896]\n",
      " [ 629 4953]]\n",
      "Accuracy:\n",
      " 0.8644444444444445\n"
     ]
    },
    {
     "name": "stderr",
     "output_type": "stream",
     "text": [
      "/home/mryf/PycharmProjects/ml_final_project/venv/lib/python3.6/site-packages/sklearn/neural_network/_multilayer_perceptron.py:617: ConvergenceWarning: Stochastic Optimizer: Maximum iterations (10) reached and the optimization hasn't converged yet.\n",
      "  % self.max_iter, ConvergenceWarning)\n"
     ]
    },
    {
     "name": "stdout",
     "output_type": "stream",
     "text": [
      "Model config: hidden_layer_sizes=(500, 250, 250), activation=relu\n",
      "Report: Classification\n",
      "               precision    recall  f1-score   support\n",
      "\n",
      "    positive       0.86      0.85      0.86      5668\n",
      "    negative       0.85      0.86      0.86      5582\n",
      "\n",
      "    accuracy                           0.86     11250\n",
      "   macro avg       0.86      0.86      0.86     11250\n",
      "weighted avg       0.86      0.86      0.86     11250\n",
      "\n",
      "Matrix: Confusion\n",
      " [[4818  850]\n",
      " [ 772 4810]]\n",
      "Accuracy:\n",
      " 0.8558222222222223\n"
     ]
    },
    {
     "name": "stderr",
     "output_type": "stream",
     "text": [
      "/home/mryf/PycharmProjects/ml_final_project/venv/lib/python3.6/site-packages/sklearn/neural_network/_multilayer_perceptron.py:617: ConvergenceWarning: Stochastic Optimizer: Maximum iterations (10) reached and the optimization hasn't converged yet.\n",
      "  % self.max_iter, ConvergenceWarning)\n"
     ]
    },
    {
     "name": "stdout",
     "output_type": "stream",
     "text": [
      "Model config: hidden_layer_sizes=(1000, 500, 250), activation=tanh\n",
      "Report: Classification\n",
      "               precision    recall  f1-score   support\n",
      "\n",
      "    positive       0.88      0.87      0.87      5668\n",
      "    negative       0.87      0.88      0.87      5582\n",
      "\n",
      "    accuracy                           0.87     11250\n",
      "   macro avg       0.87      0.87      0.87     11250\n",
      "weighted avg       0.87      0.87      0.87     11250\n",
      "\n",
      "Matrix: Confusion\n",
      " [[4906  762]\n",
      " [ 683 4899]]\n",
      "Accuracy:\n",
      " 0.8715555555555555\n"
     ]
    },
    {
     "name": "stderr",
     "output_type": "stream",
     "text": [
      "/home/mryf/PycharmProjects/ml_final_project/venv/lib/python3.6/site-packages/sklearn/neural_network/_multilayer_perceptron.py:617: ConvergenceWarning: Stochastic Optimizer: Maximum iterations (10) reached and the optimization hasn't converged yet.\n",
      "  % self.max_iter, ConvergenceWarning)\n"
     ]
    },
    {
     "name": "stdout",
     "output_type": "stream",
     "text": [
      "Model config: hidden_layer_sizes=(1000, 500, 250), activation=relu\n",
      "Report: Classification\n",
      "               precision    recall  f1-score   support\n",
      "\n",
      "    positive       0.87      0.85      0.86      5668\n",
      "    negative       0.85      0.87      0.86      5582\n",
      "\n",
      "    accuracy                           0.86     11250\n",
      "   macro avg       0.86      0.86      0.86     11250\n",
      "weighted avg       0.86      0.86      0.86     11250\n",
      "\n",
      "Matrix: Confusion\n",
      " [[4802  866]\n",
      " [ 730 4852]]\n",
      "Accuracy:\n",
      " 0.8581333333333333\n"
     ]
    }
   ],
   "source": [
    "bow_f1, bow_mlp = eval_mlp(X_train_bow, X_test_bow, Y_train, Y_test)"
   ]
  },
  {
   "cell_type": "markdown",
   "metadata": {
    "pycharm": {
     "name": "#%% md\n"
    }
   },
   "source": [
    "## TD-IDF"
   ]
  },
  {
   "cell_type": "code",
   "execution_count": 19,
   "metadata": {
    "pycharm": {
     "name": "#%%\n"
    }
   },
   "outputs": [],
   "source": [
    "vectorizer = TfidfVectorizer(max_features=2000)\n",
    "X_train_idf = vectorizer.fit_transform(X_train)\n",
    "X_test_idf = vectorizer.transform(X_test)"
   ]
  },
  {
   "cell_type": "code",
   "execution_count": 20,
   "metadata": {
    "pycharm": {
     "name": "#%%\n"
    }
   },
   "outputs": [
    {
     "name": "stderr",
     "output_type": "stream",
     "text": [
      "/home/mryf/PycharmProjects/ml_final_project/venv/lib/python3.6/site-packages/sklearn/neural_network/_multilayer_perceptron.py:617: ConvergenceWarning: Stochastic Optimizer: Maximum iterations (10) reached and the optimization hasn't converged yet.\n",
      "  % self.max_iter, ConvergenceWarning)\n"
     ]
    },
    {
     "name": "stdout",
     "output_type": "stream",
     "text": [
      "Model config: hidden_layer_sizes=(500, 250), activation=tanh\n",
      "Report: Classification\n",
      "               precision    recall  f1-score   support\n",
      "\n",
      "    positive       0.76      0.81      0.78      5668\n",
      "    negative       0.79      0.73      0.76      5582\n",
      "\n",
      "    accuracy                           0.77     11250\n",
      "   macro avg       0.77      0.77      0.77     11250\n",
      "weighted avg       0.77      0.77      0.77     11250\n",
      "\n",
      "Matrix: Confusion\n",
      " [[4572 1096]\n",
      " [1480 4102]]\n",
      "Accuracy:\n",
      " 0.7710222222222223\n"
     ]
    },
    {
     "name": "stderr",
     "output_type": "stream",
     "text": [
      "/home/mryf/PycharmProjects/ml_final_project/venv/lib/python3.6/site-packages/sklearn/neural_network/_multilayer_perceptron.py:617: ConvergenceWarning: Stochastic Optimizer: Maximum iterations (10) reached and the optimization hasn't converged yet.\n",
      "  % self.max_iter, ConvergenceWarning)\n"
     ]
    },
    {
     "name": "stdout",
     "output_type": "stream",
     "text": [
      "Model config: hidden_layer_sizes=(500, 250), activation=relu\n",
      "Report: Classification\n",
      "               precision    recall  f1-score   support\n",
      "\n",
      "    positive       0.77      0.65      0.70      5668\n",
      "    negative       0.69      0.80      0.74      5582\n",
      "\n",
      "    accuracy                           0.72     11250\n",
      "   macro avg       0.73      0.72      0.72     11250\n",
      "weighted avg       0.73      0.72      0.72     11250\n",
      "\n",
      "Matrix: Confusion\n",
      " [[3673 1995]\n",
      " [1112 4470]]\n",
      "Accuracy:\n",
      " 0.7238222222222223\n"
     ]
    },
    {
     "name": "stderr",
     "output_type": "stream",
     "text": [
      "/home/mryf/PycharmProjects/ml_final_project/venv/lib/python3.6/site-packages/sklearn/neural_network/_multilayer_perceptron.py:617: ConvergenceWarning: Stochastic Optimizer: Maximum iterations (10) reached and the optimization hasn't converged yet.\n",
      "  % self.max_iter, ConvergenceWarning)\n"
     ]
    },
    {
     "name": "stdout",
     "output_type": "stream",
     "text": [
      "Model config: hidden_layer_sizes=(1000, 250), activation=tanh\n",
      "Report: Classification\n",
      "               precision    recall  f1-score   support\n",
      "\n",
      "    positive       0.77      0.81      0.79      5668\n",
      "    negative       0.80      0.76      0.78      5582\n",
      "\n",
      "    accuracy                           0.79     11250\n",
      "   macro avg       0.79      0.79      0.79     11250\n",
      "weighted avg       0.79      0.79      0.79     11250\n",
      "\n",
      "Matrix: Confusion\n",
      " [[4615 1053]\n",
      " [1347 4235]]\n",
      "Accuracy:\n",
      " 0.7866666666666666\n"
     ]
    },
    {
     "name": "stderr",
     "output_type": "stream",
     "text": [
      "/home/mryf/PycharmProjects/ml_final_project/venv/lib/python3.6/site-packages/sklearn/neural_network/_multilayer_perceptron.py:617: ConvergenceWarning: Stochastic Optimizer: Maximum iterations (10) reached and the optimization hasn't converged yet.\n",
      "  % self.max_iter, ConvergenceWarning)\n"
     ]
    },
    {
     "name": "stdout",
     "output_type": "stream",
     "text": [
      "Model config: hidden_layer_sizes=(1000, 250), activation=relu\n",
      "Report: Classification\n",
      "               precision    recall  f1-score   support\n",
      "\n",
      "    positive       0.75      0.74      0.75      5668\n",
      "    negative       0.74      0.75      0.75      5582\n",
      "\n",
      "    accuracy                           0.75     11250\n",
      "   macro avg       0.75      0.75      0.75     11250\n",
      "weighted avg       0.75      0.75      0.75     11250\n",
      "\n",
      "Matrix: Confusion\n",
      " [[4214 1454]\n",
      " [1399 4183]]\n",
      "Accuracy:\n",
      " 0.7464\n"
     ]
    },
    {
     "name": "stderr",
     "output_type": "stream",
     "text": [
      "/home/mryf/PycharmProjects/ml_final_project/venv/lib/python3.6/site-packages/sklearn/neural_network/_multilayer_perceptron.py:617: ConvergenceWarning: Stochastic Optimizer: Maximum iterations (10) reached and the optimization hasn't converged yet.\n",
      "  % self.max_iter, ConvergenceWarning)\n"
     ]
    },
    {
     "name": "stdout",
     "output_type": "stream",
     "text": [
      "Model config: hidden_layer_sizes=(500, 250, 250), activation=tanh\n",
      "Report: Classification\n",
      "               precision    recall  f1-score   support\n",
      "\n",
      "    positive       0.76      0.81      0.79      5668\n",
      "    negative       0.80      0.75      0.77      5582\n",
      "\n",
      "    accuracy                           0.78     11250\n",
      "   macro avg       0.78      0.78      0.78     11250\n",
      "weighted avg       0.78      0.78      0.78     11250\n",
      "\n",
      "Matrix: Confusion\n",
      " [[4604 1064]\n",
      " [1415 4167]]\n",
      "Accuracy:\n",
      " 0.7796444444444445\n"
     ]
    },
    {
     "name": "stderr",
     "output_type": "stream",
     "text": [
      "/home/mryf/PycharmProjects/ml_final_project/venv/lib/python3.6/site-packages/sklearn/neural_network/_multilayer_perceptron.py:617: ConvergenceWarning: Stochastic Optimizer: Maximum iterations (10) reached and the optimization hasn't converged yet.\n",
      "  % self.max_iter, ConvergenceWarning)\n"
     ]
    },
    {
     "name": "stdout",
     "output_type": "stream",
     "text": [
      "Model config: hidden_layer_sizes=(500, 250, 250), activation=relu\n",
      "Report: Classification\n",
      "               precision    recall  f1-score   support\n",
      "\n",
      "    positive       0.69      0.70      0.69      5668\n",
      "    negative       0.69      0.68      0.68      5582\n",
      "\n",
      "    accuracy                           0.69     11250\n",
      "   macro avg       0.69      0.69      0.69     11250\n",
      "weighted avg       0.69      0.69      0.69     11250\n",
      "\n",
      "Matrix: Confusion\n",
      " [[3966 1702]\n",
      " [1808 3774]]\n",
      "Accuracy:\n",
      " 0.688\n"
     ]
    },
    {
     "name": "stderr",
     "output_type": "stream",
     "text": [
      "/home/mryf/PycharmProjects/ml_final_project/venv/lib/python3.6/site-packages/sklearn/neural_network/_multilayer_perceptron.py:617: ConvergenceWarning: Stochastic Optimizer: Maximum iterations (10) reached and the optimization hasn't converged yet.\n",
      "  % self.max_iter, ConvergenceWarning)\n"
     ]
    },
    {
     "name": "stdout",
     "output_type": "stream",
     "text": [
      "Model config: hidden_layer_sizes=(1000, 500, 250), activation=tanh\n",
      "Report: Classification\n",
      "               precision    recall  f1-score   support\n",
      "\n",
      "    positive       0.84      0.76      0.80      5668\n",
      "    negative       0.78      0.85      0.81      5582\n",
      "\n",
      "    accuracy                           0.81     11250\n",
      "   macro avg       0.81      0.81      0.81     11250\n",
      "weighted avg       0.81      0.81      0.81     11250\n",
      "\n",
      "Matrix: Confusion\n",
      " [[4327 1341]\n",
      " [ 844 4738]]\n",
      "Accuracy:\n",
      " 0.8057777777777778\n"
     ]
    },
    {
     "name": "stderr",
     "output_type": "stream",
     "text": [
      "/home/mryf/PycharmProjects/ml_final_project/venv/lib/python3.6/site-packages/sklearn/neural_network/_multilayer_perceptron.py:617: ConvergenceWarning: Stochastic Optimizer: Maximum iterations (10) reached and the optimization hasn't converged yet.\n",
      "  % self.max_iter, ConvergenceWarning)\n"
     ]
    },
    {
     "name": "stdout",
     "output_type": "stream",
     "text": [
      "Model config: hidden_layer_sizes=(1000, 500, 250), activation=relu\n",
      "Report: Classification\n",
      "               precision    recall  f1-score   support\n",
      "\n",
      "    positive       0.75      0.64      0.69      5668\n",
      "    negative       0.68      0.79      0.73      5582\n",
      "\n",
      "    accuracy                           0.71     11250\n",
      "   macro avg       0.72      0.72      0.71     11250\n",
      "weighted avg       0.72      0.71      0.71     11250\n",
      "\n",
      "Matrix: Confusion\n",
      " [[3640 2028]\n",
      " [1184 4398]]\n",
      "Accuracy:\n",
      " 0.7144888888888888\n"
     ]
    }
   ],
   "source": [
    "tf_idf_f1, tf_idf_mlp = eval_mlp(X_train_idf, X_test_idf, Y_train, Y_test)"
   ]
  },
  {
   "cell_type": "markdown",
   "metadata": {
    "pycharm": {
     "name": "#%% md\n"
    }
   },
   "source": [
    "## Comparison"
   ]
  },
  {
   "cell_type": "code",
   "execution_count": 21,
   "metadata": {
    "pycharm": {
     "name": "#%%\n"
    }
   },
   "outputs": [
    {
     "name": "stdout",
     "output_type": "stream",
     "text": [
      "Best scores:\n",
      "W2V: 0.8557293047088965 with params: {'activation': 'tanh', 'alpha': 1, 'batch_size': 'auto', 'beta_1': 0.9, 'beta_2': 0.999, 'early_stopping': False, 'epsilon': 1e-08, 'hidden_layer_sizes': (1000, 500, 250), 'learning_rate': 'adaptive', 'learning_rate_init': 0.001, 'max_fun': 15000, 'max_iter': 10, 'momentum': 0.9, 'n_iter_no_change': 10, 'nesterovs_momentum': True, 'power_t': 0.5, 'random_state': None, 'shuffle': True, 'solver': 'sgd', 'tol': 0.0001, 'validation_fraction': 0.1, 'verbose': False, 'warm_start': False}\n",
      "BoW: 0.8714755848083253 with params: {'activation': 'tanh', 'alpha': 1, 'batch_size': 'auto', 'beta_1': 0.9, 'beta_2': 0.999, 'early_stopping': False, 'epsilon': 1e-08, 'hidden_layer_sizes': (1000, 500, 250), 'learning_rate': 'adaptive', 'learning_rate_init': 0.001, 'max_fun': 15000, 'max_iter': 10, 'momentum': 0.9, 'n_iter_no_change': 10, 'nesterovs_momentum': True, 'power_t': 0.5, 'random_state': None, 'shuffle': True, 'solver': 'sgd', 'tol': 0.0001, 'validation_fraction': 0.1, 'verbose': False, 'warm_start': False}\n",
      "Tf-Idf: 0.8126232741617357 with params: {'activation': 'tanh', 'alpha': 1, 'batch_size': 'auto', 'beta_1': 0.9, 'beta_2': 0.999, 'early_stopping': False, 'epsilon': 1e-08, 'hidden_layer_sizes': (1000, 500, 250), 'learning_rate': 'adaptive', 'learning_rate_init': 0.001, 'max_fun': 15000, 'max_iter': 10, 'momentum': 0.9, 'n_iter_no_change': 10, 'nesterovs_momentum': True, 'power_t': 0.5, 'random_state': None, 'shuffle': True, 'solver': 'sgd', 'tol': 0.0001, 'validation_fraction': 0.1, 'verbose': False, 'warm_start': False}\n"
     ]
    }
   ],
   "source": [
    "print('Best scores:')\n",
    "print(f'W2V: {w2v_f1} with params: {w2v_mlp.get_params()}')\n",
    "print(f'BoW: {bow_f1} with params: {bow_mlp.get_params()}')\n",
    "print(f'Tf-Idf: {tf_idf_f1} with params: {tf_idf_mlp.get_params()}')\n",
    "\n",
    "idx = np.argmax([w2v_f1, bow_f1, tf_idf_f1])\n",
    "best_mlp = [w2v_mlp, bow_mlp, tf_idf_mlp][idx]\n",
    "with open('best.pkl', 'wb') as f:\n",
    "    pickle.dump(best_mlp, f)\n"
   ]
  }
 ],
 "metadata": {
  "colab": {
   "collapsed_sections": [],
   "name": "phase1.ipynb",
   "provenance": []
  },
  "interpreter": {
   "hash": "31f2aee4e71d21fbe5cf8b01ff0e069b9275f58929596ceb00d14d90e3e16cd6"
  },
  "kernelspec": {
   "display_name": "Python 3",
   "language": "python",
   "name": "python3"
  },
  "language_info": {
   "codemirror_mode": {
    "name": "ipython",
    "version": 3
   },
   "file_extension": ".py",
   "mimetype": "text/x-python",
   "name": "python",
   "nbconvert_exporter": "python",
   "pygments_lexer": "ipython3",
   "version": "3.6.9"
  }
 },
 "nbformat": 4,
 "nbformat_minor": 1
}