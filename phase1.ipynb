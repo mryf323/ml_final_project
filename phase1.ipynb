{
 "cells": [
  {
   "cell_type": "code",
   "execution_count": 1,
   "metadata": {
    "id": "uyBvpTEbpVd7"
   },
   "outputs": [],
   "source": [
    "import os\n",
    "import pickle\n",
    "import pandas as pd\n",
    "from gensim.models import KeyedVectors\n",
    "import numpy as np\n",
    "from sklearn import svm\n",
    "from sklearn.linear_model import LogisticRegression\n",
    "from sklearn.neighbors import KNeighborsClassifier\n",
    "from sklearn.feature_extraction.text import CountVectorizer, TfidfVectorizer\n",
    "from sklearn.experimental import enable_halving_search_cv\n",
    "from sklearn.model_selection import StratifiedKFold, GridSearchCV, train_test_split, HalvingGridSearchCV\n",
    "from sklearn.neural_network import MLPClassifier\n",
    "\n",
    "from data import preprocess_data, vectorize_data, load_dataset\n",
    "from evaluation import analysis, evaluate_models_with_data\n",
    "from w2v_adapter import Word2VecAdapter\n",
    "\n",
    "import advanced_processor_chain_factory\n",
    "import simple_processor_chain_factory"
   ]
  },
  {
   "cell_type": "code",
   "execution_count": 2,
   "metadata": {
    "colab": {
     "base_uri": "https://localhost:8080/",
     "height": 204
    },
    "id": "rbwKnQ_7pVd-",
    "outputId": "b8013ac1-b885-4a32-b7ea-bce748fe8786",
    "pycharm": {
     "name": "#%%\n"
    }
   },
   "outputs": [],
   "source": [
    "dataset = load_dataset()\n",
    "DEBUG = False"
   ]
  },
  {
   "cell_type": "markdown",
   "metadata": {
    "id": "FlLV5NUR7iIW"
   },
   "source": [
    "# Inspection of Pre-Processing Approaches"
   ]
  },
  {
   "cell_type": "code",
   "execution_count": 3,
   "metadata": {
    "pycharm": {
     "name": "#%%\n"
    }
   },
   "outputs": [],
   "source": [
    "models = {'logistic regression' : LogisticRegression(class_weight = 'balanced', n_jobs=-1),\n",
    "          'svm' : svm.LinearSVC(),\n",
    "          'knn' : KNeighborsClassifier(n_neighbors=300, n_jobs=-1)\n",
    "         }"
   ]
  },
  {
   "cell_type": "markdown",
   "metadata": {
    "id": "aPeK64al7mZK"
   },
   "source": [
    "## Without Pre-Process"
   ]
  },
  {
   "cell_type": "code",
   "execution_count": 4,
   "metadata": {
    "colab": {
     "base_uri": "https://localhost:8080/"
    },
    "id": "6sjNr9zlpVeA",
    "outputId": "527b9a8c-4163-4ce5-fd47-009dcd4895f2",
    "pycharm": {
     "name": "#%%\n"
    }
   },
   "outputs": [
    {
     "name": "stdout",
     "output_type": "stream",
     "text": [
      "------Evaluating logistic regression------\n",
      "Report: Classification\n",
      "               precision    recall  f1-score   support\n",
      "\n",
      "    positive       0.88      0.87      0.87      5613\n",
      "    negative       0.87      0.88      0.87      5637\n",
      "\n",
      "    accuracy                           0.87     11250\n",
      "   macro avg       0.87      0.87      0.87     11250\n",
      "weighted avg       0.87      0.87      0.87     11250\n",
      "\n",
      "Matrix: Confusion\n",
      " [[4865  748]\n",
      " [ 692 4945]]\n",
      "Accuracy:\n",
      " 0.872\n",
      "------Evaluating svm------\n"
     ]
    },
    {
     "name": "stderr",
     "output_type": "stream",
     "text": [
      "/home/jupyter/ml_final_project/venv/lib/python3.8/site-packages/sklearn/svm/_base.py:985: ConvergenceWarning: Liblinear failed to converge, increase the number of iterations.\n",
      "  warnings.warn(\"Liblinear failed to converge, increase \"\n"
     ]
    },
    {
     "name": "stdout",
     "output_type": "stream",
     "text": [
      "Report: Classification\n",
      "               precision    recall  f1-score   support\n",
      "\n",
      "    positive       0.87      0.87      0.87      5613\n",
      "    negative       0.87      0.87      0.87      5637\n",
      "\n",
      "    accuracy                           0.87     11250\n",
      "   macro avg       0.87      0.87      0.87     11250\n",
      "weighted avg       0.87      0.87      0.87     11250\n",
      "\n",
      "Matrix: Confusion\n",
      " [[4896  717]\n",
      " [ 739 4898]]\n",
      "Accuracy:\n",
      " 0.8705777777777778\n",
      "------Evaluating knn------\n",
      "Report: Classification\n",
      "               precision    recall  f1-score   support\n",
      "\n",
      "    positive       0.74      0.51      0.61      5613\n",
      "    negative       0.63      0.82      0.71      5637\n",
      "\n",
      "    accuracy                           0.67     11250\n",
      "   macro avg       0.69      0.67      0.66     11250\n",
      "weighted avg       0.69      0.67      0.66     11250\n",
      "\n",
      "Matrix: Confusion\n",
      " [[2881 2732]\n",
      " [1001 4636]]\n",
      "Accuracy:\n",
      " 0.6681777777777778\n"
     ]
    }
   ],
   "source": [
    "evaluate_models_with_data(models, *vectorize_data(*preprocess_data(dataset, debug=DEBUG), CountVectorizer(max_features=2000)))"
   ]
  },
  {
   "cell_type": "markdown",
   "metadata": {
    "id": "GU6tcyNX7sCw"
   },
   "source": [
    "## Simple Pre-Process"
   ]
  },
  {
   "cell_type": "code",
   "execution_count": 5,
   "metadata": {
    "colab": {
     "base_uri": "https://localhost:8080/"
    },
    "id": "f3Pga30JpVeB",
    "outputId": "bb8d049c-3280-438d-c91d-823a2e747b2e"
   },
   "outputs": [
    {
     "data": {
      "application/vnd.jupyter.widget-view+json": {
       "model_id": "244b5fbd61644dc79402d7ca43e5967f",
       "version_major": 2,
       "version_minor": 0
      },
      "text/plain": [
       "Pandas Apply:   0%|          | 0/45000 [00:00<?, ?it/s]"
      ]
     },
     "metadata": {},
     "output_type": "display_data"
    },
    {
     "name": "stdout",
     "output_type": "stream",
     "text": [
      "------Evaluating logistic regression------\n",
      "Report: Classification\n",
      "               precision    recall  f1-score   support\n",
      "\n",
      "    positive       0.87      0.87      0.87      5518\n",
      "    negative       0.87      0.87      0.87      5732\n",
      "\n",
      "    accuracy                           0.87     11250\n",
      "   macro avg       0.87      0.87      0.87     11250\n",
      "weighted avg       0.87      0.87      0.87     11250\n",
      "\n",
      "Matrix: Confusion\n",
      " [[4801  717]\n",
      " [ 731 5001]]\n",
      "Accuracy:\n",
      " 0.8712888888888889\n",
      "------Evaluating svm------\n"
     ]
    },
    {
     "name": "stderr",
     "output_type": "stream",
     "text": [
      "/home/jupyter/ml_final_project/venv/lib/python3.8/site-packages/sklearn/svm/_base.py:985: ConvergenceWarning: Liblinear failed to converge, increase the number of iterations.\n",
      "  warnings.warn(\"Liblinear failed to converge, increase \"\n"
     ]
    },
    {
     "name": "stdout",
     "output_type": "stream",
     "text": [
      "Report: Classification\n",
      "               precision    recall  f1-score   support\n",
      "\n",
      "    positive       0.86      0.87      0.87      5518\n",
      "    negative       0.87      0.86      0.87      5732\n",
      "\n",
      "    accuracy                           0.87     11250\n",
      "   macro avg       0.87      0.87      0.87     11250\n",
      "weighted avg       0.87      0.87      0.87     11250\n",
      "\n",
      "Matrix: Confusion\n",
      " [[4801  717]\n",
      " [ 778 4954]]\n",
      "Accuracy:\n",
      " 0.8671111111111112\n",
      "------Evaluating knn------\n",
      "Report: Classification\n",
      "               precision    recall  f1-score   support\n",
      "\n",
      "    positive       0.76      0.48      0.59      5518\n",
      "    negative       0.63      0.85      0.72      5732\n",
      "\n",
      "    accuracy                           0.67     11250\n",
      "   macro avg       0.69      0.67      0.66     11250\n",
      "weighted avg       0.69      0.67      0.66     11250\n",
      "\n",
      "Matrix: Confusion\n",
      " [[2638 2880]\n",
      " [ 846 4886]]\n",
      "Accuracy:\n",
      " 0.6688\n"
     ]
    }
   ],
   "source": [
    "evaluate_models_with_data(models,\n",
    "                          *vectorize_data(\n",
    "                              *preprocess_data(dataset, processor_chain=simple_processor_chain_factory.create(), debug=DEBUG),\n",
    "                              CountVectorizer(max_features=2000)))"
   ]
  },
  {
   "cell_type": "markdown",
   "metadata": {
    "id": "nN5nTx7T74Ox"
   },
   "source": [
    "## Pre-Process with Stemmimg"
   ]
  },
  {
   "cell_type": "code",
   "execution_count": 6,
   "metadata": {
    "colab": {
     "base_uri": "https://localhost:8080/"
    },
    "id": "m7QhNjp0pVeB",
    "outputId": "5057e1c8-3d61-4e6e-d4f2-934ee6f93084"
   },
   "outputs": [
    {
     "data": {
      "application/vnd.jupyter.widget-view+json": {
       "model_id": "becd578e1fee43aabf0bedda71994da4",
       "version_major": 2,
       "version_minor": 0
      },
      "text/plain": [
       "Pandas Apply:   0%|          | 0/45000 [00:00<?, ?it/s]"
      ]
     },
     "metadata": {},
     "output_type": "display_data"
    },
    {
     "name": "stdout",
     "output_type": "stream",
     "text": [
      "------Evaluating logistic regression------\n",
      "Report: Classification\n",
      "               precision    recall  f1-score   support\n",
      "\n",
      "    positive       0.87      0.86      0.87      5603\n",
      "    negative       0.87      0.87      0.87      5647\n",
      "\n",
      "    accuracy                           0.87     11250\n",
      "   macro avg       0.87      0.87      0.87     11250\n",
      "weighted avg       0.87      0.87      0.87     11250\n",
      "\n",
      "Matrix: Confusion\n",
      " [[4843  760]\n",
      " [ 719 4928]]\n",
      "Accuracy:\n",
      " 0.8685333333333334\n",
      "------Evaluating svm------\n"
     ]
    },
    {
     "name": "stderr",
     "output_type": "stream",
     "text": [
      "/home/jupyter/ml_final_project/venv/lib/python3.8/site-packages/sklearn/svm/_base.py:985: ConvergenceWarning: Liblinear failed to converge, increase the number of iterations.\n",
      "  warnings.warn(\"Liblinear failed to converge, increase \"\n"
     ]
    },
    {
     "name": "stdout",
     "output_type": "stream",
     "text": [
      "Report: Classification\n",
      "               precision    recall  f1-score   support\n",
      "\n",
      "    positive       0.86      0.87      0.87      5603\n",
      "    negative       0.87      0.86      0.87      5647\n",
      "\n",
      "    accuracy                           0.87     11250\n",
      "   macro avg       0.87      0.87      0.87     11250\n",
      "weighted avg       0.87      0.87      0.87     11250\n",
      "\n",
      "Matrix: Confusion\n",
      " [[4897  706]\n",
      " [ 767 4880]]\n",
      "Accuracy:\n",
      " 0.8690666666666667\n",
      "------Evaluating knn------\n",
      "Report: Classification\n",
      "               precision    recall  f1-score   support\n",
      "\n",
      "    positive       0.74      0.70      0.72      5603\n",
      "    negative       0.72      0.76      0.74      5647\n",
      "\n",
      "    accuracy                           0.73     11250\n",
      "   macro avg       0.73      0.73      0.73     11250\n",
      "weighted avg       0.73      0.73      0.73     11250\n",
      "\n",
      "Matrix: Confusion\n",
      " [[3921 1682]\n",
      " [1361 4286]]\n",
      "Accuracy:\n",
      " 0.7295111111111111\n"
     ]
    }
   ],
   "source": [
    "evaluate_models_with_data(models,\n",
    "                          *vectorize_data(\n",
    "                              *preprocess_data(dataset, processor_chain=advanced_processor_chain_factory.create('stem'),\n",
    "                                               debug=DEBUG),\n",
    "                              CountVectorizer(max_features=2000)))"
   ]
  },
  {
   "cell_type": "markdown",
   "metadata": {},
   "source": [
    "## Pre-Process with Lemmitization"
   ]
  },
  {
   "cell_type": "code",
   "execution_count": 7,
   "metadata": {
    "pycharm": {
     "name": "#%%\n"
    }
   },
   "outputs": [
    {
     "data": {
      "application/vnd.jupyter.widget-view+json": {
       "model_id": "f4452ca511e24c07873666214a969ac7",
       "version_major": 2,
       "version_minor": 0
      },
      "text/plain": [
       "Pandas Apply:   0%|          | 0/45000 [00:00<?, ?it/s]"
      ]
     },
     "metadata": {},
     "output_type": "display_data"
    }
   ],
   "source": [
    "X, Y = preprocess_data(dataset, processor_chain=advanced_processor_chain_factory.create('lem'), debug=DEBUG)\n",
    "X_train, X_test, Y_train, Y_test = train_test_split(X, Y)\n",
    "del dataset"
   ]
  },
  {
   "cell_type": "code",
   "execution_count": 8,
   "metadata": {
    "pycharm": {
     "name": "#%%\n"
    }
   },
   "outputs": [],
   "source": [
    "vectorizer = CountVectorizer(max_features=2000)\n",
    "X_train_bow = vectorizer.fit_transform(X_train)\n",
    "X_test_bow = vectorizer.transform(X_test)"
   ]
  },
  {
   "cell_type": "code",
   "execution_count": 9,
   "metadata": {
    "pycharm": {
     "name": "#%%\n"
    }
   },
   "outputs": [
    {
     "name": "stdout",
     "output_type": "stream",
     "text": [
      "------Evaluating logistic regression------\n",
      "Report: Classification\n",
      "               precision    recall  f1-score   support\n",
      "\n",
      "    positive       0.88      0.86      0.87      5672\n",
      "    negative       0.86      0.88      0.87      5578\n",
      "\n",
      "    accuracy                           0.87     11250\n",
      "   macro avg       0.87      0.87      0.87     11250\n",
      "weighted avg       0.87      0.87      0.87     11250\n",
      "\n",
      "Matrix: Confusion\n",
      " [[4858  814]\n",
      " [ 672 4906]]\n",
      "Accuracy:\n",
      " 0.8679111111111111\n",
      "------Evaluating svm------\n"
     ]
    },
    {
     "name": "stderr",
     "output_type": "stream",
     "text": [
      "/home/jupyter/ml_final_project/venv/lib/python3.8/site-packages/sklearn/svm/_base.py:985: ConvergenceWarning: Liblinear failed to converge, increase the number of iterations.\n",
      "  warnings.warn(\"Liblinear failed to converge, increase \"\n"
     ]
    },
    {
     "name": "stdout",
     "output_type": "stream",
     "text": [
      "Report: Classification\n",
      "               precision    recall  f1-score   support\n",
      "\n",
      "    positive       0.88      0.86      0.87      5672\n",
      "    negative       0.86      0.88      0.87      5578\n",
      "\n",
      "    accuracy                           0.87     11250\n",
      "   macro avg       0.87      0.87      0.87     11250\n",
      "weighted avg       0.87      0.87      0.87     11250\n",
      "\n",
      "Matrix: Confusion\n",
      " [[4853  819]\n",
      " [ 667 4911]]\n",
      "Accuracy:\n",
      " 0.8679111111111111\n",
      "------Evaluating knn------\n",
      "Report: Classification\n",
      "               precision    recall  f1-score   support\n",
      "\n",
      "    positive       0.75      0.64      0.69      5672\n",
      "    negative       0.68      0.78      0.73      5578\n",
      "\n",
      "    accuracy                           0.71     11250\n",
      "   macro avg       0.72      0.71      0.71     11250\n",
      "weighted avg       0.72      0.71      0.71     11250\n",
      "\n",
      "Matrix: Confusion\n",
      " [[3642 2030]\n",
      " [1207 4371]]\n",
      "Accuracy:\n",
      " 0.7122666666666667\n"
     ]
    }
   ],
   "source": [
    "evaluate_models_with_data(models, X_train_bow, X_test_bow, Y_train, Y_test)"
   ]
  },
  {
   "cell_type": "code",
   "execution_count": 10,
   "metadata": {
    "pycharm": {
     "name": "#%%\n"
    }
   },
   "outputs": [],
   "source": [
    "del models"
   ]
  },
  {
   "cell_type": "markdown",
   "metadata": {
    "id": "29jDFYxW8IEQ"
   },
   "source": [
    "# Compare W2V and BoW with Their Best Tuned Hyper-parameters"
   ]
  },
  {
   "cell_type": "code",
   "execution_count": 11,
   "metadata": {
    "pycharm": {
     "name": "#%%\n"
    }
   },
   "outputs": [],
   "source": [
    "kfold = StratifiedKFold(n_splits=5)\n",
    "general_grid_params = {'verbose' : 1, 'cv' : kfold, 'n_jobs' : -1, 'scoring' : 'f1'}\n",
    "\n",
    "logistic_grid = {\n",
    "    'penalty':['l2'],\n",
    "    'C':[1, 300, 500, 700, 900, 2000],\n",
    "    'class_weight':['balanced'],\n",
    "    'solver':['saga'],\n",
    "    'n_jobs':[-1],\n",
    "    'max_iter':[1000],\n",
    "}\n",
    "\n",
    "svc_grid = {\n",
    "    'kernel' : ['linear', 'rbf'],\n",
    "    'C':[0.1, 1, 500, 1000],\n",
    "}\n",
    "\n",
    "knn_grid = {\n",
    "    'n_neighbors' : [1, 100, 300, 500, 700, 900],\n",
    "    'n_jobs' : [-1]\n",
    "}\n",
    "\n",
    "cols2show = ['mean_test_score','rank_test_score',]\n",
    "\n",
    "logistic_cols = ['param_C'] + cols2show \n",
    "svc_cols = ['param_kernel', 'param_C', 'iter', 'n_resources'] + cols2show \n",
    "knn_cols = ['param_n_neighbors', 'iter', 'n_resources'] + cols2show "
   ]
  },
  {
   "cell_type": "markdown",
   "metadata": {
    "pycharm": {
     "name": "#%% md\n"
    }
   },
   "source": [
    "## BoW"
   ]
  },
  {
   "cell_type": "markdown",
   "metadata": {},
   "source": [
    "### Logistic Regression"
   ]
  },
  {
   "cell_type": "code",
   "execution_count": 12,
   "metadata": {
    "pycharm": {
     "name": "#%%\n"
    }
   },
   "outputs": [
    {
     "name": "stdout",
     "output_type": "stream",
     "text": [
      "Fitting 5 folds for each of 6 candidates, totalling 30 fits\n",
      "Best Score: 0.8644932981621395\n",
      "Best Params: {'C': 1, 'class_weight': 'balanced', 'max_iter': 1000, 'n_jobs': -1, 'penalty': 'l2', 'solver': 'saga'}\n"
     ]
    },
    {
     "name": "stderr",
     "output_type": "stream",
     "text": [
      "/home/jupyter/ml_final_project/venv/lib/python3.8/site-packages/sklearn/linear_model/_sag.py:328: ConvergenceWarning: The max_iter was reached which means the coef_ did not converge\n",
      "  warnings.warn(\"The max_iter was reached which means \"\n"
     ]
    },
    {
     "data": {
      "text/html": [
       "<div>\n",
       "<style scoped>\n",
       "    .dataframe tbody tr th:only-of-type {\n",
       "        vertical-align: middle;\n",
       "    }\n",
       "\n",
       "    .dataframe tbody tr th {\n",
       "        vertical-align: top;\n",
       "    }\n",
       "\n",
       "    .dataframe thead th {\n",
       "        text-align: right;\n",
       "    }\n",
       "</style>\n",
       "<table border=\"1\" class=\"dataframe\">\n",
       "  <thead>\n",
       "    <tr style=\"text-align: right;\">\n",
       "      <th></th>\n",
       "      <th>param_C</th>\n",
       "      <th>mean_test_score</th>\n",
       "      <th>rank_test_score</th>\n",
       "    </tr>\n",
       "  </thead>\n",
       "  <tbody>\n",
       "    <tr>\n",
       "      <th>0</th>\n",
       "      <td>1</td>\n",
       "      <td>0.864493</td>\n",
       "      <td>1</td>\n",
       "    </tr>\n",
       "    <tr>\n",
       "      <th>1</th>\n",
       "      <td>300</td>\n",
       "      <td>0.863449</td>\n",
       "      <td>6</td>\n",
       "    </tr>\n",
       "    <tr>\n",
       "      <th>2</th>\n",
       "      <td>500</td>\n",
       "      <td>0.863474</td>\n",
       "      <td>3</td>\n",
       "    </tr>\n",
       "    <tr>\n",
       "      <th>3</th>\n",
       "      <td>700</td>\n",
       "      <td>0.863499</td>\n",
       "      <td>2</td>\n",
       "    </tr>\n",
       "    <tr>\n",
       "      <th>4</th>\n",
       "      <td>900</td>\n",
       "      <td>0.863474</td>\n",
       "      <td>3</td>\n",
       "    </tr>\n",
       "    <tr>\n",
       "      <th>5</th>\n",
       "      <td>2000</td>\n",
       "      <td>0.863474</td>\n",
       "      <td>3</td>\n",
       "    </tr>\n",
       "  </tbody>\n",
       "</table>\n",
       "</div>"
      ],
      "text/plain": [
       "  param_C  mean_test_score  rank_test_score\n",
       "0       1         0.864493                1\n",
       "1     300         0.863449                6\n",
       "2     500         0.863474                3\n",
       "3     700         0.863499                2\n",
       "4     900         0.863474                3\n",
       "5    2000         0.863474                3"
      ]
     },
     "execution_count": 12,
     "metadata": {},
     "output_type": "execute_result"
    }
   ],
   "source": [
    "bow_log = LogisticRegression()\n",
    "bow_log = GridSearchCV(estimator=bow_log, param_grid=logistic_grid, **general_grid_params)\n",
    "bow_log.fit(X_train_bow, Y_train)\n",
    "print(f'Best Score: {bow_log.best_score_}')\n",
    "print(f'Best Params: {bow_log.best_params_}')\n",
    "pd.DataFrame(bow_log.cv_results_)[logistic_cols]"
   ]
  },
  {
   "cell_type": "code",
   "execution_count": 13,
   "metadata": {
    "pycharm": {
     "name": "#%%\n"
    }
   },
   "outputs": [
    {
     "name": "stdout",
     "output_type": "stream",
     "text": [
      "Report: Classification\n",
      "               precision    recall  f1-score   support\n",
      "\n",
      "    positive       0.88      0.86      0.87      5672\n",
      "    negative       0.86      0.88      0.87      5578\n",
      "\n",
      "    accuracy                           0.87     11250\n",
      "   macro avg       0.87      0.87      0.87     11250\n",
      "weighted avg       0.87      0.87      0.87     11250\n",
      "\n",
      "Matrix: Confusion\n",
      " [[4856  816]\n",
      " [ 666 4912]]\n",
      "Accuracy:\n",
      " 0.8682666666666666\n"
     ]
    }
   ],
   "source": [
    "bow_log_score = analysis(Y_test, bow_log.predict(X_test_bow))"
   ]
  },
  {
   "cell_type": "markdown",
   "metadata": {},
   "source": [
    "### SVM"
   ]
  },
  {
   "cell_type": "code",
   "execution_count": 14,
   "metadata": {
    "pycharm": {
     "name": "#%%\n"
    }
   },
   "outputs": [
    {
     "name": "stdout",
     "output_type": "stream",
     "text": [
      "Best Score: 0.8643585708532733\n",
      "Best Params: {'C': 1, 'kernel': 'rbf'}\n"
     ]
    },
    {
     "data": {
      "text/html": [
       "<div>\n",
       "<style scoped>\n",
       "    .dataframe tbody tr th:only-of-type {\n",
       "        vertical-align: middle;\n",
       "    }\n",
       "\n",
       "    .dataframe tbody tr th {\n",
       "        vertical-align: top;\n",
       "    }\n",
       "\n",
       "    .dataframe thead th {\n",
       "        text-align: right;\n",
       "    }\n",
       "</style>\n",
       "<table border=\"1\" class=\"dataframe\">\n",
       "  <thead>\n",
       "    <tr style=\"text-align: right;\">\n",
       "      <th></th>\n",
       "      <th>param_kernel</th>\n",
       "      <th>param_C</th>\n",
       "      <th>iter</th>\n",
       "      <th>n_resources</th>\n",
       "      <th>mean_test_score</th>\n",
       "      <th>rank_test_score</th>\n",
       "    </tr>\n",
       "  </thead>\n",
       "  <tbody>\n",
       "    <tr>\n",
       "      <th>0</th>\n",
       "      <td>linear</td>\n",
       "      <td>0.1</td>\n",
       "      <td>0</td>\n",
       "      <td>4218</td>\n",
       "      <td>0.809657</td>\n",
       "      <td>11</td>\n",
       "    </tr>\n",
       "    <tr>\n",
       "      <th>1</th>\n",
       "      <td>rbf</td>\n",
       "      <td>0.1</td>\n",
       "      <td>0</td>\n",
       "      <td>4218</td>\n",
       "      <td>0.739839</td>\n",
       "      <td>15</td>\n",
       "    </tr>\n",
       "    <tr>\n",
       "      <th>2</th>\n",
       "      <td>linear</td>\n",
       "      <td>1</td>\n",
       "      <td>0</td>\n",
       "      <td>4218</td>\n",
       "      <td>0.791320</td>\n",
       "      <td>12</td>\n",
       "    </tr>\n",
       "    <tr>\n",
       "      <th>3</th>\n",
       "      <td>rbf</td>\n",
       "      <td>1</td>\n",
       "      <td>0</td>\n",
       "      <td>4218</td>\n",
       "      <td>0.822439</td>\n",
       "      <td>8</td>\n",
       "    </tr>\n",
       "    <tr>\n",
       "      <th>4</th>\n",
       "      <td>linear</td>\n",
       "      <td>500</td>\n",
       "      <td>0</td>\n",
       "      <td>4218</td>\n",
       "      <td>0.790764</td>\n",
       "      <td>13</td>\n",
       "    </tr>\n",
       "    <tr>\n",
       "      <th>5</th>\n",
       "      <td>rbf</td>\n",
       "      <td>500</td>\n",
       "      <td>0</td>\n",
       "      <td>4218</td>\n",
       "      <td>0.819586</td>\n",
       "      <td>9</td>\n",
       "    </tr>\n",
       "    <tr>\n",
       "      <th>6</th>\n",
       "      <td>linear</td>\n",
       "      <td>1000</td>\n",
       "      <td>0</td>\n",
       "      <td>4218</td>\n",
       "      <td>0.790764</td>\n",
       "      <td>13</td>\n",
       "    </tr>\n",
       "    <tr>\n",
       "      <th>7</th>\n",
       "      <td>rbf</td>\n",
       "      <td>1000</td>\n",
       "      <td>0</td>\n",
       "      <td>4218</td>\n",
       "      <td>0.819586</td>\n",
       "      <td>9</td>\n",
       "    </tr>\n",
       "    <tr>\n",
       "      <th>8</th>\n",
       "      <td>linear</td>\n",
       "      <td>0.1</td>\n",
       "      <td>1</td>\n",
       "      <td>8436</td>\n",
       "      <td>0.825980</td>\n",
       "      <td>5</td>\n",
       "    </tr>\n",
       "    <tr>\n",
       "      <th>9</th>\n",
       "      <td>rbf</td>\n",
       "      <td>500</td>\n",
       "      <td>1</td>\n",
       "      <td>8436</td>\n",
       "      <td>0.825834</td>\n",
       "      <td>6</td>\n",
       "    </tr>\n",
       "    <tr>\n",
       "      <th>10</th>\n",
       "      <td>rbf</td>\n",
       "      <td>1000</td>\n",
       "      <td>1</td>\n",
       "      <td>8436</td>\n",
       "      <td>0.825435</td>\n",
       "      <td>7</td>\n",
       "    </tr>\n",
       "    <tr>\n",
       "      <th>11</th>\n",
       "      <td>rbf</td>\n",
       "      <td>1</td>\n",
       "      <td>1</td>\n",
       "      <td>8436</td>\n",
       "      <td>0.839383</td>\n",
       "      <td>4</td>\n",
       "    </tr>\n",
       "    <tr>\n",
       "      <th>12</th>\n",
       "      <td>linear</td>\n",
       "      <td>0.1</td>\n",
       "      <td>2</td>\n",
       "      <td>16872</td>\n",
       "      <td>0.847762</td>\n",
       "      <td>3</td>\n",
       "    </tr>\n",
       "    <tr>\n",
       "      <th>13</th>\n",
       "      <td>rbf</td>\n",
       "      <td>1</td>\n",
       "      <td>2</td>\n",
       "      <td>16872</td>\n",
       "      <td>0.857041</td>\n",
       "      <td>2</td>\n",
       "    </tr>\n",
       "    <tr>\n",
       "      <th>14</th>\n",
       "      <td>rbf</td>\n",
       "      <td>1</td>\n",
       "      <td>3</td>\n",
       "      <td>33744</td>\n",
       "      <td>0.864359</td>\n",
       "      <td>1</td>\n",
       "    </tr>\n",
       "  </tbody>\n",
       "</table>\n",
       "</div>"
      ],
      "text/plain": [
       "   param_kernel param_C  iter  n_resources  mean_test_score  rank_test_score\n",
       "0        linear     0.1     0         4218         0.809657               11\n",
       "1           rbf     0.1     0         4218         0.739839               15\n",
       "2        linear       1     0         4218         0.791320               12\n",
       "3           rbf       1     0         4218         0.822439                8\n",
       "4        linear     500     0         4218         0.790764               13\n",
       "5           rbf     500     0         4218         0.819586                9\n",
       "6        linear    1000     0         4218         0.790764               13\n",
       "7           rbf    1000     0         4218         0.819586                9\n",
       "8        linear     0.1     1         8436         0.825980                5\n",
       "9           rbf     500     1         8436         0.825834                6\n",
       "10          rbf    1000     1         8436         0.825435                7\n",
       "11          rbf       1     1         8436         0.839383                4\n",
       "12       linear     0.1     2        16872         0.847762                3\n",
       "13          rbf       1     2        16872         0.857041                2\n",
       "14          rbf       1     3        33744         0.864359                1"
      ]
     },
     "execution_count": 14,
     "metadata": {},
     "output_type": "execute_result"
    }
   ],
   "source": [
    "bow_svm = svm.SVC()\n",
    "bow_svm = HalvingGridSearchCV(estimator=bow_svm, param_grid=svc_grid, cv = 3, n_jobs= -1, scoring='f1', factor=2)\n",
    "bow_svm.fit(X_train_bow, Y_train)\n",
    "print(f'Best Score: {bow_svm.best_score_}')\n",
    "print(f'Best Params: {bow_svm.best_params_}')\n",
    "pd.DataFrame(bow_svm.cv_results_)[svc_cols]"
   ]
  },
  {
   "cell_type": "code",
   "execution_count": 15,
   "metadata": {
    "pycharm": {
     "name": "#%%\n"
    }
   },
   "outputs": [
    {
     "name": "stdout",
     "output_type": "stream",
     "text": [
      "Report: Classification\n",
      "               precision    recall  f1-score   support\n",
      "\n",
      "    positive       0.89      0.85      0.87      5672\n",
      "    negative       0.85      0.90      0.87      5578\n",
      "\n",
      "    accuracy                           0.87     11250\n",
      "   macro avg       0.87      0.87      0.87     11250\n",
      "weighted avg       0.87      0.87      0.87     11250\n",
      "\n",
      "Matrix: Confusion\n",
      " [[4801  871]\n",
      " [ 579 4999]]\n",
      "Accuracy:\n",
      " 0.8711111111111111\n"
     ]
    }
   ],
   "source": [
    "bow_svm_score = analysis(Y_test, bow_svm.predict(X_test_bow))"
   ]
  },
  {
   "cell_type": "markdown",
   "metadata": {},
   "source": [
    "### KNN"
   ]
  },
  {
   "cell_type": "code",
   "execution_count": 16,
   "metadata": {
    "pycharm": {
     "name": "#%%\n"
    }
   },
   "outputs": [
    {
     "name": "stdout",
     "output_type": "stream",
     "text": [
      "Best Score: 0.7292935417519001\n",
      "Best Params: {'n_jobs': -1, 'n_neighbors': 300}\n"
     ]
    },
    {
     "data": {
      "text/html": [
       "<div>\n",
       "<style scoped>\n",
       "    .dataframe tbody tr th:only-of-type {\n",
       "        vertical-align: middle;\n",
       "    }\n",
       "\n",
       "    .dataframe tbody tr th {\n",
       "        vertical-align: top;\n",
       "    }\n",
       "\n",
       "    .dataframe thead th {\n",
       "        text-align: right;\n",
       "    }\n",
       "</style>\n",
       "<table border=\"1\" class=\"dataframe\">\n",
       "  <thead>\n",
       "    <tr style=\"text-align: right;\">\n",
       "      <th></th>\n",
       "      <th>param_n_neighbors</th>\n",
       "      <th>iter</th>\n",
       "      <th>n_resources</th>\n",
       "      <th>mean_test_score</th>\n",
       "      <th>rank_test_score</th>\n",
       "    </tr>\n",
       "  </thead>\n",
       "  <tbody>\n",
       "    <tr>\n",
       "      <th>0</th>\n",
       "      <td>1</td>\n",
       "      <td>0</td>\n",
       "      <td>8437</td>\n",
       "      <td>0.564460</td>\n",
       "      <td>11</td>\n",
       "    </tr>\n",
       "    <tr>\n",
       "      <th>1</th>\n",
       "      <td>100</td>\n",
       "      <td>0</td>\n",
       "      <td>8437</td>\n",
       "      <td>0.709987</td>\n",
       "      <td>4</td>\n",
       "    </tr>\n",
       "    <tr>\n",
       "      <th>2</th>\n",
       "      <td>300</td>\n",
       "      <td>0</td>\n",
       "      <td>8437</td>\n",
       "      <td>0.696429</td>\n",
       "      <td>7</td>\n",
       "    </tr>\n",
       "    <tr>\n",
       "      <th>3</th>\n",
       "      <td>500</td>\n",
       "      <td>0</td>\n",
       "      <td>8437</td>\n",
       "      <td>0.692816</td>\n",
       "      <td>9</td>\n",
       "    </tr>\n",
       "    <tr>\n",
       "      <th>4</th>\n",
       "      <td>700</td>\n",
       "      <td>0</td>\n",
       "      <td>8437</td>\n",
       "      <td>0.692360</td>\n",
       "      <td>10</td>\n",
       "    </tr>\n",
       "    <tr>\n",
       "      <th>5</th>\n",
       "      <td>900</td>\n",
       "      <td>0</td>\n",
       "      <td>8437</td>\n",
       "      <td>0.699770</td>\n",
       "      <td>6</td>\n",
       "    </tr>\n",
       "    <tr>\n",
       "      <th>6</th>\n",
       "      <td>300</td>\n",
       "      <td>1</td>\n",
       "      <td>16874</td>\n",
       "      <td>0.709492</td>\n",
       "      <td>5</td>\n",
       "    </tr>\n",
       "    <tr>\n",
       "      <th>7</th>\n",
       "      <td>900</td>\n",
       "      <td>1</td>\n",
       "      <td>16874</td>\n",
       "      <td>0.694313</td>\n",
       "      <td>8</td>\n",
       "    </tr>\n",
       "    <tr>\n",
       "      <th>8</th>\n",
       "      <td>100</td>\n",
       "      <td>1</td>\n",
       "      <td>16874</td>\n",
       "      <td>0.713327</td>\n",
       "      <td>3</td>\n",
       "    </tr>\n",
       "    <tr>\n",
       "      <th>9</th>\n",
       "      <td>300</td>\n",
       "      <td>2</td>\n",
       "      <td>33748</td>\n",
       "      <td>0.729294</td>\n",
       "      <td>1</td>\n",
       "    </tr>\n",
       "    <tr>\n",
       "      <th>10</th>\n",
       "      <td>100</td>\n",
       "      <td>2</td>\n",
       "      <td>33748</td>\n",
       "      <td>0.725177</td>\n",
       "      <td>2</td>\n",
       "    </tr>\n",
       "  </tbody>\n",
       "</table>\n",
       "</div>"
      ],
      "text/plain": [
       "   param_n_neighbors  iter  n_resources  mean_test_score  rank_test_score\n",
       "0                  1     0         8437         0.564460               11\n",
       "1                100     0         8437         0.709987                4\n",
       "2                300     0         8437         0.696429                7\n",
       "3                500     0         8437         0.692816                9\n",
       "4                700     0         8437         0.692360               10\n",
       "5                900     0         8437         0.699770                6\n",
       "6                300     1        16874         0.709492                5\n",
       "7                900     1        16874         0.694313                8\n",
       "8                100     1        16874         0.713327                3\n",
       "9                300     2        33748         0.729294                1\n",
       "10               100     2        33748         0.725177                2"
      ]
     },
     "execution_count": 16,
     "metadata": {},
     "output_type": "execute_result"
    }
   ],
   "source": [
    "bow_knn = KNeighborsClassifier()\n",
    "bow_knn = HalvingGridSearchCV(estimator=bow_knn, param_grid=knn_grid, cv = 3, scoring='f1', factor=2)\n",
    "bow_knn.fit(X_train_bow, Y_train)\n",
    "print(f'Best Score: {bow_knn.best_score_}')\n",
    "print(f'Best Params: {bow_knn.best_params_}')\n",
    "pd.DataFrame(bow_knn.cv_results_)[knn_cols]"
   ]
  },
  {
   "cell_type": "code",
   "execution_count": 17,
   "metadata": {
    "pycharm": {
     "name": "#%%\n"
    }
   },
   "outputs": [
    {
     "name": "stdout",
     "output_type": "stream",
     "text": [
      "Report: Classification\n",
      "               precision    recall  f1-score   support\n",
      "\n",
      "    positive       0.89      0.85      0.87      5672\n",
      "    negative       0.85      0.90      0.87      5578\n",
      "\n",
      "    accuracy                           0.87     11250\n",
      "   macro avg       0.87      0.87      0.87     11250\n",
      "weighted avg       0.87      0.87      0.87     11250\n",
      "\n",
      "Matrix: Confusion\n",
      " [[4801  871]\n",
      " [ 579 4999]]\n",
      "Accuracy:\n",
      " 0.8711111111111111\n"
     ]
    }
   ],
   "source": [
    "bow_knn_score = analysis(Y_test, bow_svm.predict(X_test_bow))"
   ]
  },
  {
   "cell_type": "markdown",
   "metadata": {
    "pycharm": {
     "name": "#%% md\n"
    }
   },
   "source": [
    "## W2V"
   ]
  },
  {
   "cell_type": "code",
   "execution_count": 20,
   "metadata": {
    "colab": {
     "base_uri": "https://localhost:8080/"
    },
    "id": "d4hXhrjvwZkA",
    "outputId": "5d6a9200-df85-4f4b-99cb-cf42fdaa9168",
    "pycharm": {
     "name": "#%%\n"
    }
   },
   "outputs": [
    {
     "data": {
      "application/vnd.jupyter.widget-view+json": {
       "model_id": "f0ab2c0cafdf45b3bda2a8c24468303e",
       "version_major": 2,
       "version_minor": 0
      },
      "text/plain": [
       "Pandas Apply:   0%|          | 0/33750 [00:00<?, ?it/s]"
      ]
     },
     "metadata": {},
     "output_type": "display_data"
    },
    {
     "data": {
      "application/vnd.jupyter.widget-view+json": {
       "model_id": "2f87518eddd149a9afeb412fb92d07ce",
       "version_major": 2,
       "version_minor": 0
      },
      "text/plain": [
       "Pandas Apply:   0%|          | 0/33750 [00:00<?, ?it/s]"
      ]
     },
     "metadata": {},
     "output_type": "display_data"
    },
    {
     "data": {
      "application/vnd.jupyter.widget-view+json": {
       "model_id": "4813b909d5024bfca0ea8e5ce8e0c731",
       "version_major": 2,
       "version_minor": 0
      },
      "text/plain": [
       "Pandas Apply:   0%|          | 0/11250 [00:00<?, ?it/s]"
      ]
     },
     "metadata": {},
     "output_type": "display_data"
    }
   ],
   "source": [
    "if os.path.isfile('w2v.kv'):\n",
    "    vectorizer = Word2VecAdapter(pre_trained_model=KeyedVectors.load('w2v.kv'))\n",
    "else:\n",
    "    vectorizer = Word2VecAdapter()\n",
    "\n",
    "X_train_w2v = vectorizer.fit_transform(X_train)\n",
    "X_test_w2v = vectorizer.transform(X_test)\n",
    "\n",
    "if not os.path.isfile('w2v.kv'):\n",
    "     vectorizer.wv.save('w2v.kv')"
   ]
  },
  {
   "cell_type": "markdown",
   "metadata": {},
   "source": [
    "### Logistic Regression"
   ]
  },
  {
   "cell_type": "code",
   "execution_count": 21,
   "metadata": {
    "pycharm": {
     "name": "#%%\n"
    }
   },
   "outputs": [
    {
     "name": "stdout",
     "output_type": "stream",
     "text": [
      "Fitting 5 folds for each of 6 candidates, totalling 30 fits\n",
      "Best Score: 0.8668510002816859\n",
      "Best Params: {'C': 700, 'class_weight': 'balanced', 'max_iter': 1000, 'n_jobs': -1, 'penalty': 'l2', 'solver': 'saga'}\n"
     ]
    },
    {
     "data": {
      "text/html": [
       "<div>\n",
       "<style scoped>\n",
       "    .dataframe tbody tr th:only-of-type {\n",
       "        vertical-align: middle;\n",
       "    }\n",
       "\n",
       "    .dataframe tbody tr th {\n",
       "        vertical-align: top;\n",
       "    }\n",
       "\n",
       "    .dataframe thead th {\n",
       "        text-align: right;\n",
       "    }\n",
       "</style>\n",
       "<table border=\"1\" class=\"dataframe\">\n",
       "  <thead>\n",
       "    <tr style=\"text-align: right;\">\n",
       "      <th></th>\n",
       "      <th>param_C</th>\n",
       "      <th>mean_test_score</th>\n",
       "      <th>rank_test_score</th>\n",
       "    </tr>\n",
       "  </thead>\n",
       "  <tbody>\n",
       "    <tr>\n",
       "      <th>0</th>\n",
       "      <td>1</td>\n",
       "      <td>0.864400</td>\n",
       "      <td>6</td>\n",
       "    </tr>\n",
       "    <tr>\n",
       "      <th>1</th>\n",
       "      <td>300</td>\n",
       "      <td>0.866825</td>\n",
       "      <td>2</td>\n",
       "    </tr>\n",
       "    <tr>\n",
       "      <th>2</th>\n",
       "      <td>500</td>\n",
       "      <td>0.866817</td>\n",
       "      <td>3</td>\n",
       "    </tr>\n",
       "    <tr>\n",
       "      <th>3</th>\n",
       "      <td>700</td>\n",
       "      <td>0.866851</td>\n",
       "      <td>1</td>\n",
       "    </tr>\n",
       "    <tr>\n",
       "      <th>4</th>\n",
       "      <td>900</td>\n",
       "      <td>0.866817</td>\n",
       "      <td>3</td>\n",
       "    </tr>\n",
       "    <tr>\n",
       "      <th>5</th>\n",
       "      <td>2000</td>\n",
       "      <td>0.866817</td>\n",
       "      <td>3</td>\n",
       "    </tr>\n",
       "  </tbody>\n",
       "</table>\n",
       "</div>"
      ],
      "text/plain": [
       "  param_C  mean_test_score  rank_test_score\n",
       "0       1         0.864400                6\n",
       "1     300         0.866825                2\n",
       "2     500         0.866817                3\n",
       "3     700         0.866851                1\n",
       "4     900         0.866817                3\n",
       "5    2000         0.866817                3"
      ]
     },
     "execution_count": 21,
     "metadata": {},
     "output_type": "execute_result"
    }
   ],
   "source": [
    "w2v_log = LogisticRegression()\n",
    "w2v_log = GridSearchCV(estimator=w2v_log, param_grid=logistic_grid, **general_grid_params)\n",
    "w2v_log.fit(X_train_w2v, Y_train)\n",
    "print(f'Best Score: {w2v_log.best_score_}')\n",
    "print(f'Best Params: {w2v_log.best_params_}')\n",
    "pd.DataFrame(w2v_log.cv_results_)[logistic_cols]"
   ]
  },
  {
   "cell_type": "code",
   "execution_count": 22,
   "metadata": {
    "pycharm": {
     "name": "#%%\n"
    }
   },
   "outputs": [
    {
     "name": "stdout",
     "output_type": "stream",
     "text": [
      "Report: Classification\n",
      "               precision    recall  f1-score   support\n",
      "\n",
      "    positive       0.88      0.86      0.87      5672\n",
      "    negative       0.86      0.88      0.87      5578\n",
      "\n",
      "    accuracy                           0.87     11250\n",
      "   macro avg       0.87      0.87      0.87     11250\n",
      "weighted avg       0.87      0.87      0.87     11250\n",
      "\n",
      "Matrix: Confusion\n",
      " [[4870  802]\n",
      " [ 668 4910]]\n",
      "Accuracy:\n",
      " 0.8693333333333333\n"
     ]
    }
   ],
   "source": [
    "w2v_log_score = analysis(Y_test, w2v_log.predict(X_test_w2v))"
   ]
  },
  {
   "cell_type": "markdown",
   "metadata": {},
   "source": [
    "### SVM"
   ]
  },
  {
   "cell_type": "code",
   "execution_count": 23,
   "metadata": {
    "pycharm": {
     "name": "#%%\n"
    }
   },
   "outputs": [
    {
     "name": "stdout",
     "output_type": "stream",
     "text": [
      "Best Score: 0.8697736474102836\n",
      "Best Params: {'C': 1, 'kernel': 'rbf'}\n"
     ]
    },
    {
     "data": {
      "text/html": [
       "<div>\n",
       "<style scoped>\n",
       "    .dataframe tbody tr th:only-of-type {\n",
       "        vertical-align: middle;\n",
       "    }\n",
       "\n",
       "    .dataframe tbody tr th {\n",
       "        vertical-align: top;\n",
       "    }\n",
       "\n",
       "    .dataframe thead th {\n",
       "        text-align: right;\n",
       "    }\n",
       "</style>\n",
       "<table border=\"1\" class=\"dataframe\">\n",
       "  <thead>\n",
       "    <tr style=\"text-align: right;\">\n",
       "      <th></th>\n",
       "      <th>param_kernel</th>\n",
       "      <th>param_C</th>\n",
       "      <th>iter</th>\n",
       "      <th>n_resources</th>\n",
       "      <th>mean_test_score</th>\n",
       "      <th>rank_test_score</th>\n",
       "    </tr>\n",
       "  </thead>\n",
       "  <tbody>\n",
       "    <tr>\n",
       "      <th>0</th>\n",
       "      <td>linear</td>\n",
       "      <td>0.1</td>\n",
       "      <td>0</td>\n",
       "      <td>4218</td>\n",
       "      <td>0.851328</td>\n",
       "      <td>8</td>\n",
       "    </tr>\n",
       "    <tr>\n",
       "      <th>1</th>\n",
       "      <td>rbf</td>\n",
       "      <td>0.1</td>\n",
       "      <td>0</td>\n",
       "      <td>4218</td>\n",
       "      <td>0.843364</td>\n",
       "      <td>11</td>\n",
       "    </tr>\n",
       "    <tr>\n",
       "      <th>2</th>\n",
       "      <td>linear</td>\n",
       "      <td>1</td>\n",
       "      <td>0</td>\n",
       "      <td>4218</td>\n",
       "      <td>0.847382</td>\n",
       "      <td>9</td>\n",
       "    </tr>\n",
       "    <tr>\n",
       "      <th>3</th>\n",
       "      <td>rbf</td>\n",
       "      <td>1</td>\n",
       "      <td>0</td>\n",
       "      <td>4218</td>\n",
       "      <td>0.853962</td>\n",
       "      <td>7</td>\n",
       "    </tr>\n",
       "    <tr>\n",
       "      <th>4</th>\n",
       "      <td>linear</td>\n",
       "      <td>500</td>\n",
       "      <td>0</td>\n",
       "      <td>4218</td>\n",
       "      <td>0.843093</td>\n",
       "      <td>13</td>\n",
       "    </tr>\n",
       "    <tr>\n",
       "      <th>5</th>\n",
       "      <td>rbf</td>\n",
       "      <td>500</td>\n",
       "      <td>0</td>\n",
       "      <td>4218</td>\n",
       "      <td>0.821001</td>\n",
       "      <td>14</td>\n",
       "    </tr>\n",
       "    <tr>\n",
       "      <th>6</th>\n",
       "      <td>linear</td>\n",
       "      <td>1000</td>\n",
       "      <td>0</td>\n",
       "      <td>4218</td>\n",
       "      <td>0.843162</td>\n",
       "      <td>12</td>\n",
       "    </tr>\n",
       "    <tr>\n",
       "      <th>7</th>\n",
       "      <td>rbf</td>\n",
       "      <td>1000</td>\n",
       "      <td>0</td>\n",
       "      <td>4218</td>\n",
       "      <td>0.821001</td>\n",
       "      <td>14</td>\n",
       "    </tr>\n",
       "    <tr>\n",
       "      <th>8</th>\n",
       "      <td>rbf</td>\n",
       "      <td>0.1</td>\n",
       "      <td>1</td>\n",
       "      <td>8436</td>\n",
       "      <td>0.845976</td>\n",
       "      <td>10</td>\n",
       "    </tr>\n",
       "    <tr>\n",
       "      <th>9</th>\n",
       "      <td>linear</td>\n",
       "      <td>1</td>\n",
       "      <td>1</td>\n",
       "      <td>8436</td>\n",
       "      <td>0.860008</td>\n",
       "      <td>4</td>\n",
       "    </tr>\n",
       "    <tr>\n",
       "      <th>10</th>\n",
       "      <td>linear</td>\n",
       "      <td>0.1</td>\n",
       "      <td>1</td>\n",
       "      <td>8436</td>\n",
       "      <td>0.858577</td>\n",
       "      <td>5</td>\n",
       "    </tr>\n",
       "    <tr>\n",
       "      <th>11</th>\n",
       "      <td>rbf</td>\n",
       "      <td>1</td>\n",
       "      <td>1</td>\n",
       "      <td>8436</td>\n",
       "      <td>0.860435</td>\n",
       "      <td>3</td>\n",
       "    </tr>\n",
       "    <tr>\n",
       "      <th>12</th>\n",
       "      <td>linear</td>\n",
       "      <td>1</td>\n",
       "      <td>2</td>\n",
       "      <td>16872</td>\n",
       "      <td>0.858145</td>\n",
       "      <td>6</td>\n",
       "    </tr>\n",
       "    <tr>\n",
       "      <th>13</th>\n",
       "      <td>rbf</td>\n",
       "      <td>1</td>\n",
       "      <td>2</td>\n",
       "      <td>16872</td>\n",
       "      <td>0.864634</td>\n",
       "      <td>2</td>\n",
       "    </tr>\n",
       "    <tr>\n",
       "      <th>14</th>\n",
       "      <td>rbf</td>\n",
       "      <td>1</td>\n",
       "      <td>3</td>\n",
       "      <td>33744</td>\n",
       "      <td>0.869774</td>\n",
       "      <td>1</td>\n",
       "    </tr>\n",
       "  </tbody>\n",
       "</table>\n",
       "</div>"
      ],
      "text/plain": [
       "   param_kernel param_C  iter  n_resources  mean_test_score  rank_test_score\n",
       "0        linear     0.1     0         4218         0.851328                8\n",
       "1           rbf     0.1     0         4218         0.843364               11\n",
       "2        linear       1     0         4218         0.847382                9\n",
       "3           rbf       1     0         4218         0.853962                7\n",
       "4        linear     500     0         4218         0.843093               13\n",
       "5           rbf     500     0         4218         0.821001               14\n",
       "6        linear    1000     0         4218         0.843162               12\n",
       "7           rbf    1000     0         4218         0.821001               14\n",
       "8           rbf     0.1     1         8436         0.845976               10\n",
       "9        linear       1     1         8436         0.860008                4\n",
       "10       linear     0.1     1         8436         0.858577                5\n",
       "11          rbf       1     1         8436         0.860435                3\n",
       "12       linear       1     2        16872         0.858145                6\n",
       "13          rbf       1     2        16872         0.864634                2\n",
       "14          rbf       1     3        33744         0.869774                1"
      ]
     },
     "execution_count": 23,
     "metadata": {},
     "output_type": "execute_result"
    }
   ],
   "source": [
    "w2v_svm = svm.SVC()\n",
    "w2v_svm = HalvingGridSearchCV(estimator=w2v_svm, param_grid=svc_grid, cv = 3, n_jobs= -1, scoring='f1', factor=2)\n",
    "w2v_svm.fit(X_train_w2v, Y_train)\n",
    "print(f'Best Score: {w2v_svm.best_score_}')\n",
    "print(f'Best Params: {w2v_svm.best_params_}')\n",
    "pd.DataFrame(w2v_svm.cv_results_)[svc_cols]"
   ]
  },
  {
   "cell_type": "code",
   "execution_count": 24,
   "metadata": {
    "pycharm": {
     "name": "#%%\n"
    }
   },
   "outputs": [
    {
     "name": "stdout",
     "output_type": "stream",
     "text": [
      "Report: Classification\n",
      "               precision    recall  f1-score   support\n",
      "\n",
      "    positive       0.88      0.86      0.87      5672\n",
      "    negative       0.86      0.88      0.87      5578\n",
      "\n",
      "    accuracy                           0.87     11250\n",
      "   macro avg       0.87      0.87      0.87     11250\n",
      "weighted avg       0.87      0.87      0.87     11250\n",
      "\n",
      "Matrix: Confusion\n",
      " [[4861  811]\n",
      " [ 651 4927]]\n",
      "Accuracy:\n",
      " 0.8700444444444444\n"
     ]
    }
   ],
   "source": [
    "w2v_svm_score = analysis(Y_test, w2v_svm.predict(X_test_w2v))"
   ]
  },
  {
   "cell_type": "markdown",
   "metadata": {
    "pycharm": {
     "name": "#%% md\n"
    }
   },
   "source": [
    "### KNN"
   ]
  },
  {
   "cell_type": "code",
   "execution_count": 25,
   "metadata": {
    "pycharm": {
     "name": "#%%\n"
    }
   },
   "outputs": [
    {
     "name": "stdout",
     "output_type": "stream",
     "text": [
      "Best Score: 0.809571953461928\n",
      "Best Params: {'n_jobs': -1, 'n_neighbors': 100}\n"
     ]
    },
    {
     "data": {
      "text/html": [
       "<div>\n",
       "<style scoped>\n",
       "    .dataframe tbody tr th:only-of-type {\n",
       "        vertical-align: middle;\n",
       "    }\n",
       "\n",
       "    .dataframe tbody tr th {\n",
       "        vertical-align: top;\n",
       "    }\n",
       "\n",
       "    .dataframe thead th {\n",
       "        text-align: right;\n",
       "    }\n",
       "</style>\n",
       "<table border=\"1\" class=\"dataframe\">\n",
       "  <thead>\n",
       "    <tr style=\"text-align: right;\">\n",
       "      <th></th>\n",
       "      <th>param_n_neighbors</th>\n",
       "      <th>iter</th>\n",
       "      <th>n_resources</th>\n",
       "      <th>mean_test_score</th>\n",
       "      <th>rank_test_score</th>\n",
       "    </tr>\n",
       "  </thead>\n",
       "  <tbody>\n",
       "    <tr>\n",
       "      <th>0</th>\n",
       "      <td>1</td>\n",
       "      <td>0</td>\n",
       "      <td>8437</td>\n",
       "      <td>0.733319</td>\n",
       "      <td>11</td>\n",
       "    </tr>\n",
       "    <tr>\n",
       "      <th>1</th>\n",
       "      <td>100</td>\n",
       "      <td>0</td>\n",
       "      <td>8437</td>\n",
       "      <td>0.788877</td>\n",
       "      <td>4</td>\n",
       "    </tr>\n",
       "    <tr>\n",
       "      <th>2</th>\n",
       "      <td>300</td>\n",
       "      <td>0</td>\n",
       "      <td>8437</td>\n",
       "      <td>0.768344</td>\n",
       "      <td>7</td>\n",
       "    </tr>\n",
       "    <tr>\n",
       "      <th>3</th>\n",
       "      <td>500</td>\n",
       "      <td>0</td>\n",
       "      <td>8437</td>\n",
       "      <td>0.755649</td>\n",
       "      <td>8</td>\n",
       "    </tr>\n",
       "    <tr>\n",
       "      <th>4</th>\n",
       "      <td>700</td>\n",
       "      <td>0</td>\n",
       "      <td>8437</td>\n",
       "      <td>0.744273</td>\n",
       "      <td>9</td>\n",
       "    </tr>\n",
       "    <tr>\n",
       "      <th>5</th>\n",
       "      <td>900</td>\n",
       "      <td>0</td>\n",
       "      <td>8437</td>\n",
       "      <td>0.734836</td>\n",
       "      <td>10</td>\n",
       "    </tr>\n",
       "    <tr>\n",
       "      <th>6</th>\n",
       "      <td>500</td>\n",
       "      <td>1</td>\n",
       "      <td>16874</td>\n",
       "      <td>0.770698</td>\n",
       "      <td>6</td>\n",
       "    </tr>\n",
       "    <tr>\n",
       "      <th>7</th>\n",
       "      <td>300</td>\n",
       "      <td>1</td>\n",
       "      <td>16874</td>\n",
       "      <td>0.781184</td>\n",
       "      <td>5</td>\n",
       "    </tr>\n",
       "    <tr>\n",
       "      <th>8</th>\n",
       "      <td>100</td>\n",
       "      <td>1</td>\n",
       "      <td>16874</td>\n",
       "      <td>0.795532</td>\n",
       "      <td>3</td>\n",
       "    </tr>\n",
       "    <tr>\n",
       "      <th>9</th>\n",
       "      <td>300</td>\n",
       "      <td>2</td>\n",
       "      <td>33748</td>\n",
       "      <td>0.797969</td>\n",
       "      <td>2</td>\n",
       "    </tr>\n",
       "    <tr>\n",
       "      <th>10</th>\n",
       "      <td>100</td>\n",
       "      <td>2</td>\n",
       "      <td>33748</td>\n",
       "      <td>0.809572</td>\n",
       "      <td>1</td>\n",
       "    </tr>\n",
       "  </tbody>\n",
       "</table>\n",
       "</div>"
      ],
      "text/plain": [
       "   param_n_neighbors  iter  n_resources  mean_test_score  rank_test_score\n",
       "0                  1     0         8437         0.733319               11\n",
       "1                100     0         8437         0.788877                4\n",
       "2                300     0         8437         0.768344                7\n",
       "3                500     0         8437         0.755649                8\n",
       "4                700     0         8437         0.744273                9\n",
       "5                900     0         8437         0.734836               10\n",
       "6                500     1        16874         0.770698                6\n",
       "7                300     1        16874         0.781184                5\n",
       "8                100     1        16874         0.795532                3\n",
       "9                300     2        33748         0.797969                2\n",
       "10               100     2        33748         0.809572                1"
      ]
     },
     "execution_count": 25,
     "metadata": {},
     "output_type": "execute_result"
    }
   ],
   "source": [
    "w2v_knn = KNeighborsClassifier()\n",
    "w2v_knn = HalvingGridSearchCV(estimator=w2v_knn, param_grid=knn_grid, cv = 3, scoring='f1', factor=2)\n",
    "w2v_knn.fit(X_train_w2v, Y_train)\n",
    "print(f'Best Score: {w2v_knn.best_score_}')\n",
    "print(f'Best Params: {w2v_knn.best_params_}')\n",
    "pd.DataFrame(w2v_knn.cv_results_)[knn_cols]"
   ]
  },
  {
   "cell_type": "code",
   "execution_count": 26,
   "metadata": {
    "pycharm": {
     "name": "#%%\n"
    }
   },
   "outputs": [
    {
     "name": "stdout",
     "output_type": "stream",
     "text": [
      "Report: Classification\n",
      "               precision    recall  f1-score   support\n",
      "\n",
      "    positive       0.88      0.86      0.87      5672\n",
      "    negative       0.86      0.88      0.87      5578\n",
      "\n",
      "    accuracy                           0.87     11250\n",
      "   macro avg       0.87      0.87      0.87     11250\n",
      "weighted avg       0.87      0.87      0.87     11250\n",
      "\n",
      "Matrix: Confusion\n",
      " [[4861  811]\n",
      " [ 651 4927]]\n",
      "Accuracy:\n",
      " 0.8700444444444444\n"
     ]
    }
   ],
   "source": [
    "w2v_knn_score = analysis(Y_test, w2v_svm.predict(X_test_w2v))"
   ]
  },
  {
   "cell_type": "markdown",
   "metadata": {
    "pycharm": {
     "name": "#%% md\n"
    }
   },
   "source": [
    "## Comparison"
   ]
  },
  {
   "cell_type": "code",
   "execution_count": 27,
   "metadata": {
    "pycharm": {
     "name": "#%%\n"
    }
   },
   "outputs": [
    {
     "name": "stdout",
     "output_type": "stream",
     "text": [
      "For classifier LR, best BoW score is 0.8689191579692198, whereas best W2V score is 0.8697962798937113\n",
      "So W2V is better with parameters {'C': 700, 'class_weight': 'balanced', 'max_iter': 1000, 'n_jobs': -1, 'penalty': 'l2', 'solver': 'saga'}\n",
      "For classifier SVM, best BoW score is 0.8733403214535291, whereas best W2V score is 0.8708024036762106\n",
      "So BoW is better with parameters {'C': 1, 'kernel': 'rbf'}\n",
      "For classifier KNN, best BoW score is 0.8733403214535291, whereas best W2V score is 0.8708024036762106\n",
      "So BoW is better with parameters {'n_jobs': -1, 'n_neighbors': 300}\n"
     ]
    }
   ],
   "source": [
    "summary = {\n",
    "    'LR': {'BoW': {'model':bow_log, 'score': bow_log_score}, 'W2V': {'model': w2v_log, 'score': w2v_log_score}},\n",
    "    'SVM' : {'BoW': {'model':bow_svm, 'score': bow_svm_score}, 'W2V': {'model': w2v_svm, 'score': w2v_svm_score}},\n",
    "    'KNN': {'BoW': {'model' :bow_knn, 'score':bow_knn_score}, 'W2V': {'model':w2v_knn, 'score':w2v_knn_score}},\n",
    "  }\n",
    "\n",
    "for name, values in summary.items():\n",
    "    print(f'For classifier {name}, best BoW score is {values[\"BoW\"][\"score\"]}, whereas best W2V score is {values[\"W2V\"][\"score\"]}')\n",
    "    best_model = 'BoW' if values['BoW']['score'] > values['W2V']['score'] else 'W2V'\n",
    "    print(f'So {best_model} is better with parameters {values[best_model][\"model\"].best_params_}')\n",
    "    filename = name + '.pkl'\n",
    "    with open(filename, 'wb') as f:\n",
    "        pickle.dump(values[best_model]['model'], f)\n",
    "\n",
    "del summary, bow_log, w2v_log, bow_svm, w2v_svm, bow_knn, w2v_knn"
   ]
  },
  {
   "cell_type": "markdown",
   "metadata": {
    "pycharm": {
     "name": "#%% md\n"
    }
   },
   "source": [
    "# MLP"
   ]
  },
  {
   "cell_type": "code",
   "execution_count": 28,
   "metadata": {
    "pycharm": {
     "name": "#%%\n"
    }
   },
   "outputs": [],
   "source": [
    "mlp_grid = {\n",
    "    'hidden_layer_sizes': [(500, 250), (1000, 250), (500, 250, 250), (1000, 500, 250), (500, 250, 250, 5),\n",
    "                           (1000, 500, 250, 5)],\n",
    "    'activation':['tanh', 'relu']\n",
    "}\n",
    "def eval_mlp(X_train, X_test, Y_train, Y_test):\n",
    "    best_f1 = -1\n",
    "    best_model = None\n",
    "    for sizes in mlp_grid['hidden_layer_sizes']:\n",
    "        for act in mlp_grid['activation']:\n",
    "            m = MLPClassifier(hidden_layer_sizes=sizes, activation=act, solver='sgd', alpha=1,\n",
    "                                    learning_rate='adaptive', max_iter=10)\n",
    "            m.fit(X_train, Y_train)\n",
    "            print(f'Model config: hidden_layer_sizes={sizes}, activation={act}')\n",
    "            f1 = analysis(Y_test, m.predict(X_test))\n",
    "            if f1 > best_f1:\n",
    "                best_model = m\n",
    "                best_f1 = f1\n",
    "    return best_f1, best_model"
   ]
  },
  {
   "cell_type": "markdown",
   "metadata": {
    "pycharm": {
     "name": "#%% md\n"
    }
   },
   "source": [
    "## W2V"
   ]
  },
  {
   "cell_type": "code",
   "execution_count": 29,
   "metadata": {
    "pycharm": {
     "name": "#%%\n"
    }
   },
   "outputs": [
    {
     "name": "stderr",
     "output_type": "stream",
     "text": [
      "/home/jupyter/ml_final_project/venv/lib/python3.8/site-packages/sklearn/neural_network/_multilayer_perceptron.py:614: ConvergenceWarning: Stochastic Optimizer: Maximum iterations (10) reached and the optimization hasn't converged yet.\n",
      "  warnings.warn(\n"
     ]
    },
    {
     "name": "stdout",
     "output_type": "stream",
     "text": [
      "Model config: hidden_layer_sizes=(500, 250), activation=tanh\n",
      "Report: Classification\n",
      "               precision    recall  f1-score   support\n",
      "\n",
      "    positive       0.86      0.84      0.85      5672\n",
      "    negative       0.84      0.86      0.85      5578\n",
      "\n",
      "    accuracy                           0.85     11250\n",
      "   macro avg       0.85      0.85      0.85     11250\n",
      "weighted avg       0.85      0.85      0.85     11250\n",
      "\n",
      "Matrix: Confusion\n",
      " [[4770  902]\n",
      " [ 759 4819]]\n",
      "Accuracy:\n",
      " 0.8523555555555555\n"
     ]
    },
    {
     "name": "stderr",
     "output_type": "stream",
     "text": [
      "/home/jupyter/ml_final_project/venv/lib/python3.8/site-packages/sklearn/neural_network/_multilayer_perceptron.py:614: ConvergenceWarning: Stochastic Optimizer: Maximum iterations (10) reached and the optimization hasn't converged yet.\n",
      "  warnings.warn(\n"
     ]
    },
    {
     "name": "stdout",
     "output_type": "stream",
     "text": [
      "Model config: hidden_layer_sizes=(500, 250), activation=relu\n",
      "Report: Classification\n",
      "               precision    recall  f1-score   support\n",
      "\n",
      "    positive       0.86      0.84      0.85      5672\n",
      "    negative       0.84      0.86      0.85      5578\n",
      "\n",
      "    accuracy                           0.85     11250\n",
      "   macro avg       0.85      0.85      0.85     11250\n",
      "weighted avg       0.85      0.85      0.85     11250\n",
      "\n",
      "Matrix: Confusion\n",
      " [[4774  898]\n",
      " [ 767 4811]]\n",
      "Accuracy:\n",
      " 0.852\n"
     ]
    },
    {
     "name": "stderr",
     "output_type": "stream",
     "text": [
      "/home/jupyter/ml_final_project/venv/lib/python3.8/site-packages/sklearn/neural_network/_multilayer_perceptron.py:614: ConvergenceWarning: Stochastic Optimizer: Maximum iterations (10) reached and the optimization hasn't converged yet.\n",
      "  warnings.warn(\n"
     ]
    },
    {
     "name": "stdout",
     "output_type": "stream",
     "text": [
      "Model config: hidden_layer_sizes=(1000, 250), activation=tanh\n",
      "Report: Classification\n",
      "               precision    recall  f1-score   support\n",
      "\n",
      "    positive       0.87      0.84      0.85      5672\n",
      "    negative       0.84      0.87      0.86      5578\n",
      "\n",
      "    accuracy                           0.85     11250\n",
      "   macro avg       0.85      0.85      0.85     11250\n",
      "weighted avg       0.85      0.85      0.85     11250\n",
      "\n",
      "Matrix: Confusion\n",
      " [[4742  930]\n",
      " [ 718 4860]]\n",
      "Accuracy:\n",
      " 0.8535111111111111\n"
     ]
    },
    {
     "name": "stderr",
     "output_type": "stream",
     "text": [
      "/home/jupyter/ml_final_project/venv/lib/python3.8/site-packages/sklearn/neural_network/_multilayer_perceptron.py:614: ConvergenceWarning: Stochastic Optimizer: Maximum iterations (10) reached and the optimization hasn't converged yet.\n",
      "  warnings.warn(\n"
     ]
    },
    {
     "name": "stdout",
     "output_type": "stream",
     "text": [
      "Model config: hidden_layer_sizes=(1000, 250), activation=relu\n",
      "Report: Classification\n",
      "               precision    recall  f1-score   support\n",
      "\n",
      "    positive       0.86      0.85      0.85      5672\n",
      "    negative       0.85      0.86      0.85      5578\n",
      "\n",
      "    accuracy                           0.85     11250\n",
      "   macro avg       0.85      0.85      0.85     11250\n",
      "weighted avg       0.85      0.85      0.85     11250\n",
      "\n",
      "Matrix: Confusion\n",
      " [[4800  872]\n",
      " [ 784 4794]]\n",
      "Accuracy:\n",
      " 0.8528\n"
     ]
    },
    {
     "name": "stderr",
     "output_type": "stream",
     "text": [
      "/home/jupyter/ml_final_project/venv/lib/python3.8/site-packages/sklearn/neural_network/_multilayer_perceptron.py:614: ConvergenceWarning: Stochastic Optimizer: Maximum iterations (10) reached and the optimization hasn't converged yet.\n",
      "  warnings.warn(\n"
     ]
    },
    {
     "name": "stdout",
     "output_type": "stream",
     "text": [
      "Model config: hidden_layer_sizes=(500, 250, 250), activation=tanh\n",
      "Report: Classification\n",
      "               precision    recall  f1-score   support\n",
      "\n",
      "    positive       0.86      0.85      0.86      5672\n",
      "    negative       0.85      0.86      0.85      5578\n",
      "\n",
      "    accuracy                           0.86     11250\n",
      "   macro avg       0.86      0.86      0.86     11250\n",
      "weighted avg       0.86      0.86      0.86     11250\n",
      "\n",
      "Matrix: Confusion\n",
      " [[4837  835]\n",
      " [ 793 4785]]\n",
      "Accuracy:\n",
      " 0.8552888888888889\n"
     ]
    },
    {
     "name": "stderr",
     "output_type": "stream",
     "text": [
      "/home/jupyter/ml_final_project/venv/lib/python3.8/site-packages/sklearn/neural_network/_multilayer_perceptron.py:614: ConvergenceWarning: Stochastic Optimizer: Maximum iterations (10) reached and the optimization hasn't converged yet.\n",
      "  warnings.warn(\n"
     ]
    },
    {
     "name": "stdout",
     "output_type": "stream",
     "text": [
      "Model config: hidden_layer_sizes=(500, 250, 250), activation=relu\n",
      "Report: Classification\n",
      "               precision    recall  f1-score   support\n",
      "\n",
      "    positive       0.86      0.85      0.85      5672\n",
      "    negative       0.85      0.86      0.86      5578\n",
      "\n",
      "    accuracy                           0.86     11250\n",
      "   macro avg       0.86      0.86      0.86     11250\n",
      "weighted avg       0.86      0.86      0.86     11250\n",
      "\n",
      "Matrix: Confusion\n",
      " [[4801  871]\n",
      " [ 760 4818]]\n",
      "Accuracy:\n",
      " 0.8550222222222222\n"
     ]
    },
    {
     "name": "stderr",
     "output_type": "stream",
     "text": [
      "/home/jupyter/ml_final_project/venv/lib/python3.8/site-packages/sklearn/neural_network/_multilayer_perceptron.py:614: ConvergenceWarning: Stochastic Optimizer: Maximum iterations (10) reached and the optimization hasn't converged yet.\n",
      "  warnings.warn(\n"
     ]
    },
    {
     "name": "stdout",
     "output_type": "stream",
     "text": [
      "Model config: hidden_layer_sizes=(1000, 500, 250), activation=tanh\n",
      "Report: Classification\n",
      "               precision    recall  f1-score   support\n",
      "\n",
      "    positive       0.87      0.85      0.86      5672\n",
      "    negative       0.85      0.87      0.86      5578\n",
      "\n",
      "    accuracy                           0.86     11250\n",
      "   macro avg       0.86      0.86      0.86     11250\n",
      "weighted avg       0.86      0.86      0.86     11250\n",
      "\n",
      "Matrix: Confusion\n",
      " [[4813  859]\n",
      " [ 751 4827]]\n",
      "Accuracy:\n",
      " 0.8568888888888889\n"
     ]
    },
    {
     "name": "stderr",
     "output_type": "stream",
     "text": [
      "/home/jupyter/ml_final_project/venv/lib/python3.8/site-packages/sklearn/neural_network/_multilayer_perceptron.py:614: ConvergenceWarning: Stochastic Optimizer: Maximum iterations (10) reached and the optimization hasn't converged yet.\n",
      "  warnings.warn(\n"
     ]
    },
    {
     "name": "stdout",
     "output_type": "stream",
     "text": [
      "Model config: hidden_layer_sizes=(1000, 500, 250), activation=relu\n",
      "Report: Classification\n",
      "               precision    recall  f1-score   support\n",
      "\n",
      "    positive       0.86      0.86      0.86      5672\n",
      "    negative       0.85      0.85      0.85      5578\n",
      "\n",
      "    accuracy                           0.86     11250\n",
      "   macro avg       0.86      0.86      0.86     11250\n",
      "weighted avg       0.86      0.86      0.86     11250\n",
      "\n",
      "Matrix: Confusion\n",
      " [[4863  809]\n",
      " [ 814 4764]]\n",
      "Accuracy:\n",
      " 0.8557333333333333\n"
     ]
    },
    {
     "name": "stderr",
     "output_type": "stream",
     "text": [
      "/home/jupyter/ml_final_project/venv/lib/python3.8/site-packages/sklearn/neural_network/_multilayer_perceptron.py:614: ConvergenceWarning: Stochastic Optimizer: Maximum iterations (10) reached and the optimization hasn't converged yet.\n",
      "  warnings.warn(\n"
     ]
    },
    {
     "name": "stdout",
     "output_type": "stream",
     "text": [
      "Model config: hidden_layer_sizes=(500, 250, 250, 5), activation=tanh\n",
      "Report: Classification\n",
      "               precision    recall  f1-score   support\n",
      "\n",
      "    positive       0.86      0.86      0.86      5672\n",
      "    negative       0.85      0.86      0.86      5578\n",
      "\n",
      "    accuracy                           0.86     11250\n",
      "   macro avg       0.86      0.86      0.86     11250\n",
      "weighted avg       0.86      0.86      0.86     11250\n",
      "\n",
      "Matrix: Confusion\n",
      " [[4850  822]\n",
      " [ 780 4798]]\n",
      "Accuracy:\n",
      " 0.8576\n"
     ]
    },
    {
     "name": "stderr",
     "output_type": "stream",
     "text": [
      "/home/jupyter/ml_final_project/venv/lib/python3.8/site-packages/sklearn/neural_network/_multilayer_perceptron.py:614: ConvergenceWarning: Stochastic Optimizer: Maximum iterations (10) reached and the optimization hasn't converged yet.\n",
      "  warnings.warn(\n"
     ]
    },
    {
     "name": "stdout",
     "output_type": "stream",
     "text": [
      "Model config: hidden_layer_sizes=(500, 250, 250, 5), activation=relu\n",
      "Report: Classification\n",
      "               precision    recall  f1-score   support\n",
      "\n",
      "    positive       0.85      0.84      0.85      5672\n",
      "    negative       0.84      0.85      0.84      5578\n",
      "\n",
      "    accuracy                           0.84     11250\n",
      "   macro avg       0.84      0.84      0.84     11250\n",
      "weighted avg       0.85      0.84      0.84     11250\n",
      "\n",
      "Matrix: Confusion\n",
      " [[4782  890]\n",
      " [ 854 4724]]\n",
      "Accuracy:\n",
      " 0.8449777777777778\n"
     ]
    },
    {
     "name": "stderr",
     "output_type": "stream",
     "text": [
      "/home/jupyter/ml_final_project/venv/lib/python3.8/site-packages/sklearn/neural_network/_multilayer_perceptron.py:614: ConvergenceWarning: Stochastic Optimizer: Maximum iterations (10) reached and the optimization hasn't converged yet.\n",
      "  warnings.warn(\n"
     ]
    },
    {
     "name": "stdout",
     "output_type": "stream",
     "text": [
      "Model config: hidden_layer_sizes=(1000, 500, 250, 5), activation=tanh\n",
      "Report: Classification\n",
      "               precision    recall  f1-score   support\n",
      "\n",
      "    positive       0.86      0.86      0.86      5672\n",
      "    negative       0.86      0.86      0.86      5578\n",
      "\n",
      "    accuracy                           0.86     11250\n",
      "   macro avg       0.86      0.86      0.86     11250\n",
      "weighted avg       0.86      0.86      0.86     11250\n",
      "\n",
      "Matrix: Confusion\n",
      " [[4885  787]\n",
      " [ 806 4772]]\n",
      "Accuracy:\n",
      " 0.8584\n"
     ]
    },
    {
     "name": "stderr",
     "output_type": "stream",
     "text": [
      "/home/jupyter/ml_final_project/venv/lib/python3.8/site-packages/sklearn/neural_network/_multilayer_perceptron.py:614: ConvergenceWarning: Stochastic Optimizer: Maximum iterations (10) reached and the optimization hasn't converged yet.\n",
      "  warnings.warn(\n"
     ]
    },
    {
     "name": "stdout",
     "output_type": "stream",
     "text": [
      "Model config: hidden_layer_sizes=(1000, 500, 250, 5), activation=relu\n",
      "Report: Classification\n",
      "               precision    recall  f1-score   support\n",
      "\n",
      "    positive       0.88      0.78      0.83      5672\n",
      "    negative       0.80      0.89      0.84      5578\n",
      "\n",
      "    accuracy                           0.83     11250\n",
      "   macro avg       0.84      0.84      0.83     11250\n",
      "weighted avg       0.84      0.83      0.83     11250\n",
      "\n",
      "Matrix: Confusion\n",
      " [[4443 1229]\n",
      " [ 628 4950]]\n",
      "Accuracy:\n",
      " 0.8349333333333333\n"
     ]
    }
   ],
   "source": [
    "w2v_f1, w2v_mlp = eval_mlp(X_train_w2v, X_test_w2v, Y_train, Y_test)"
   ]
  },
  {
   "cell_type": "markdown",
   "metadata": {
    "pycharm": {
     "name": "#%% md\n"
    }
   },
   "source": [
    "## BoW"
   ]
  },
  {
   "cell_type": "code",
   "execution_count": null,
   "metadata": {
    "pycharm": {
     "name": "#%%\n"
    }
   },
   "outputs": [
    {
     "name": "stderr",
     "output_type": "stream",
     "text": [
      "/home/jupyter/ml_final_project/venv/lib/python3.8/site-packages/sklearn/neural_network/_multilayer_perceptron.py:614: ConvergenceWarning: Stochastic Optimizer: Maximum iterations (10) reached and the optimization hasn't converged yet.\n",
      "  warnings.warn(\n"
     ]
    },
    {
     "name": "stdout",
     "output_type": "stream",
     "text": [
      "Model config: hidden_layer_sizes=(500, 250), activation=tanh\n",
      "Report: Classification\n",
      "               precision    recall  f1-score   support\n",
      "\n",
      "    positive       0.87      0.85      0.86      5672\n",
      "    negative       0.85      0.87      0.86      5578\n",
      "\n",
      "    accuracy                           0.86     11250\n",
      "   macro avg       0.86      0.86      0.86     11250\n",
      "weighted avg       0.86      0.86      0.86     11250\n",
      "\n",
      "Matrix: Confusion\n",
      " [[4845  827]\n",
      " [ 737 4841]]\n",
      "Accuracy:\n",
      " 0.8609777777777777\n"
     ]
    },
    {
     "name": "stderr",
     "output_type": "stream",
     "text": [
      "/home/jupyter/ml_final_project/venv/lib/python3.8/site-packages/sklearn/neural_network/_multilayer_perceptron.py:614: ConvergenceWarning: Stochastic Optimizer: Maximum iterations (10) reached and the optimization hasn't converged yet.\n",
      "  warnings.warn(\n"
     ]
    },
    {
     "name": "stdout",
     "output_type": "stream",
     "text": [
      "Model config: hidden_layer_sizes=(500, 250), activation=relu\n",
      "Report: Classification\n",
      "               precision    recall  f1-score   support\n",
      "\n",
      "    positive       0.86      0.85      0.86      5672\n",
      "    negative       0.85      0.86      0.86      5578\n",
      "\n",
      "    accuracy                           0.86     11250\n",
      "   macro avg       0.86      0.86      0.86     11250\n",
      "weighted avg       0.86      0.86      0.86     11250\n",
      "\n",
      "Matrix: Confusion\n",
      " [[4812  860]\n",
      " [ 768 4810]]\n",
      "Accuracy:\n",
      " 0.8552888888888889\n"
     ]
    },
    {
     "name": "stderr",
     "output_type": "stream",
     "text": [
      "/home/jupyter/ml_final_project/venv/lib/python3.8/site-packages/sklearn/neural_network/_multilayer_perceptron.py:614: ConvergenceWarning: Stochastic Optimizer: Maximum iterations (10) reached and the optimization hasn't converged yet.\n",
      "  warnings.warn(\n"
     ]
    },
    {
     "name": "stdout",
     "output_type": "stream",
     "text": [
      "Model config: hidden_layer_sizes=(1000, 250), activation=tanh\n",
      "Report: Classification\n",
      "               precision    recall  f1-score   support\n",
      "\n",
      "    positive       0.89      0.84      0.86      5672\n",
      "    negative       0.84      0.89      0.87      5578\n",
      "\n",
      "    accuracy                           0.87     11250\n",
      "   macro avg       0.87      0.87      0.87     11250\n",
      "weighted avg       0.87      0.87      0.87     11250\n",
      "\n",
      "Matrix: Confusion\n",
      " [[4755  917]\n",
      " [ 591 4987]]\n",
      "Accuracy:\n",
      " 0.8659555555555556\n"
     ]
    },
    {
     "name": "stderr",
     "output_type": "stream",
     "text": [
      "/home/jupyter/ml_final_project/venv/lib/python3.8/site-packages/sklearn/neural_network/_multilayer_perceptron.py:614: ConvergenceWarning: Stochastic Optimizer: Maximum iterations (10) reached and the optimization hasn't converged yet.\n",
      "  warnings.warn(\n"
     ]
    },
    {
     "name": "stdout",
     "output_type": "stream",
     "text": [
      "Model config: hidden_layer_sizes=(1000, 250), activation=relu\n",
      "Report: Classification\n",
      "               precision    recall  f1-score   support\n",
      "\n",
      "    positive       0.87      0.85      0.86      5672\n",
      "    negative       0.85      0.87      0.86      5578\n",
      "\n",
      "    accuracy                           0.86     11250\n",
      "   macro avg       0.86      0.86      0.86     11250\n",
      "weighted avg       0.86      0.86      0.86     11250\n",
      "\n",
      "Matrix: Confusion\n",
      " [[4802  870]\n",
      " [ 709 4869]]\n",
      "Accuracy:\n",
      " 0.8596444444444444\n"
     ]
    },
    {
     "name": "stderr",
     "output_type": "stream",
     "text": [
      "/home/jupyter/ml_final_project/venv/lib/python3.8/site-packages/sklearn/neural_network/_multilayer_perceptron.py:614: ConvergenceWarning: Stochastic Optimizer: Maximum iterations (10) reached and the optimization hasn't converged yet.\n",
      "  warnings.warn(\n"
     ]
    },
    {
     "name": "stdout",
     "output_type": "stream",
     "text": [
      "Model config: hidden_layer_sizes=(500, 250, 250), activation=tanh\n",
      "Report: Classification\n",
      "               precision    recall  f1-score   support\n",
      "\n",
      "    positive       0.88      0.85      0.86      5672\n",
      "    negative       0.85      0.88      0.87      5578\n",
      "\n",
      "    accuracy                           0.87     11250\n",
      "   macro avg       0.87      0.87      0.87     11250\n",
      "weighted avg       0.87      0.87      0.87     11250\n",
      "\n",
      "Matrix: Confusion\n",
      " [[4826  846]\n",
      " [ 662 4916]]\n",
      "Accuracy:\n",
      " 0.8659555555555556\n"
     ]
    },
    {
     "name": "stderr",
     "output_type": "stream",
     "text": [
      "/home/jupyter/ml_final_project/venv/lib/python3.8/site-packages/sklearn/neural_network/_multilayer_perceptron.py:614: ConvergenceWarning: Stochastic Optimizer: Maximum iterations (10) reached and the optimization hasn't converged yet.\n",
      "  warnings.warn(\n"
     ]
    },
    {
     "name": "stdout",
     "output_type": "stream",
     "text": [
      "Model config: hidden_layer_sizes=(500, 250, 250), activation=relu\n",
      "Report: Classification\n",
      "               precision    recall  f1-score   support\n",
      "\n",
      "    positive       0.86      0.87      0.86      5672\n",
      "    negative       0.86      0.85      0.86      5578\n",
      "\n",
      "    accuracy                           0.86     11250\n",
      "   macro avg       0.86      0.86      0.86     11250\n",
      "weighted avg       0.86      0.86      0.86     11250\n",
      "\n",
      "Matrix: Confusion\n",
      " [[4909  763]\n",
      " [ 826 4752]]\n",
      "Accuracy:\n",
      " 0.8587555555555556\n"
     ]
    },
    {
     "name": "stderr",
     "output_type": "stream",
     "text": [
      "/home/jupyter/ml_final_project/venv/lib/python3.8/site-packages/sklearn/neural_network/_multilayer_perceptron.py:614: ConvergenceWarning: Stochastic Optimizer: Maximum iterations (10) reached and the optimization hasn't converged yet.\n",
      "  warnings.warn(\n"
     ]
    },
    {
     "name": "stdout",
     "output_type": "stream",
     "text": [
      "Model config: hidden_layer_sizes=(1000, 500, 250), activation=tanh\n",
      "Report: Classification\n",
      "               precision    recall  f1-score   support\n",
      "\n",
      "    positive       0.90      0.83      0.86      5672\n",
      "    negative       0.84      0.91      0.87      5578\n",
      "\n",
      "    accuracy                           0.87     11250\n",
      "   macro avg       0.87      0.87      0.87     11250\n",
      "weighted avg       0.87      0.87      0.87     11250\n",
      "\n",
      "Matrix: Confusion\n",
      " [[4717  955]\n",
      " [ 528 5050]]\n",
      "Accuracy:\n",
      " 0.8681777777777778\n"
     ]
    },
    {
     "name": "stderr",
     "output_type": "stream",
     "text": [
      "/home/jupyter/ml_final_project/venv/lib/python3.8/site-packages/sklearn/neural_network/_multilayer_perceptron.py:614: ConvergenceWarning: Stochastic Optimizer: Maximum iterations (10) reached and the optimization hasn't converged yet.\n",
      "  warnings.warn(\n"
     ]
    },
    {
     "name": "stdout",
     "output_type": "stream",
     "text": [
      "Model config: hidden_layer_sizes=(1000, 500, 250), activation=relu\n",
      "Report: Classification\n",
      "               precision    recall  f1-score   support\n",
      "\n",
      "    positive       0.89      0.83      0.86      5672\n",
      "    negative       0.84      0.89      0.86      5578\n",
      "\n",
      "    accuracy                           0.86     11250\n",
      "   macro avg       0.86      0.86      0.86     11250\n",
      "weighted avg       0.86      0.86      0.86     11250\n",
      "\n",
      "Matrix: Confusion\n",
      " [[4714  958]\n",
      " [ 607 4971]]\n",
      "Accuracy:\n",
      " 0.8608888888888889\n"
     ]
    },
    {
     "name": "stderr",
     "output_type": "stream",
     "text": [
      "/home/jupyter/ml_final_project/venv/lib/python3.8/site-packages/sklearn/neural_network/_multilayer_perceptron.py:614: ConvergenceWarning: Stochastic Optimizer: Maximum iterations (10) reached and the optimization hasn't converged yet.\n",
      "  warnings.warn(\n"
     ]
    },
    {
     "name": "stdout",
     "output_type": "stream",
     "text": [
      "Model config: hidden_layer_sizes=(500, 250, 250, 5), activation=tanh\n",
      "Report: Classification\n",
      "               precision    recall  f1-score   support\n",
      "\n",
      "    positive       0.89      0.85      0.87      5672\n",
      "    negative       0.85      0.90      0.87      5578\n",
      "\n",
      "    accuracy                           0.87     11250\n",
      "   macro avg       0.87      0.87      0.87     11250\n",
      "weighted avg       0.87      0.87      0.87     11250\n",
      "\n",
      "Matrix: Confusion\n",
      " [[4804  868]\n",
      " [ 580 4998]]\n",
      "Accuracy:\n",
      " 0.8712888888888889\n"
     ]
    },
    {
     "name": "stderr",
     "output_type": "stream",
     "text": [
      "/home/jupyter/ml_final_project/venv/lib/python3.8/site-packages/sklearn/neural_network/_multilayer_perceptron.py:614: ConvergenceWarning: Stochastic Optimizer: Maximum iterations (10) reached and the optimization hasn't converged yet.\n",
      "  warnings.warn(\n"
     ]
    },
    {
     "name": "stdout",
     "output_type": "stream",
     "text": [
      "Model config: hidden_layer_sizes=(500, 250, 250, 5), activation=relu\n",
      "Report: Classification\n",
      "               precision    recall  f1-score   support\n",
      "\n",
      "    positive       0.85      0.84      0.85      5672\n",
      "    negative       0.84      0.85      0.84      5578\n",
      "\n",
      "    accuracy                           0.85     11250\n",
      "   macro avg       0.85      0.85      0.85     11250\n",
      "weighted avg       0.85      0.85      0.85     11250\n",
      "\n",
      "Matrix: Confusion\n",
      " [[4785  887]\n",
      " [ 852 4726]]\n",
      "Accuracy:\n",
      " 0.8454222222222222\n"
     ]
    }
   ],
   "source": [
    "bow_f1, bow_mlp = eval_mlp(X_train_bow, X_test_bow, Y_train, Y_test)"
   ]
  },
  {
   "cell_type": "markdown",
   "metadata": {
    "pycharm": {
     "name": "#%% md\n"
    }
   },
   "source": [
    "## TD-IDF"
   ]
  },
  {
   "cell_type": "code",
   "execution_count": null,
   "metadata": {
    "pycharm": {
     "name": "#%%\n"
    }
   },
   "outputs": [],
   "source": [
    "vectorizer = TfidfVectorizer(max_features=2000)\n",
    "X_train_idf = vectorizer.fit_transform(X_train)\n",
    "X_test_idf = vectorizer.transform(X_test)"
   ]
  },
  {
   "cell_type": "code",
   "execution_count": null,
   "metadata": {
    "pycharm": {
     "name": "#%%\n"
    }
   },
   "outputs": [],
   "source": [
    "tf_idf_f1, tf_idf_mlp = eval_mlp(X_train_idf, X_test_idf, Y_train, Y_test)"
   ]
  },
  {
   "cell_type": "markdown",
   "metadata": {
    "pycharm": {
     "name": "#%% md\n"
    }
   },
   "source": [
    "## Comparison"
   ]
  },
  {
   "cell_type": "code",
   "execution_count": null,
   "metadata": {
    "pycharm": {
     "name": "#%%\n"
    }
   },
   "outputs": [],
   "source": [
    "print('Best scores:')\n",
    "print(f'W2V: {w2v_f1} with params: {w2v_mlp.get_params()}')\n",
    "print(f'BoW: {bow_f1} with params: {bow_mlp.get_params()}')\n",
    "print(f'Tf-Idf: {tf_idf_f1} with params: {tf_idf_mlp.get_params()}')\n",
    "\n",
    "idx = np.argmax([w2v_f1, bow_f1, tf_idf_f1])\n",
    "best_mlp = [w2v_mlp, bow_mlp, tf_idf_mlp][idx]\n",
    "with open('best.pkl', 'wb') as f:\n",
    "    pickle.dump(best_mlp, f)\n"
   ]
  }
 ],
 "metadata": {
  "colab": {
   "collapsed_sections": [],
   "name": "phase1.ipynb",
   "provenance": []
  },
  "interpreter": {
   "hash": "31f2aee4e71d21fbe5cf8b01ff0e069b9275f58929596ceb00d14d90e3e16cd6"
  },
  "kernelspec": {
   "display_name": "Python 3",
   "language": "python",
   "name": "python3"
  },
  "language_info": {
   "codemirror_mode": {
    "name": "ipython",
    "version": 3
   },
   "file_extension": ".py",
   "mimetype": "text/x-python",
   "name": "python",
   "nbconvert_exporter": "python",
   "pygments_lexer": "ipython3",
   "version": "3.8.10"
  }
 },
 "nbformat": 4,
 "nbformat_minor": 1
}
