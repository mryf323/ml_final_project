{
 "cells": [
  {
   "cell_type": "code",
   "execution_count": 15,
   "metadata": {
    "collapsed": true,
    "pycharm": {
     "name": "#%%\n"
    }
   },
   "outputs": [],
   "source": [
    "import pickle\n",
    "import pandas as pd\n",
    "import numpy as np\n",
    "from sklearn import metrics\n",
    "from sklearn.cluster import MiniBatchKMeans, KMeans\n",
    "\n",
    "import matplotlib.pyplot as plt\n",
    "from sklearn.decomposition import PCA\n",
    "from sklearn.mixture import GaussianMixture\n",
    "from sklearn.model_selection import train_test_split, GridSearchCV\n",
    "from gensim.models import KeyedVectors\n",
    "\n",
    "import advanced_processor_chain_factory\n",
    "from data import preprocess_data, vectorize_data, load_dataset\n",
    "from w2v_adapter import Word2VecAdapter\n",
    "\n",
    "def last_layer_activations(model, X):\n",
    "    acs = [X] + (model.n_layers_ - 1) * [None]\n",
    "    return model._forward_pass(acs)[model.n_layers_ - 2]"
   ]
  },
  {
   "cell_type": "code",
   "execution_count": 2,
   "outputs": [],
   "source": [
    "with open('best.pkl', 'rb') as f:\n",
    "    mlp = pickle.load(f)"
   ],
   "metadata": {
    "collapsed": false,
    "pycharm": {
     "name": "#%%\n"
    }
   }
  },
  {
   "cell_type": "code",
   "execution_count": 3,
   "outputs": [],
   "source": [
    "dataset = load_dataset()\n",
    "DEBUG = False"
   ],
   "metadata": {
    "collapsed": false,
    "pycharm": {
     "name": "#%%\n"
    }
   }
  },
  {
   "cell_type": "code",
   "execution_count": 4,
   "outputs": [
    {
     "data": {
      "text/plain": "Dask Apply:   0%|          | 0/8 [00:00<?, ?it/s]",
      "application/vnd.jupyter.widget-view+json": {
       "version_major": 2,
       "version_minor": 0,
       "model_id": "e67f60ff2c994d8e8f688a8422e86559"
      }
     },
     "metadata": {},
     "output_type": "display_data"
    },
    {
     "ename": "FileNotFoundError",
     "evalue": "[Errno 2] No such file or directory: 'vectors.kv'",
     "output_type": "error",
     "traceback": [
      "\u001B[0;31m---------------------------------------------------------------------------\u001B[0m",
      "\u001B[0;31mFileNotFoundError\u001B[0m                         Traceback (most recent call last)",
      "\u001B[0;32m<ipython-input-4-4786d7bc8e57>\u001B[0m in \u001B[0;36m<module>\u001B[0;34m\u001B[0m\n\u001B[1;32m      1\u001B[0m X_train, X_test, Y_train, Y_test = train_test_split(\n\u001B[1;32m      2\u001B[0m     *preprocess_data(dataset, processor_chain=advanced_processor_chain_factory.create('lem'), debug=DEBUG))\n\u001B[0;32m----> 3\u001B[0;31m \u001B[0mvectorizer\u001B[0m \u001B[0;34m=\u001B[0m \u001B[0mWord2VecAdapter\u001B[0m\u001B[0;34m(\u001B[0m\u001B[0mpre_trained_model\u001B[0m\u001B[0;34m=\u001B[0m\u001B[0mKeyedVectors\u001B[0m\u001B[0;34m.\u001B[0m\u001B[0mload\u001B[0m\u001B[0;34m(\u001B[0m\u001B[0;34m'vectors.kv'\u001B[0m\u001B[0;34m)\u001B[0m\u001B[0;34m)\u001B[0m\u001B[0;34m\u001B[0m\u001B[0;34m\u001B[0m\u001B[0m\n\u001B[0m\u001B[1;32m      4\u001B[0m \u001B[0mX_train_vec\u001B[0m \u001B[0;34m=\u001B[0m \u001B[0mvectorizer\u001B[0m\u001B[0;34m.\u001B[0m\u001B[0mfit_transform\u001B[0m\u001B[0;34m(\u001B[0m\u001B[0mX_train\u001B[0m\u001B[0;34m)\u001B[0m\u001B[0;34m\u001B[0m\u001B[0;34m\u001B[0m\u001B[0m\n\u001B[1;32m      5\u001B[0m \u001B[0mX_test_vec\u001B[0m \u001B[0;34m=\u001B[0m \u001B[0mvectorizer\u001B[0m\u001B[0;34m.\u001B[0m\u001B[0mtransform\u001B[0m\u001B[0;34m(\u001B[0m\u001B[0mX_test\u001B[0m\u001B[0;34m)\u001B[0m\u001B[0;34m\u001B[0m\u001B[0;34m\u001B[0m\u001B[0m\n",
      "\u001B[0;32m~/PycharmProjects/ml_final_project/venv/lib/python3.6/site-packages/gensim/utils.py\u001B[0m in \u001B[0;36mload\u001B[0;34m(cls, fname, mmap)\u001B[0m\n\u001B[1;32m    484\u001B[0m         \u001B[0mcompress\u001B[0m\u001B[0;34m,\u001B[0m \u001B[0msubname\u001B[0m \u001B[0;34m=\u001B[0m \u001B[0mSaveLoad\u001B[0m\u001B[0;34m.\u001B[0m\u001B[0m_adapt_by_suffix\u001B[0m\u001B[0;34m(\u001B[0m\u001B[0mfname\u001B[0m\u001B[0;34m)\u001B[0m\u001B[0;34m\u001B[0m\u001B[0;34m\u001B[0m\u001B[0m\n\u001B[1;32m    485\u001B[0m \u001B[0;34m\u001B[0m\u001B[0m\n\u001B[0;32m--> 486\u001B[0;31m         \u001B[0mobj\u001B[0m \u001B[0;34m=\u001B[0m \u001B[0munpickle\u001B[0m\u001B[0;34m(\u001B[0m\u001B[0mfname\u001B[0m\u001B[0;34m)\u001B[0m\u001B[0;34m\u001B[0m\u001B[0;34m\u001B[0m\u001B[0m\n\u001B[0m\u001B[1;32m    487\u001B[0m         \u001B[0mobj\u001B[0m\u001B[0;34m.\u001B[0m\u001B[0m_load_specials\u001B[0m\u001B[0;34m(\u001B[0m\u001B[0mfname\u001B[0m\u001B[0;34m,\u001B[0m \u001B[0mmmap\u001B[0m\u001B[0;34m,\u001B[0m \u001B[0mcompress\u001B[0m\u001B[0;34m,\u001B[0m \u001B[0msubname\u001B[0m\u001B[0;34m)\u001B[0m\u001B[0;34m\u001B[0m\u001B[0;34m\u001B[0m\u001B[0m\n\u001B[1;32m    488\u001B[0m         \u001B[0mobj\u001B[0m\u001B[0;34m.\u001B[0m\u001B[0madd_lifecycle_event\u001B[0m\u001B[0;34m(\u001B[0m\u001B[0;34m\"loaded\"\u001B[0m\u001B[0;34m,\u001B[0m \u001B[0mfname\u001B[0m\u001B[0;34m=\u001B[0m\u001B[0mfname\u001B[0m\u001B[0;34m)\u001B[0m\u001B[0;34m\u001B[0m\u001B[0;34m\u001B[0m\u001B[0m\n",
      "\u001B[0;32m~/PycharmProjects/ml_final_project/venv/lib/python3.6/site-packages/gensim/utils.py\u001B[0m in \u001B[0;36munpickle\u001B[0;34m(fname)\u001B[0m\n\u001B[1;32m   1455\u001B[0m \u001B[0;34m\u001B[0m\u001B[0m\n\u001B[1;32m   1456\u001B[0m     \"\"\"\n\u001B[0;32m-> 1457\u001B[0;31m     \u001B[0;32mwith\u001B[0m \u001B[0mopen\u001B[0m\u001B[0;34m(\u001B[0m\u001B[0mfname\u001B[0m\u001B[0;34m,\u001B[0m \u001B[0;34m'rb'\u001B[0m\u001B[0;34m)\u001B[0m \u001B[0;32mas\u001B[0m \u001B[0mf\u001B[0m\u001B[0;34m:\u001B[0m\u001B[0;34m\u001B[0m\u001B[0;34m\u001B[0m\u001B[0m\n\u001B[0m\u001B[1;32m   1458\u001B[0m         \u001B[0;32mreturn\u001B[0m \u001B[0m_pickle\u001B[0m\u001B[0;34m.\u001B[0m\u001B[0mload\u001B[0m\u001B[0;34m(\u001B[0m\u001B[0mf\u001B[0m\u001B[0;34m,\u001B[0m \u001B[0mencoding\u001B[0m\u001B[0;34m=\u001B[0m\u001B[0;34m'latin1'\u001B[0m\u001B[0;34m)\u001B[0m  \u001B[0;31m# needed because loading from S3 doesn't support readline()\u001B[0m\u001B[0;34m\u001B[0m\u001B[0;34m\u001B[0m\u001B[0m\n\u001B[1;32m   1459\u001B[0m \u001B[0;34m\u001B[0m\u001B[0m\n",
      "\u001B[0;32m~/PycharmProjects/ml_final_project/venv/lib/python3.6/site-packages/smart_open/smart_open_lib.py\u001B[0m in \u001B[0;36mopen\u001B[0;34m(uri, mode, buffering, encoding, errors, newline, closefd, opener, ignore_ext, compression, transport_params)\u001B[0m\n\u001B[1;32m    193\u001B[0m         \u001B[0mencoding\u001B[0m\u001B[0;34m=\u001B[0m\u001B[0mencoding\u001B[0m\u001B[0;34m,\u001B[0m\u001B[0;34m\u001B[0m\u001B[0;34m\u001B[0m\u001B[0m\n\u001B[1;32m    194\u001B[0m         \u001B[0merrors\u001B[0m\u001B[0;34m=\u001B[0m\u001B[0merrors\u001B[0m\u001B[0;34m,\u001B[0m\u001B[0;34m\u001B[0m\u001B[0;34m\u001B[0m\u001B[0m\n\u001B[0;32m--> 195\u001B[0;31m         \u001B[0mnewline\u001B[0m\u001B[0;34m=\u001B[0m\u001B[0mnewline\u001B[0m\u001B[0;34m,\u001B[0m\u001B[0;34m\u001B[0m\u001B[0;34m\u001B[0m\u001B[0m\n\u001B[0m\u001B[1;32m    196\u001B[0m     )\n\u001B[1;32m    197\u001B[0m     \u001B[0;32mif\u001B[0m \u001B[0mfobj\u001B[0m \u001B[0;32mis\u001B[0m \u001B[0;32mnot\u001B[0m \u001B[0;32mNone\u001B[0m\u001B[0;34m:\u001B[0m\u001B[0;34m\u001B[0m\u001B[0;34m\u001B[0m\u001B[0m\n",
      "\u001B[0;32m~/PycharmProjects/ml_final_project/venv/lib/python3.6/site-packages/smart_open/smart_open_lib.py\u001B[0m in \u001B[0;36m_shortcut_open\u001B[0;34m(uri, mode, compression, buffering, encoding, errors, newline)\u001B[0m\n\u001B[1;32m    359\u001B[0m         \u001B[0mopen_kwargs\u001B[0m\u001B[0;34m[\u001B[0m\u001B[0;34m'errors'\u001B[0m\u001B[0;34m]\u001B[0m \u001B[0;34m=\u001B[0m \u001B[0merrors\u001B[0m\u001B[0;34m\u001B[0m\u001B[0;34m\u001B[0m\u001B[0m\n\u001B[1;32m    360\u001B[0m \u001B[0;34m\u001B[0m\u001B[0m\n\u001B[0;32m--> 361\u001B[0;31m     \u001B[0;32mreturn\u001B[0m \u001B[0m_builtin_open\u001B[0m\u001B[0;34m(\u001B[0m\u001B[0mlocal_path\u001B[0m\u001B[0;34m,\u001B[0m \u001B[0mmode\u001B[0m\u001B[0;34m,\u001B[0m \u001B[0mbuffering\u001B[0m\u001B[0;34m=\u001B[0m\u001B[0mbuffering\u001B[0m\u001B[0;34m,\u001B[0m \u001B[0;34m**\u001B[0m\u001B[0mopen_kwargs\u001B[0m\u001B[0;34m)\u001B[0m\u001B[0;34m\u001B[0m\u001B[0;34m\u001B[0m\u001B[0m\n\u001B[0m\u001B[1;32m    362\u001B[0m \u001B[0;34m\u001B[0m\u001B[0m\n\u001B[1;32m    363\u001B[0m \u001B[0;34m\u001B[0m\u001B[0m\n",
      "\u001B[0;31mFileNotFoundError\u001B[0m: [Errno 2] No such file or directory: 'vectors.kv'"
     ]
    }
   ],
   "source": [
    "X_train, X_test, Y_train, Y_test = train_test_split(\n",
    "    *preprocess_data(dataset, processor_chain=advanced_processor_chain_factory.create('lem'), debug=DEBUG))"
   ],
   "metadata": {
    "collapsed": false,
    "pycharm": {
     "name": "#%%\n"
    }
   }
  },
  {
   "cell_type": "code",
   "execution_count": 5,
   "outputs": [],
   "source": [
    "vectorizer = Word2VecAdapter()"
   ],
   "metadata": {
    "collapsed": false,
    "pycharm": {
     "name": "#%%\n"
    }
   }
  },
  {
   "cell_type": "code",
   "execution_count": null,
   "outputs": [],
   "source": [
    "vectorizer = Word2VecAdapter(pre_trained_model=KeyedVectors.load('w2v.kv'))"
   ],
   "metadata": {
    "collapsed": false,
    "pycharm": {
     "name": "#%%\n"
    }
   }
  },
  {
   "cell_type": "code",
   "execution_count": 6,
   "outputs": [
    {
     "data": {
      "text/plain": "Dask Apply:   0%|          | 0/8 [00:00<?, ?it/s]",
      "application/vnd.jupyter.widget-view+json": {
       "version_major": 2,
       "version_minor": 0,
       "model_id": "56695833d54c44a08dcdf1327f6741a1"
      }
     },
     "metadata": {},
     "output_type": "display_data"
    },
    {
     "data": {
      "text/plain": "Dask Apply:   0%|          | 0/8 [00:00<?, ?it/s]",
      "application/vnd.jupyter.widget-view+json": {
       "version_major": 2,
       "version_minor": 0,
       "model_id": "55b5afd5850e4a2fa3df9fa70f688625"
      }
     },
     "metadata": {},
     "output_type": "display_data"
    }
   ],
   "source": [
    "X_train_vec = vectorizer.fit_transform(X_train)\n",
    "X_test_vec = vectorizer.transform(X_test)"
   ],
   "metadata": {
    "collapsed": false,
    "pycharm": {
     "name": "#%%\n"
    }
   }
  },
  {
   "cell_type": "markdown",
   "source": [
    "# Show Clusters"
   ],
   "metadata": {
    "collapsed": false,
    "pycharm": {
     "name": "#%% md\n"
    }
   }
  },
  {
   "cell_type": "code",
   "execution_count": 13,
   "outputs": [],
   "source": [
    "tsne = PCA(n_components = 2)\n",
    "X_tsne = tsne.fit_transform(X_train_vec[:1000])"
   ],
   "metadata": {
    "collapsed": false,
    "pycharm": {
     "name": "#%%\n"
    }
   }
  },
  {
   "cell_type": "code",
   "execution_count": null,
   "outputs": [],
   "source": [
    "u_labels = np.unique(Y_train[:1000])\n",
    "for i in u_labels:\n",
    "    points = X_tsne[Y_train[:1000] == i]\n",
    "    plt.scatter(points[:,0] , points[:,1] , label = i)\n",
    "plt.show()"
   ],
   "metadata": {
    "collapsed": false,
    "pycharm": {
     "name": "#%%\n"
    }
   }
  },
  {
   "cell_type": "code",
   "execution_count": 31,
   "outputs": [],
   "source": [
    "import copy\n",
    "\n",
    "def evaluate_cluster(model_factory , possible_configs, X_train_vec, X_test_vec, Y_train, Y_test):\n",
    "    kmeans_summary = pd.DataFrame()\n",
    "    for config in possible_configs:\n",
    "        model = model_factory(**config)\n",
    "        Y_train_pred = model.fit_predict(X_train_vec, Y_train)\n",
    "        # Y_test_pred = model.predict(X_test_vec)\n",
    "        train_ant_score = metrics.mutual_info_score(Y_train, Y_train_pred)\n",
    "        train_rand_score = metrics.rand_score(Y_train, Y_train_pred)\n",
    "        #test_ant_score = metrics.mutual_info_score(Y_test, Y_test_pred)\n",
    "        #test_rand_score = metrics.rand_score(Y_test, Y_test_pred)\n",
    "        ccon = copy.copy(config)\n",
    "        config['train_mutual_info_score'] = train_ant_score\n",
    "        config['train_rand_score'] = train_rand_score\n",
    "        #config['test_mutual_info_score'] = test_ant_score\n",
    "        #config['test_rand_score'] = test_rand_score\n",
    "        kmeans_summary = kmeans_summary.append(config, ignore_index=True)\n",
    "        print(f'Evaluation config {ccon} has been completed.')\n",
    "    return kmeans_summary"
   ],
   "metadata": {
    "collapsed": false,
    "pycharm": {
     "name": "#%%\n"
    }
   }
  },
  {
   "cell_type": "code",
   "execution_count": 32,
   "outputs": [
    {
     "name": "stdout",
     "output_type": "stream",
     "text": [
      "Evaluation config {'n_clusters': 2} has been completed.\n",
      "Evaluation config {'n_clusters': 10} has been completed.\n",
      "Evaluation config {'n_clusters': 100} has been completed.\n",
      "Evaluation config {'n_clusters': 1000} has been completed.\n"
     ]
    },
    {
     "data": {
      "text/plain": "   n_clusters  train_mutual_info_score  train_rand_score\n0         2.0                 0.000269          0.500151\n1        10.0                 0.001929          0.500174\n2       100.0                 0.013355          0.499982\n3      1000.0                 0.158764          0.500033",
      "text/html": "<div>\n<style scoped>\n    .dataframe tbody tr th:only-of-type {\n        vertical-align: middle;\n    }\n\n    .dataframe tbody tr th {\n        vertical-align: top;\n    }\n\n    .dataframe thead th {\n        text-align: right;\n    }\n</style>\n<table border=\"1\" class=\"dataframe\">\n  <thead>\n    <tr style=\"text-align: right;\">\n      <th></th>\n      <th>n_clusters</th>\n      <th>train_mutual_info_score</th>\n      <th>train_rand_score</th>\n    </tr>\n  </thead>\n  <tbody>\n    <tr>\n      <th>0</th>\n      <td>2.0</td>\n      <td>0.000269</td>\n      <td>0.500151</td>\n    </tr>\n    <tr>\n      <th>1</th>\n      <td>10.0</td>\n      <td>0.001929</td>\n      <td>0.500174</td>\n    </tr>\n    <tr>\n      <th>2</th>\n      <td>100.0</td>\n      <td>0.013355</td>\n      <td>0.499982</td>\n    </tr>\n    <tr>\n      <th>3</th>\n      <td>1000.0</td>\n      <td>0.158764</td>\n      <td>0.500033</td>\n    </tr>\n  </tbody>\n</table>\n</div>"
     },
     "execution_count": 32,
     "metadata": {},
     "output_type": "execute_result"
    }
   ],
   "source": [
    "evaluate_cluster(MiniBatchKMeans, [{'n_clusters':2}, {'n_clusters':10}, {'n_clusters':100}, {'n_clusters':1000}], X_train_vec[:4000], X_test_vec[:4000], Y_train[:4000], Y_test[:4000])"
   ],
   "metadata": {
    "collapsed": false,
    "pycharm": {
     "name": "#%%\n"
    }
   }
  },
  {
   "cell_type": "code",
   "execution_count": null,
   "outputs": [],
   "source": [
    "evaluate_cluster(GaussianMixture, [{'n_components':2}, {'n_components':10}, {'n_components':100}, {'n_components':4500}])"
   ],
   "metadata": {
    "collapsed": false,
    "pycharm": {
     "name": "#%%\n"
    }
   }
  },
  {
   "cell_type": "code",
   "execution_count": 28,
   "outputs": [
    {
     "name": "stdout",
     "output_type": "stream",
     "text": [
      "Evaluation config {'eps': 0.07, 'min_samples': 3, 'metric': 'cosine'} has been completed.\n"
     ]
    },
    {
     "data": {
      "text/plain": "    eps  metric  min_samples  train_mutual_info_score  train_rand_score\n0  0.07  cosine          3.0                 0.000085           0.00001",
      "text/html": "<div>\n<style scoped>\n    .dataframe tbody tr th:only-of-type {\n        vertical-align: middle;\n    }\n\n    .dataframe tbody tr th {\n        vertical-align: top;\n    }\n\n    .dataframe thead th {\n        text-align: right;\n    }\n</style>\n<table border=\"1\" class=\"dataframe\">\n  <thead>\n    <tr style=\"text-align: right;\">\n      <th></th>\n      <th>eps</th>\n      <th>metric</th>\n      <th>min_samples</th>\n      <th>train_mutual_info_score</th>\n      <th>train_rand_score</th>\n    </tr>\n  </thead>\n  <tbody>\n    <tr>\n      <th>0</th>\n      <td>0.07</td>\n      <td>cosine</td>\n      <td>3.0</td>\n      <td>0.000085</td>\n      <td>0.00001</td>\n    </tr>\n  </tbody>\n</table>\n</div>"
     },
     "execution_count": 28,
     "metadata": {},
     "output_type": "execute_result"
    }
   ],
   "source": [
    "\n",
    "from sklearn.cluster import DBSCAN\n",
    "evaluate_cluster(DBSCAN, [{'eps':0.07, 'min_samples':3, 'metric':'cosine'}], X_train_vec, X_test_vec, Y_train, Y_test)"
   ],
   "metadata": {
    "collapsed": false,
    "pycharm": {
     "name": "#%%\n"
    }
   }
  }
 ],
 "metadata": {
  "kernelspec": {
   "display_name": "Python 3",
   "language": "python",
   "name": "python3"
  },
  "language_info": {
   "codemirror_mode": {
    "name": "ipython",
    "version": 2
   },
   "file_extension": ".py",
   "mimetype": "text/x-python",
   "name": "python",
   "nbconvert_exporter": "python",
   "pygments_lexer": "ipython2",
   "version": "2.7.6"
  }
 },
 "nbformat": 4,
 "nbformat_minor": 0
}