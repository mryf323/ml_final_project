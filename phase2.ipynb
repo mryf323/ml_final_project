{
 "cells": [
  {
   "cell_type": "code",
   "execution_count": 1,
   "metadata": {
    "collapsed": true,
    "pycharm": {
     "name": "#%%\n"
    }
   },
   "outputs": [],
   "source": [
    "import pandas as pd\n",
    "import numpy as np\n",
    "from sklearn import metrics\n",
    "from sklearn.cluster import KMeans, AgglomerativeClustering\n",
    "\n",
    "import matplotlib.pyplot as plt\n",
    "from sklearn.decomposition import PCA\n",
    "from sklearn.feature_extraction.text import CountVectorizer\n",
    "from sklearn.mixture import GaussianMixture\n",
    "from sklearn.model_selection import train_test_split\n",
    "from sklearn.neural_network import MLPClassifier\n",
    "\n",
    "import advanced_processor_chain_factory\n",
    "from data import preprocess_data, load_dataset\n",
    "from evaluation import analysis, cluster_analysis"
   ]
  },
  {
   "cell_type": "code",
   "execution_count": 2,
   "outputs": [],
   "source": [
    "def last_layer_activations(model, X):\n",
    "    acs = [X] + (model.n_layers_ - 1) * [None]\n",
    "    return model._forward_pass(acs)[model.n_layers_ - 2]"
   ],
   "metadata": {
    "collapsed": false,
    "pycharm": {
     "name": "#%%\n"
    }
   }
  },
  {
   "cell_type": "code",
   "execution_count": 3,
   "outputs": [],
   "source": [
    "dataset = load_dataset()\n",
    "DEBUG = False"
   ],
   "metadata": {
    "collapsed": false,
    "pycharm": {
     "name": "#%%\n"
    }
   }
  },
  {
   "cell_type": "code",
   "execution_count": 4,
   "outputs": [
    {
     "data": {
      "text/plain": "Pandas Apply:   0%|          | 0/45000 [00:00<?, ?it/s]",
      "application/vnd.jupyter.widget-view+json": {
       "version_major": 2,
       "version_minor": 0,
       "model_id": "2feade50fb4d417cb1f528af0e32a23f"
      }
     },
     "metadata": {},
     "output_type": "display_data"
    }
   ],
   "source": [
    "X_train, X_test, Y_train, Y_test = train_test_split(\n",
    "    *preprocess_data(dataset, processor_chain=advanced_processor_chain_factory.create('lem'), debug=DEBUG))"
   ],
   "metadata": {
    "collapsed": false,
    "pycharm": {
     "name": "#%%\n"
    }
   }
  },
  {
   "cell_type": "code",
   "execution_count": 5,
   "outputs": [],
   "source": [
    "vectorizer = CountVectorizer(max_features=2000)"
   ],
   "metadata": {
    "collapsed": false,
    "pycharm": {
     "name": "#%%\n"
    }
   }
  },
  {
   "cell_type": "code",
   "execution_count": 6,
   "outputs": [],
   "source": [
    "vectorizer.fit(pd.concat([X_train, X_test]))\n",
    "X_train_vec = vectorizer.transform(X_train)\n",
    "X_test_vec = vectorizer.transform(X_test)"
   ],
   "metadata": {
    "collapsed": false,
    "pycharm": {
     "name": "#%%\n"
    }
   }
  },
  {
   "cell_type": "code",
   "execution_count": 7,
   "outputs": [
    {
     "data": {
      "text/plain": "MLPClassifier(activation='tanh', hidden_layer_sizes=(1000, 500, 250, 5),\n              warm_start=True)"
     },
     "execution_count": 7,
     "metadata": {},
     "output_type": "execute_result"
    }
   ],
   "source": [
    "mlp = MLPClassifier(hidden_layer_sizes=(1000, 500, 250, 5), activation='tanh', warm_start=True)\n",
    "mlp.fit(X_train_vec, Y_train)"
   ],
   "metadata": {
    "collapsed": false,
    "pycharm": {
     "name": "#%%\n"
    }
   }
  },
  {
   "cell_type": "code",
   "execution_count": 8,
   "outputs": [
    {
     "name": "stdout",
     "output_type": "stream",
     "text": [
      "Report: Classification\n",
      "               precision    recall  f1-score   support\n",
      "\n",
      "    positive       0.84      0.84      0.84      5616\n",
      "    negative       0.84      0.84      0.84      5634\n",
      "\n",
      "    accuracy                           0.84     11250\n",
      "   macro avg       0.84      0.84      0.84     11250\n",
      "weighted avg       0.84      0.84      0.84     11250\n",
      "\n",
      "Matrix: Confusion\n",
      " [[4722  894]\n",
      " [ 894 4740]]\n",
      "Accuracy:\n",
      " 0.8410666666666666\n"
     ]
    },
    {
     "data": {
      "text/plain": "0.8413205537806177"
     },
     "execution_count": 8,
     "metadata": {},
     "output_type": "execute_result"
    }
   ],
   "source": [
    "analysis(Y_test, mlp.predict(X_test_vec))"
   ],
   "metadata": {
    "collapsed": false,
    "pycharm": {
     "name": "#%%\n"
    }
   }
  },
  {
   "cell_type": "code",
   "execution_count": 9,
   "outputs": [],
   "source": [
    "X_train_vec = last_layer_activations(mlp, X_train_vec)\n",
    "X_test_vec = last_layer_activations(mlp, X_test_vec)"
   ],
   "metadata": {
    "collapsed": false,
    "pycharm": {
     "name": "#%%\n"
    }
   }
  },
  {
   "cell_type": "code",
   "execution_count": 10,
   "outputs": [],
   "source": [
    "def plot_clustering(Y, X_train_pca):\n",
    "    u_labels = np.unique(Y)\n",
    "    for i in u_labels:\n",
    "        points = X_train_pca[Y == i]\n",
    "        plt.scatter(points[:, 0], points[:, 1], label=i)\n",
    "    plt.show()"
   ],
   "metadata": {
    "collapsed": false,
    "pycharm": {
     "name": "#%%\n"
    }
   }
  },
  {
   "cell_type": "code",
   "execution_count": 11,
   "outputs": [],
   "source": [
    "pca = PCA(n_components=2)\n",
    "X_train_pca = pca.fit_transform(X_train_vec)\n",
    "X_test_pca = pca.transform(X_test_vec)"
   ],
   "metadata": {
    "collapsed": false,
    "pycharm": {
     "name": "#%%\n"
    }
   }
  },
  {
   "cell_type": "markdown",
   "source": [
    "# Show Clusters\n",
    "\n",
    "Let's see something weird. Features generated by the multi-layer perceptron for train data, are perfect for\n",
    "even one-dimensional clustering, but it seems they are not good at all for separating our test data."
   ],
   "metadata": {
    "collapsed": false,
    "pycharm": {
     "name": "#%% md\n"
    }
   }
  },
  {
   "cell_type": "code",
   "execution_count": 12,
   "outputs": [
    {
     "data": {
      "text/plain": "<Figure size 432x288 with 1 Axes>",
      "image/png": "[encoded data removed]"
     },
     "metadata": {
      "needs_background": "light"
     },
     "output_type": "display_data"
    }
   ],
   "source": [
    "plot_clustering(Y_train, X_train_pca)"
   ],
   "metadata": {
    "collapsed": false,
    "pycharm": {
     "name": "#%%\n"
    }
   }
  },
  {
   "cell_type": "code",
   "execution_count": 13,
   "outputs": [
    {
     "data": {
      "text/plain": "<Figure size 432x288 with 1 Axes>",
      "image/png": "[encoded data removed]"
     },
     "metadata": {
      "needs_background": "light"
     },
     "output_type": "display_data"
    }
   ],
   "source": [
    "plot_clustering(Y_test, X_test_pca)"
   ],
   "metadata": {
    "collapsed": false,
    "pycharm": {
     "name": "#%%\n"
    }
   }
  },
  {
   "cell_type": "markdown",
   "source": [
    "## (Bonus) Train a Logistic Regression with the New Representation\n",
    "As the two-dimensional representation for transformed test data was a total disaster, we wondered to know if this data\n",
    "is even predictable at all with a model trained with our transformed train data. So we decided to measure\n",
    "test data performance on a Logistic Regression model trained on our transformed train data.\n",
    "We measure train and test performance with conventional accuracy metric and with two clustering measures which will be\n",
    "also used in the next part."
   ],
   "metadata": {
    "collapsed": false
   }
  },
  {
   "cell_type": "code",
   "execution_count": 14,
   "outputs": [
    {
     "name": "stdout",
     "output_type": "stream",
     "text": [
      "Training Accuracy: 0.991348\n",
      "Training Rand Score: 0.982845\n",
      "Training Fowlkers Mallows Score: 0.982845\n",
      "Testing Accuracy: 0.841333\n",
      "Testing Rand Score: 0.732993\n",
      "Testing Fowlkers Mallows Score: 0.732971\n"
     ]
    }
   ],
   "source": [
    "from sklearn.linear_model import LogisticRegression\n",
    "lr = LogisticRegression()\n",
    "lr.fit(X_train_vec, Y_train)\n",
    "for name, y, x in [('Training', Y_train, X_train_vec), ('Testing', Y_test, X_test_vec)]:\n",
    "    print('%s Accuracy: %f' % (name, metrics.accuracy_score(y, lr.predict(x))))\n",
    "    print('%s Rand Score: %f' % (name, metrics.rand_score(y, lr.predict(x))))\n",
    "    print('%s Fowlkers Mallows Score: %f' % (name, metrics.fowlkes_mallows_score(y, lr.predict(x))))"
   ],
   "metadata": {
    "collapsed": false,
    "pycharm": {
     "name": "#%%\n"
    }
   }
  },
  {
   "cell_type": "markdown",
   "source": [
    "# Agglomerative Clustering"
   ],
   "metadata": {
    "collapsed": false,
    "pycharm": {
     "name": "#%% md\n"
    }
   }
  },
  {
   "cell_type": "code",
   "execution_count": 15,
   "outputs": [],
   "source": [
    "agg2 = AgglomerativeClustering(n_clusters=2)\n",
    "agg5 = AgglomerativeClustering (n_clusters=5)\n",
    "Y_agg2 = agg2.fit_predict(X_train_vec, Y_train)\n",
    "Y_agg5 = agg5.fit_predict(X_train_vec, Y_train)"
   ],
   "metadata": {
    "collapsed": false,
    "pycharm": {
     "name": "#%%\n"
    }
   }
  },
  {
   "cell_type": "markdown",
   "source": [
    "## Number of Clusters = 2"
   ],
   "metadata": {
    "collapsed": false,
    "pycharm": {
     "name": "#%% md\n"
    }
   }
  },
  {
   "cell_type": "code",
   "execution_count": 16,
   "outputs": [
    {
     "data": {
      "text/plain": "<Figure size 432x288 with 1 Axes>",
      "image/png": "[encoded data removed]"
     },
     "metadata": {
      "needs_background": "light"
     },
     "output_type": "display_data"
    }
   ],
   "source": [
    "plot_clustering(Y_agg2, X_train_pca)"
   ],
   "metadata": {
    "collapsed": false,
    "pycharm": {
     "name": "#%%\n"
    }
   }
  },
  {
   "cell_type": "markdown",
   "source": [
    "## Number of Clusters = 5"
   ],
   "metadata": {
    "collapsed": false,
    "pycharm": {
     "name": "#%% md\n"
    }
   }
  },
  {
   "cell_type": "code",
   "execution_count": 17,
   "outputs": [
    {
     "data": {
      "text/plain": "<Figure size 432x288 with 1 Axes>",
      "image/png": "[encoded data removed]"
     },
     "metadata": {
      "needs_background": "light"
     },
     "output_type": "display_data"
    }
   ],
   "source": [
    "plot_clustering(Y_agg5, X_train_pca)"
   ],
   "metadata": {
    "collapsed": false,
    "pycharm": {
     "name": "#%%\n"
    }
   }
  },
  {
   "cell_type": "markdown",
   "source": [
    "## Training Loss\n",
    "(This approuch can't be used for unseen data)"
   ],
   "metadata": {
    "collapsed": false,
    "pycharm": {
     "name": "#%% md\n"
    }
   }
  },
  {
   "cell_type": "code",
   "execution_count": 18,
   "outputs": [
    {
     "name": "stdout",
     "output_type": "stream",
     "text": [
      "Test Evaluation:\n",
      "rand_score: 0.9815651641804476\n",
      "fowlkes_mallows_score: 0.9815646418860272\n"
     ]
    }
   ],
   "source": [
    "cluster_analysis(Y_train, Y_agg2)"
   ],
   "metadata": {
    "collapsed": false,
    "pycharm": {
     "name": "#%%\n"
    }
   }
  },
  {
   "cell_type": "markdown",
   "source": [
    "# KMeans Clustering"
   ],
   "metadata": {
    "collapsed": false,
    "pycharm": {
     "name": "#%% md\n"
    }
   }
  },
  {
   "cell_type": "code",
   "execution_count": 19,
   "outputs": [],
   "source": [
    "kmeans2 = KMeans(n_clusters=2)\n",
    "kmeans5 = KMeans (n_clusters=5)\n",
    "Y_kmeans2 = kmeans2.fit_predict(X_train_vec, Y_train)\n",
    "Y_kmeans5 = kmeans5.fit_predict(X_train_vec, Y_train)"
   ],
   "metadata": {
    "collapsed": false,
    "pycharm": {
     "name": "#%%\n"
    }
   }
  },
  {
   "cell_type": "markdown",
   "source": [
    "## Number of Clusters = 2"
   ],
   "metadata": {
    "collapsed": false,
    "pycharm": {
     "name": "#%% md\n"
    }
   }
  },
  {
   "cell_type": "code",
   "source": [
    "plot_clustering(Y_kmeans2, X_train_pca)"
   ],
   "metadata": {
    "collapsed": false,
    "pycharm": {
     "name": "#%%\n"
    }
   },
   "execution_count": 20,
   "outputs": [
    {
     "data": {
      "text/plain": "<Figure size 432x288 with 1 Axes>",
      "image/png": "[encoded data removed]"
     },
     "metadata": {
      "needs_background": "light"
     },
     "output_type": "display_data"
    }
   ]
  },
  {
   "cell_type": "markdown",
   "source": [
    "## Number of Clusters = 5"
   ],
   "metadata": {
    "collapsed": false,
    "pycharm": {
     "name": "#%% md\n"
    }
   }
  },
  {
   "cell_type": "code",
   "execution_count": 21,
   "outputs": [
    {
     "data": {
      "text/plain": "<Figure size 432x288 with 1 Axes>",
      "image/png": "[encoded data removed]"
     },
     "metadata": {
      "needs_background": "light"
     },
     "output_type": "display_data"
    }
   ],
   "source": [
    "plot_clustering(Y_kmeans5, X_train_pca)"
   ],
   "metadata": {
    "collapsed": false,
    "pycharm": {
     "name": "#%%\n"
    }
   }
  },
  {
   "cell_type": "markdown",
   "source": [
    "## Performance on Training Data"
   ],
   "metadata": {
    "collapsed": false,
    "pycharm": {
     "name": "#%% md\n"
    }
   }
  },
  {
   "cell_type": "code",
   "execution_count": 22,
   "outputs": [
    {
     "name": "stdout",
     "output_type": "stream",
     "text": [
      "Test Evaluation:\n",
      "rand_score: 0.9824379340732181\n",
      "fowlkes_mallows_score: 0.9824374159361037\n"
     ]
    }
   ],
   "source": [
    "cluster_analysis(Y_train, Y_kmeans2)"
   ],
   "metadata": {
    "collapsed": false,
    "pycharm": {
     "name": "#%%\n"
    }
   }
  },
  {
   "cell_type": "markdown",
   "source": [
    "## Performance on Test Data"
   ],
   "metadata": {
    "collapsed": false
   }
  },
  {
   "cell_type": "code",
   "execution_count": 23,
   "outputs": [
    {
     "name": "stdout",
     "output_type": "stream",
     "text": [
      "Test Evaluation:\n",
      "rand_score: 0.7331145445027212\n",
      "fowlkes_mallows_score: 0.7330911968045254\n"
     ]
    }
   ],
   "source": [
    "cluster_analysis(Y_test, kmeans2.predict(X_test_vec))"
   ],
   "metadata": {
    "collapsed": false,
    "pycharm": {
     "name": "#%%\n"
    }
   }
  },
  {
   "cell_type": "markdown",
   "source": [
    "# GMM Clustering"
   ],
   "metadata": {
    "collapsed": false,
    "pycharm": {
     "name": "#%% md\n"
    }
   }
  },
  {
   "cell_type": "markdown",
   "source": [
    "## Number of Clusters = 2"
   ],
   "metadata": {
    "collapsed": false
   }
  },
  {
   "cell_type": "code",
   "execution_count": 24,
   "outputs": [
    {
     "data": {
      "text/plain": "<Figure size 432x288 with 1 Axes>",
      "image/png": "[encoded data removed]"
     },
     "metadata": {
      "needs_background": "light"
     },
     "output_type": "display_data"
    }
   ],
   "source": [
    "gmm2 = GaussianMixture(n_components=2)\n",
    "Y_gmm2 = gmm2.fit_predict(X_train_vec, Y_train)\n",
    "plot_clustering(Y_gmm2, X_train_pca)"
   ],
   "metadata": {
    "collapsed": false,
    "pycharm": {
     "name": "#%%\n"
    }
   }
  },
  {
   "cell_type": "markdown",
   "source": [
    "## Number of Clusters = 5"
   ],
   "metadata": {
    "collapsed": false
   }
  },
  {
   "cell_type": "code",
   "execution_count": 25,
   "outputs": [
    {
     "data": {
      "text/plain": "<Figure size 432x288 with 1 Axes>",
      "image/png": "[encoded data removed]"
     },
     "metadata": {
      "needs_background": "light"
     },
     "output_type": "display_data"
    }
   ],
   "source": [
    "gmm5 = GaussianMixture (n_components=5)\n",
    "Y_gmm5 = gmm5.fit_predict(X_train_vec, Y_train)\n",
    "plot_clustering(Y_gmm5, X_train_pca)"
   ],
   "metadata": {
    "collapsed": false,
    "pycharm": {
     "name": "#%%\n"
    }
   }
  },
  {
   "cell_type": "markdown",
   "source": [
    "## Performance on Training Data"
   ],
   "metadata": {
    "collapsed": false,
    "pycharm": {
     "name": "#%% md\n"
    }
   }
  },
  {
   "cell_type": "code",
   "execution_count": 26,
   "outputs": [
    {
     "name": "stdout",
     "output_type": "stream",
     "text": [
      "Test Evaluation:\n",
      "rand_score: 0.9391562328870101\n",
      "fowlkes_mallows_score: 0.9392216058065816\n"
     ]
    }
   ],
   "source": [
    "cluster_analysis(Y_train, Y_gmm2)"
   ],
   "metadata": {
    "collapsed": false,
    "pycharm": {
     "name": "#%%\n"
    }
   }
  },
  {
   "cell_type": "markdown",
   "source": [
    "## Performance on Test Data"
   ],
   "metadata": {
    "collapsed": false
   }
  },
  {
   "cell_type": "code",
   "execution_count": 27,
   "outputs": [
    {
     "name": "stdout",
     "output_type": "stream",
     "text": [
      "Test Evaluation:\n",
      "rand_score: 0.7201871020633933\n",
      "fowlkes_mallows_score: 0.7236858866273704\n"
     ]
    }
   ],
   "source": [
    "cluster_analysis(Y_test, gmm2.predict(X_test_vec))"
   ],
   "metadata": {
    "collapsed": false,
    "pycharm": {
     "name": "#%%\n"
    }
   }
  },
  {
   "cell_type": "markdown",
   "source": [
    "# Cluster Member's Similarity in Action"
   ],
   "metadata": {
    "collapsed": false,
    "pycharm": {
     "name": "#%% md\n"
    }
   }
  },
  {
   "cell_type": "code",
   "execution_count": 28,
   "outputs": [],
   "source": [
    "kmeans = KMeans(n_clusters=3)\n",
    "kmeans.fit(X_train_vec)\n",
    "Y_train_pred = kmeans.predict(X_train_vec)"
   ],
   "metadata": {
    "collapsed": false,
    "pycharm": {
     "name": "#%%\n"
    }
   }
  },
  {
   "cell_type": "code",
   "execution_count": 29,
   "outputs": [
    {
     "name": "stdout",
     "output_type": "stream",
     "text": [
      "Cluster 0:\n",
      "0\tmovie smile begin end partly humor partly meg ryan perfect character always one well feel good movie see hopefully dvd soon\n",
      "1\twatch movie almost quite kid naturally move tear story fox family fantastic scenery hokkaido excellent storytelling last not least wonderful soundtrack provide rare intimacy protagonist still search copy gorgeous soundtrack german viewer might useful know defa dub one worth listen tape defa br keep view first one\n",
      "2\tok everybody agree good season first kill boone bad desicion also kill other bad blame director writer bad boy still think good scifi series ever sorry guy can not help see quality series decrease first season still easy accept liam new main character boone really mysterious thing shock lilli write story something not deserve get blonde chick call renee absolutely character taelon stay mysterious stay wonder true plan till end true suspence conversation zoor daan sometimes brillianti understand jump episode th th th season may not understand show watch begin can not break loosethe act great special fx marvellous music beautiful plot intriguing got see guy\n",
      "3\thugely entertain short consider one good short ever certainly not argue even country top notch animate short create regularity film still manage stand ever get chance view film please ten minute long yet contain man obsess saw woman vacuums bathtub nuclear war could want film\n",
      "4\tgive opposite circumstance reality black president movie take quite powerful historical significance entertainment value find movie engage repugnant quite take back course blatant racism time also find music dance incredible also quite cool see sammy davis jr young child actor play rufus jones young boy console mammy tell day could president ridiculous mock think endear charming funny bulk movie fantasy sequence government would like run black man depict seat government like revivalist baptist churchthe fact stumble onto movie one day drew really well do entertain believe look beyond racism see movie bring we fact realize not not ridiculous black president normal make movie much relevant clearly mark moment time collective consciousness\n",
      "Cluster 1:\n",
      "0\thear novel long time ago many friend recommend read search every place finally find book every man read genius vision enjoy every pagei know movie could not wait see finally disappoint many thing book not movie not think spoiler make movie not logical michael radford might good director bad writer especially book adopter movie not dark write really bad thing good even great act john hurt amazing actor face could see winston smithwhat anger people imdb call good adaptation ever without even read book know anything screen writingyou understand brilliance story read book not consider alternative fan book disappointedthe point give movie go act\n",
      "1\tattempt watch highly disappointed not expect intelligent insightful humor ala amys brother david amidst dreck polar opposite poop fart boner joke seventh heaven bathroom humor aim assume several bong explain many ecstatic reviewer herald crap good television writing ever assume hate simpleton humor unable watch long enough care submit review send warning shoot unaware viewer look high end comedy character overact shock factor set laugh set zero unless course seek juvenile low brow humor make minute pray whole time would turn corner toward worthwhile entertainment alas get bad bad beware amys ever present hammy overbite expression set eye roll nice see cameo recognizable comedic actor enjoy assume agree participate favor sedaris familyto love sorry opinion bad inspire write first review\n",
      "2\twell zombie movie perhaps not even much zombie movie entire movie set zombie plague near future yet movie little concept instead focus zombie hunter try get revenge money back group bounty hunter good money anyway almost entire world go hell town mostly desolate pay money people kill zombies first place people would not go kill dangerous threaten monster not get paidneedless say story quick undead far tight one course also not fill logical interesting moment character dialogstill not completely horrible movie certainly not bad people try make believe rather good look one rather say movie least not cheap look effect may bit overused nevertheless quite good looking make effect wellstill movie not hope title might suggest movie set wild wild west day cowboy title mislead one doubt pick cash fall expect movie combination western gory zombie horror flickfor fan zombie movie movie mostly disappointment watch course add nothing new genre also not enough genre consider good one watchnot totally unwatchable also far recommendable one\n",
      "3\tone word film appalling director clearly talent like character robert carmichael throw awaycarmichael potential like cray can not bother use draw petty crime descend depravity cray vision british youth like british tabloids film portray young people aspiration respect cray cry attention deserve nonei appal act violence cray choose shove face audience assume audience ignorant world atrocity like piece obscene graffiti toilet wall show we male depravity adolescent gleesome actor quality small part film danny dyer leslie manville make short appearance act otherwise amateur young man joe ben cringe make carmichael play daniel spencer creepy miranda wilson play monica attractive wife celeb chef jonathon michael howe able subject ordeal beyond belief film never subtle monica treat gratuitous violence cut war action war imagery use convey idea young man can not help act violence occur within even civilised country certainly true symptomatic alter society male increasingly less important position cray descend level barbaric male seek expose use brutal violent image female character film offer relief either victim manville case wash mother community represent dysfunctionalthis cray first film listen say q session edinburugh not unintelligent simply lack experience film expose naivety film due release later year hope company go bust cos public really not need kind mess material\n",
      "4\tcould possibly wish sequel bert gordon legendary bad trash film food god nobody course director damien lee think good idea anyway put together belate sequel stand one redundant movie horror history gnaw sequel name setting move typical late location university campus also cheap cheesy gore effect perfectly illustrate script hang together cliche awfully write dialog plot situation not subtly steal successful horror classic neil hamilton goody two shoe scientist perform grow experiment ordinary rodent order fellow scientist favor due incredibly stupid animal right activist huge ravenous rat escape devour pretty much everyone campus follow good old tradition spielbergs jaw start obnoxious dean refuse admit problem even though severely mutilate corpse turn everywhere hysterically grotesque climax rat invade opening ceremony campus new sport complex gnaw food god terribly bad therefore lot fun watch character say unimaginably stupid stuff like descend sewer unarmed know infest rat act atrocious genuinely bizarre sequence involve hero sex influence growth serum wonder freud theory would satisfy amount gore sleaze say music surprisingly atmospheric case can not get enough junk quite lot creature feature revolve mutate rat like italian schlock film rat night terror modest cult film willard lame sequel ben willard remake star crispin glover surprisingly good recent rat movie famous director tibor ticak rat john lafia rat go nuts\n",
      "Cluster 2:\n",
      "0\tagree previous post cinematography good totally disagree rest nothing porno movie disguise artsy film show little boy naked not art amount child porn steer clear dud stupid film\n",
      "1\tadore hedy lamarr think vastly underrated actress nastassja kinski era critic not take seriously say thatthis film bore watch first time shock lack continuity not story makeup costume hedys makeup change shoot shot hair length style reason thing many writer undergo many stop start amazing ever release lady tropic begin film one begin yet release take woman fact time know hollywood take woman tell something spencer tracy fan well awful read various film history absolutely despise hedy lamarr look perfectly obvious film chemisty whatsoever story wander around reel reel finally roll end strangely can not recommend one\n",
      "2\twhether fan series inspire not deny patchy piece work well possible sense keen get away trapping old sitcom make uneasy transition big screen messr pemberton dyson shearmsith gatiss go different road address problem deal success along add creation inevitably rehash well love character pity not stick consistent league gent movie inventive include screenplay weaken finish movie well worth rent though\n",
      "3\tsee bit piece tv friend recommend begin look even though seem place nearby finally got hold antique store could not wait watch itoh see couple year early could really enjoy surprised movie minute long think make plot story lack plot really sound like good one trailer movie comment teenager angus jesse bradford newfound stray lab yellow marooned island storm boat trip father bruce davison together manage survive wilderness wait find rescue still never mention everything shorten event plot rush possible love interest angus sara never show together moment yellow mischievous dog parent reluctant keep day seem appreciate enough join boat trip scene mother mimi roger mention vaguely death like young boy joel palmer not go anywhere time learn day spend island suddenly animal castaway could expose wild kind wolf attack could not something else problem instead type animal maybe even one strike twice view angus prepare food except discover fruit root roast trap rat know much survival skill not scene show one thing make blank dog not much part alone rescue dog leave behind island scene show survive without human help wish open watch enjoy act good score enjoyable though find wonder father look much old family main search rescue conductor share name good movie kid though protagonist nobody would interested\n",
      "4\tnot quite sure movie not play way humerous fun instead bore think large part way play gadget old cartoon base much well\n"
     ]
    },
    {
     "data": {
      "text/plain": "<Figure size 432x288 with 1 Axes>",
      "image/png": "[encoded data removed]"
     },
     "metadata": {
      "needs_background": "light"
     },
     "output_type": "display_data"
    }
   ],
   "source": [
    "for i in range(3):\n",
    "    print(f'Cluster {i}:')\n",
    "    points = X_train_pca[Y_train_pred == i]\n",
    "    plt.scatter(points[:, 0], points[:, 1], label=i)\n",
    "    for i, item in enumerate(X_train[Y_train_pred == i].head(5)):\n",
    "        print(f'{i}\\t{item}')\n",
    "plt.legend()\n",
    "plt.show()"
   ],
   "metadata": {
    "collapsed": false,
    "pycharm": {
     "name": "#%%\n"
    }
   }
  },
  {
   "cell_type": "markdown",
   "source": [
    "# Fine-Tuning"
   ],
   "metadata": {
    "collapsed": false,
    "pycharm": {
     "name": "#%% md\n"
    }
   }
  },
  {
   "cell_type": "markdown",
   "source": [
    "## Without pre-training"
   ],
   "metadata": {
    "collapsed": false,
    "pycharm": {
     "name": "#%% md\n"
    }
   }
  },
  {
   "cell_type": "code",
   "execution_count": 30,
   "outputs": [],
   "source": [
    "from google_drive_downloader import GoogleDriveDownloader as gdd\n",
    "\n",
    "gdd.download_file_from_google_drive(file_id='1uykBJxWH5v5BsSuuwM0r9WLiKWQrDiDJ', dest_path=('./dataset2.csv'))\n",
    "dataset2 = pd.read_csv('./dataset2.csv')"
   ],
   "metadata": {
    "collapsed": false,
    "pycharm": {
     "name": "#%%\n"
    }
   }
  },
  {
   "cell_type": "code",
   "execution_count": 31,
   "outputs": [
    {
     "data": {
      "text/plain": "Pandas Apply:   0%|          | 0/500 [00:00<?, ?it/s]",
      "application/vnd.jupyter.widget-view+json": {
       "version_major": 2,
       "version_minor": 0,
       "model_id": "92bab3e265734ffaab1bd380ccab370f"
      }
     },
     "metadata": {},
     "output_type": "display_data"
    }
   ],
   "source": [
    "X_train2, X_test2, Y_train2, Y_test2 = train_test_split(\n",
    "    *preprocess_data(dataset2, processor_chain=advanced_processor_chain_factory.create('lem'), debug=False))"
   ],
   "metadata": {
    "collapsed": false,
    "pycharm": {
     "name": "#%%\n"
    }
   }
  },
  {
   "cell_type": "code",
   "execution_count": 32,
   "outputs": [],
   "source": [
    "vectorizer2 = CountVectorizer(max_features=2000)\n",
    "vectorizer2.fit(pd.concat([X_train2, X_test2]))\n",
    "X_train_vec2 = vectorizer2.transform(X_train2)\n",
    "X_test_vec2 = vectorizer2.transform(X_test2)"
   ],
   "metadata": {
    "collapsed": false,
    "pycharm": {
     "name": "#%%\n"
    }
   }
  },
  {
   "cell_type": "code",
   "execution_count": 33,
   "outputs": [
    {
     "name": "stdout",
     "output_type": "stream",
     "text": [
      "Report: Classification\n",
      "               precision    recall  f1-score   support\n",
      "\n",
      "    positive       0.87      0.66      0.75        71\n",
      "    negative       0.66      0.87      0.75        54\n",
      "\n",
      "    accuracy                           0.75       125\n",
      "   macro avg       0.77      0.77      0.75       125\n",
      "weighted avg       0.78      0.75      0.75       125\n",
      "\n",
      "Matrix: Confusion\n",
      " [[47 24]\n",
      " [ 7 47]]\n",
      "Accuracy:\n",
      " 0.752\n"
     ]
    },
    {
     "name": "stderr",
     "output_type": "stream",
     "text": [
      "/home/mryf/PycharmProjects/ml_final_project/venv/lib/python3.6/site-packages/sklearn/neural_network/_multilayer_perceptron.py:617: ConvergenceWarning: Stochastic Optimizer: Maximum iterations (200) reached and the optimization hasn't converged yet.\n",
      "  % self.max_iter, ConvergenceWarning)\n"
     ]
    },
    {
     "data": {
      "text/plain": "0.752"
     },
     "execution_count": 33,
     "metadata": {},
     "output_type": "execute_result"
    }
   ],
   "source": [
    "model = MLPClassifier(hidden_layer_sizes=(1000, 500, 250, 5), activation='tanh')\n",
    "model.fit(X_train_vec2, Y_train2)\n",
    "analysis(Y_test2, model.predict(X_test_vec2))"
   ],
   "metadata": {
    "collapsed": false,
    "pycharm": {
     "name": "#%%\n"
    }
   }
  },
  {
   "cell_type": "markdown",
   "source": [
    "## With pre-training"
   ],
   "metadata": {
    "collapsed": false,
    "pycharm": {
     "name": "#%% md\n"
    }
   }
  },
  {
   "cell_type": "code",
   "execution_count": 34,
   "outputs": [],
   "source": [
    "X_train_vec2 = vectorizer.transform(X_train2)\n",
    "X_test_vec2 = vectorizer.transform(X_test2)"
   ],
   "metadata": {
    "collapsed": false,
    "pycharm": {
     "name": "#%%\n"
    }
   }
  },
  {
   "cell_type": "code",
   "execution_count": 35,
   "outputs": [
    {
     "name": "stdout",
     "output_type": "stream",
     "text": [
      "Report: Classification\n",
      "               precision    recall  f1-score   support\n",
      "\n",
      "    positive       0.89      0.72      0.80        71\n",
      "    negative       0.71      0.89      0.79        54\n",
      "\n",
      "    accuracy                           0.79       125\n",
      "   macro avg       0.80      0.80      0.79       125\n",
      "weighted avg       0.81      0.79      0.79       125\n",
      "\n",
      "Matrix: Confusion\n",
      " [[51 20]\n",
      " [ 6 48]]\n",
      "Accuracy:\n",
      " 0.792\n"
     ]
    },
    {
     "data": {
      "text/plain": "0.7868852459016393"
     },
     "execution_count": 35,
     "metadata": {},
     "output_type": "execute_result"
    }
   ],
   "source": [
    "mlp.partial_fit(X_train_vec2, Y_train2)\n",
    "analysis(Y_test2, mlp.predict(X_test_vec2))"
   ],
   "metadata": {
    "collapsed": false,
    "pycharm": {
     "name": "#%%\n"
    }
   }
  }
 ],
 "metadata": {
  "kernelspec": {
   "display_name": "Python 3",
   "language": "python",
   "name": "python3"
  },
  "language_info": {
   "codemirror_mode": {
    "name": "ipython",
    "version": 2
   },
   "file_extension": ".py",
   "mimetype": "text/x-python",
   "name": "python",
   "nbconvert_exporter": "python",
   "pygments_lexer": "ipython2",
   "version": "2.7.6"
  }
 },
 "nbformat": 4,
 "nbformat_minor": 0
}